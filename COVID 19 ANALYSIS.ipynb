{
 "cells": [
  {
   "cell_type": "code",
   "execution_count": 32,
   "metadata": {},
   "outputs": [],
   "source": [
    "# importing the required libraries\n",
    "import pandas as pd\n",
    "\n",
    "# Visualisation libraries\n",
    "import matplotlib.pyplot as plt\n",
    "%matplotlib inline\n",
    "import seaborn as sns\n",
    "import plotly.express as px\n",
    "import plotly.graph_objects as go\n",
    "\n",
    "# Manipulating the default plot size\n",
    "plt.rcParams['figure.figsize'] = 10, 12\n",
    "\n",
    "# Disable warnings \n",
    "import warnings\n",
    "warnings.filterwarnings('ignore')"
   ]
  },
  {
   "cell_type": "code",
   "execution_count": 25,
   "metadata": {},
   "outputs": [
    {
     "data": {
      "text/html": [
       "<div>\n",
       "<style scoped>\n",
       "    .dataframe tbody tr th:only-of-type {\n",
       "        vertical-align: middle;\n",
       "    }\n",
       "\n",
       "    .dataframe tbody tr th {\n",
       "        vertical-align: top;\n",
       "    }\n",
       "\n",
       "    .dataframe thead th {\n",
       "        text-align: right;\n",
       "    }\n",
       "</style>\n",
       "<table border=\"1\" class=\"dataframe\">\n",
       "  <thead>\n",
       "    <tr style=\"text-align: right;\">\n",
       "      <th></th>\n",
       "      <th>state</th>\n",
       "      <th>confirmed</th>\n",
       "      <th>recovered</th>\n",
       "      <th>deaths</th>\n",
       "    </tr>\n",
       "  </thead>\n",
       "  <tbody>\n",
       "    <tr>\n",
       "      <th>0</th>\n",
       "      <td>Maharashtra</td>\n",
       "      <td>30706</td>\n",
       "      <td>7088</td>\n",
       "      <td>1135</td>\n",
       "    </tr>\n",
       "    <tr>\n",
       "      <th>1</th>\n",
       "      <td>Tamil Nadu</td>\n",
       "      <td>10585</td>\n",
       "      <td>3538</td>\n",
       "      <td>74</td>\n",
       "    </tr>\n",
       "    <tr>\n",
       "      <th>2</th>\n",
       "      <td>Gujarat</td>\n",
       "      <td>10989</td>\n",
       "      <td>4308</td>\n",
       "      <td>625</td>\n",
       "    </tr>\n",
       "    <tr>\n",
       "      <th>3</th>\n",
       "      <td>Delhi</td>\n",
       "      <td>9333</td>\n",
       "      <td>3926</td>\n",
       "      <td>129</td>\n",
       "    </tr>\n",
       "    <tr>\n",
       "      <th>4</th>\n",
       "      <td>Madhya Pradesh</td>\n",
       "      <td>4790</td>\n",
       "      <td>2315</td>\n",
       "      <td>243</td>\n",
       "    </tr>\n",
       "    <tr>\n",
       "      <th>5</th>\n",
       "      <td>Rajasthan</td>\n",
       "      <td>5030</td>\n",
       "      <td>2991</td>\n",
       "      <td>128</td>\n",
       "    </tr>\n",
       "    <tr>\n",
       "      <th>6</th>\n",
       "      <td>Uttar Pradesh</td>\n",
       "      <td>4258</td>\n",
       "      <td>2441</td>\n",
       "      <td>104</td>\n",
       "    </tr>\n",
       "    <tr>\n",
       "      <th>7</th>\n",
       "      <td>West Bengal</td>\n",
       "      <td>2576</td>\n",
       "      <td>892</td>\n",
       "      <td>232</td>\n",
       "    </tr>\n",
       "    <tr>\n",
       "      <th>8</th>\n",
       "      <td>Andhra Pradesh</td>\n",
       "      <td>2355</td>\n",
       "      <td>1353</td>\n",
       "      <td>49</td>\n",
       "    </tr>\n",
       "    <tr>\n",
       "      <th>9</th>\n",
       "      <td>Punjab</td>\n",
       "      <td>1946</td>\n",
       "      <td>1257</td>\n",
       "      <td>32</td>\n",
       "    </tr>\n",
       "    <tr>\n",
       "      <th>10</th>\n",
       "      <td>Telangana</td>\n",
       "      <td>1509</td>\n",
       "      <td>971</td>\n",
       "      <td>34</td>\n",
       "    </tr>\n",
       "    <tr>\n",
       "      <th>11</th>\n",
       "      <td>Bihar</td>\n",
       "      <td>1178</td>\n",
       "      <td>440</td>\n",
       "      <td>7</td>\n",
       "    </tr>\n",
       "    <tr>\n",
       "      <th>12</th>\n",
       "      <td>Karnataka</td>\n",
       "      <td>1092</td>\n",
       "      <td>496</td>\n",
       "      <td>36</td>\n",
       "    </tr>\n",
       "    <tr>\n",
       "      <th>13</th>\n",
       "      <td>Jammu and Kashmir</td>\n",
       "      <td>1121</td>\n",
       "      <td>542</td>\n",
       "      <td>12</td>\n",
       "    </tr>\n",
       "    <tr>\n",
       "      <th>14</th>\n",
       "      <td>Haryana</td>\n",
       "      <td>887</td>\n",
       "      <td>514</td>\n",
       "      <td>13</td>\n",
       "    </tr>\n",
       "    <tr>\n",
       "      <th>15</th>\n",
       "      <td>Odisha</td>\n",
       "      <td>828</td>\n",
       "      <td>196</td>\n",
       "      <td>5</td>\n",
       "    </tr>\n",
       "    <tr>\n",
       "      <th>16</th>\n",
       "      <td>Kerala</td>\n",
       "      <td>588</td>\n",
       "      <td>497</td>\n",
       "      <td>4</td>\n",
       "    </tr>\n",
       "    <tr>\n",
       "      <th>17</th>\n",
       "      <td>Chandigarh</td>\n",
       "      <td>191</td>\n",
       "      <td>51</td>\n",
       "      <td>3</td>\n",
       "    </tr>\n",
       "    <tr>\n",
       "      <th>18</th>\n",
       "      <td>Jharkhand</td>\n",
       "      <td>217</td>\n",
       "      <td>113</td>\n",
       "      <td>3</td>\n",
       "    </tr>\n",
       "    <tr>\n",
       "      <th>19</th>\n",
       "      <td>Tripura</td>\n",
       "      <td>167</td>\n",
       "      <td>64</td>\n",
       "      <td>0</td>\n",
       "    </tr>\n",
       "    <tr>\n",
       "      <th>20</th>\n",
       "      <td>Assam</td>\n",
       "      <td>96</td>\n",
       "      <td>41</td>\n",
       "      <td>2</td>\n",
       "    </tr>\n",
       "    <tr>\n",
       "      <th>21</th>\n",
       "      <td>Uttarakhand</td>\n",
       "      <td>91</td>\n",
       "      <td>51</td>\n",
       "      <td>1</td>\n",
       "    </tr>\n",
       "    <tr>\n",
       "      <th>22</th>\n",
       "      <td>Himachal Pradesh</td>\n",
       "      <td>78</td>\n",
       "      <td>39</td>\n",
       "      <td>3</td>\n",
       "    </tr>\n",
       "    <tr>\n",
       "      <th>23</th>\n",
       "      <td>Chhattisgarh</td>\n",
       "      <td>67</td>\n",
       "      <td>58</td>\n",
       "      <td>0</td>\n",
       "    </tr>\n",
       "    <tr>\n",
       "      <th>24</th>\n",
       "      <td>Ladakh</td>\n",
       "      <td>43</td>\n",
       "      <td>24</td>\n",
       "      <td>0</td>\n",
       "    </tr>\n",
       "    <tr>\n",
       "      <th>25</th>\n",
       "      <td>Andaman and Nicobar Islands</td>\n",
       "      <td>33</td>\n",
       "      <td>33</td>\n",
       "      <td>0</td>\n",
       "    </tr>\n",
       "    <tr>\n",
       "      <th>26</th>\n",
       "      <td>Goa</td>\n",
       "      <td>20</td>\n",
       "      <td>7</td>\n",
       "      <td>0</td>\n",
       "    </tr>\n",
       "    <tr>\n",
       "      <th>27</th>\n",
       "      <td>Meghalaya</td>\n",
       "      <td>13</td>\n",
       "      <td>11</td>\n",
       "      <td>1</td>\n",
       "    </tr>\n",
       "    <tr>\n",
       "      <th>28</th>\n",
       "      <td>Puducherry</td>\n",
       "      <td>16</td>\n",
       "      <td>9</td>\n",
       "      <td>0</td>\n",
       "    </tr>\n",
       "    <tr>\n",
       "      <th>29</th>\n",
       "      <td>Manipur</td>\n",
       "      <td>7</td>\n",
       "      <td>2</td>\n",
       "      <td>0</td>\n",
       "    </tr>\n",
       "    <tr>\n",
       "      <th>30</th>\n",
       "      <td>Mizoram</td>\n",
       "      <td>1</td>\n",
       "      <td>1</td>\n",
       "      <td>0</td>\n",
       "    </tr>\n",
       "    <tr>\n",
       "      <th>31</th>\n",
       "      <td>Arunachal Pradesh</td>\n",
       "      <td>1</td>\n",
       "      <td>1</td>\n",
       "      <td>0</td>\n",
       "    </tr>\n",
       "    <tr>\n",
       "      <th>32</th>\n",
       "      <td>Dadra and Nagar Haveli and Daman and Diu</td>\n",
       "      <td>1</td>\n",
       "      <td>1</td>\n",
       "      <td>0</td>\n",
       "    </tr>\n",
       "    <tr>\n",
       "      <th>33</th>\n",
       "      <td>Nagaland</td>\n",
       "      <td>0</td>\n",
       "      <td>0</td>\n",
       "      <td>0</td>\n",
       "    </tr>\n",
       "    <tr>\n",
       "      <th>34</th>\n",
       "      <td>Daman and Diu</td>\n",
       "      <td>0</td>\n",
       "      <td>0</td>\n",
       "      <td>0</td>\n",
       "    </tr>\n",
       "    <tr>\n",
       "      <th>35</th>\n",
       "      <td>Lakshadweep</td>\n",
       "      <td>0</td>\n",
       "      <td>0</td>\n",
       "      <td>0</td>\n",
       "    </tr>\n",
       "    <tr>\n",
       "      <th>36</th>\n",
       "      <td>Sikkim</td>\n",
       "      <td>0</td>\n",
       "      <td>0</td>\n",
       "      <td>0</td>\n",
       "    </tr>\n",
       "  </tbody>\n",
       "</table>\n",
       "</div>"
      ],
      "text/plain": [
       "                                       state  confirmed  recovered  deaths\n",
       "0                                Maharashtra      30706       7088    1135\n",
       "1                                 Tamil Nadu      10585       3538      74\n",
       "2                                    Gujarat      10989       4308     625\n",
       "3                                      Delhi       9333       3926     129\n",
       "4                             Madhya Pradesh       4790       2315     243\n",
       "5                                  Rajasthan       5030       2991     128\n",
       "6                              Uttar Pradesh       4258       2441     104\n",
       "7                                West Bengal       2576        892     232\n",
       "8                             Andhra Pradesh       2355       1353      49\n",
       "9                                     Punjab       1946       1257      32\n",
       "10                                 Telangana       1509        971      34\n",
       "11                                     Bihar       1178        440       7\n",
       "12                                 Karnataka       1092        496      36\n",
       "13                         Jammu and Kashmir       1121        542      12\n",
       "14                                   Haryana        887        514      13\n",
       "15                                    Odisha        828        196       5\n",
       "16                                    Kerala        588        497       4\n",
       "17                                Chandigarh        191         51       3\n",
       "18                                 Jharkhand        217        113       3\n",
       "19                                   Tripura        167         64       0\n",
       "20                                     Assam         96         41       2\n",
       "21                               Uttarakhand         91         51       1\n",
       "22                          Himachal Pradesh         78         39       3\n",
       "23                              Chhattisgarh         67         58       0\n",
       "24                                    Ladakh         43         24       0\n",
       "25               Andaman and Nicobar Islands         33         33       0\n",
       "26                                       Goa         20          7       0\n",
       "27                                 Meghalaya         13         11       1\n",
       "28                                Puducherry         16          9       0\n",
       "29                                   Manipur          7          2       0\n",
       "30                                   Mizoram          1          1       0\n",
       "31                         Arunachal Pradesh          1          1       0\n",
       "32  Dadra and Nagar Haveli and Daman and Diu          1          1       0\n",
       "33                                  Nagaland          0          0       0\n",
       "34                             Daman and Diu          0          0       0\n",
       "35                               Lakshadweep          0          0       0\n",
       "36                                    Sikkim          0          0       0"
      ]
     },
     "execution_count": 25,
     "metadata": {},
     "output_type": "execute_result"
    }
   ],
   "source": [
    "#Learn how to read a .xls file by creating a dataframe using pandas\n",
    "# Reading the datasets\n",
    "df= pd.read_csv('C:/Users/Sai Sarath/Desktop/Sem6/state_level_latest.csv')\n",
    "df_india = df.copy()\n",
    "df"
   ]
  },
  {
   "cell_type": "code",
   "execution_count": 26,
   "metadata": {},
   "outputs": [
    {
     "name": "stdout",
     "output_type": "stream",
     "text": [
      "Total number of confirmed COVID 2019 cases across India till date (16th May, 2020): 90813\n"
     ]
    }
   ],
   "source": [
    "total_cases = df['confirmed'].sum()\n",
    "print('Total number of confirmed COVID 2019 cases across India till date (16th May, 2020):', total_cases)"
   ]
  },
  {
   "cell_type": "code",
   "execution_count": 96,
   "metadata": {},
   "outputs": [
    {
     "data": {
      "text/html": [
       "<style  type=\"text/css\" >\n",
       "    #T_d07ba0cc_9860_11ea_942d_54e1adcb4cf0row0_col1 {\n",
       "            background-color:  #ffff66;\n",
       "        }    #T_d07ba0cc_9860_11ea_942d_54e1adcb4cf0row0_col2 {\n",
       "            background-color:  #ffff66;\n",
       "        }    #T_d07ba0cc_9860_11ea_942d_54e1adcb4cf0row0_col3 {\n",
       "            background-color:  #ffff66;\n",
       "        }    #T_d07ba0cc_9860_11ea_942d_54e1adcb4cf0row0_col4 {\n",
       "            background-color:  #ffff66;\n",
       "        }    #T_d07ba0cc_9860_11ea_942d_54e1adcb4cf0row1_col1 {\n",
       "            background-color:  #58ac66;\n",
       "        }    #T_d07ba0cc_9860_11ea_942d_54e1adcb4cf0row1_col2 {\n",
       "            background-color:  #7fbf66;\n",
       "        }    #T_d07ba0cc_9860_11ea_942d_54e1adcb4cf0row1_col3 {\n",
       "            background-color:  #108866;\n",
       "        }    #T_d07ba0cc_9860_11ea_942d_54e1adcb4cf0row1_col4 {\n",
       "            background-color:  #4fa766;\n",
       "        }    #T_d07ba0cc_9860_11ea_942d_54e1adcb4cf0row2_col1 {\n",
       "            background-color:  #5bad66;\n",
       "        }    #T_d07ba0cc_9860_11ea_942d_54e1adcb4cf0row2_col2 {\n",
       "            background-color:  #9bcd66;\n",
       "        }    #T_d07ba0cc_9860_11ea_942d_54e1adcb4cf0row2_col3 {\n",
       "            background-color:  #8cc666;\n",
       "        }    #T_d07ba0cc_9860_11ea_942d_54e1adcb4cf0row2_col4 {\n",
       "            background-color:  #44a266;\n",
       "        }    #T_d07ba0cc_9860_11ea_942d_54e1adcb4cf0row3_col1 {\n",
       "            background-color:  #4da666;\n",
       "        }    #T_d07ba0cc_9860_11ea_942d_54e1adcb4cf0row3_col2 {\n",
       "            background-color:  #8dc666;\n",
       "        }    #T_d07ba0cc_9860_11ea_942d_54e1adcb4cf0row3_col3 {\n",
       "            background-color:  #1d8e66;\n",
       "        }    #T_d07ba0cc_9860_11ea_942d_54e1adcb4cf0row3_col4 {\n",
       "            background-color:  #3c9e66;\n",
       "        }    #T_d07ba0cc_9860_11ea_942d_54e1adcb4cf0row4_col1 {\n",
       "            background-color:  #279366;\n",
       "        }    #T_d07ba0cc_9860_11ea_942d_54e1adcb4cf0row4_col2 {\n",
       "            background-color:  #53a966;\n",
       "        }    #T_d07ba0cc_9860_11ea_942d_54e1adcb4cf0row4_col3 {\n",
       "            background-color:  #369a66;\n",
       "        }    #T_d07ba0cc_9860_11ea_942d_54e1adcb4cf0row4_col4 {\n",
       "            background-color:  #198c66;\n",
       "        }    #T_d07ba0cc_9860_11ea_942d_54e1adcb4cf0row5_col1 {\n",
       "            background-color:  #299466;\n",
       "        }    #T_d07ba0cc_9860_11ea_942d_54e1adcb4cf0row5_col2 {\n",
       "            background-color:  #6cb666;\n",
       "        }    #T_d07ba0cc_9860_11ea_942d_54e1adcb4cf0row5_col3 {\n",
       "            background-color:  #1c8e66;\n",
       "        }    #T_d07ba0cc_9860_11ea_942d_54e1adcb4cf0row5_col4 {\n",
       "            background-color:  #158a66;\n",
       "        }    #T_d07ba0cc_9860_11ea_942d_54e1adcb4cf0row6_col1 {\n",
       "            background-color:  #239166;\n",
       "        }    #T_d07ba0cc_9860_11ea_942d_54e1adcb4cf0row6_col2 {\n",
       "            background-color:  #58ac66;\n",
       "        }    #T_d07ba0cc_9860_11ea_942d_54e1adcb4cf0row6_col3 {\n",
       "            background-color:  #178b66;\n",
       "        }    #T_d07ba0cc_9860_11ea_942d_54e1adcb4cf0row6_col4 {\n",
       "            background-color:  #138966;\n",
       "        }    #T_d07ba0cc_9860_11ea_942d_54e1adcb4cf0row7_col1 {\n",
       "            background-color:  #158a66;\n",
       "        }    #T_d07ba0cc_9860_11ea_942d_54e1adcb4cf0row7_col2 {\n",
       "            background-color:  #209066;\n",
       "        }    #T_d07ba0cc_9860_11ea_942d_54e1adcb4cf0row7_col3 {\n",
       "            background-color:  #349a66;\n",
       "        }    #T_d07ba0cc_9860_11ea_942d_54e1adcb4cf0row7_col4 {\n",
       "            background-color:  #108866;\n",
       "        }    #T_d07ba0cc_9860_11ea_942d_54e1adcb4cf0row8_col1 {\n",
       "            background-color:  #138966;\n",
       "        }    #T_d07ba0cc_9860_11ea_942d_54e1adcb4cf0row8_col2 {\n",
       "            background-color:  #309866;\n",
       "        }    #T_d07ba0cc_9860_11ea_942d_54e1adcb4cf0row8_col3 {\n",
       "            background-color:  #0b8566;\n",
       "        }    #T_d07ba0cc_9860_11ea_942d_54e1adcb4cf0row8_col4 {\n",
       "            background-color:  #0a8466;\n",
       "        }    #T_d07ba0cc_9860_11ea_942d_54e1adcb4cf0row9_col1 {\n",
       "            background-color:  #108866;\n",
       "        }    #T_d07ba0cc_9860_11ea_942d_54e1adcb4cf0row9_col2 {\n",
       "            background-color:  #2d9666;\n",
       "        }    #T_d07ba0cc_9860_11ea_942d_54e1adcb4cf0row9_col3 {\n",
       "            background-color:  #078366;\n",
       "        }    #T_d07ba0cc_9860_11ea_942d_54e1adcb4cf0row9_col4 {\n",
       "            background-color:  #078366;\n",
       "        }    #T_d07ba0cc_9860_11ea_942d_54e1adcb4cf0row10_col1 {\n",
       "            background-color:  #0c8666;\n",
       "        }    #T_d07ba0cc_9860_11ea_942d_54e1adcb4cf0row10_col2 {\n",
       "            background-color:  #239166;\n",
       "        }    #T_d07ba0cc_9860_11ea_942d_54e1adcb4cf0row10_col3 {\n",
       "            background-color:  #078366;\n",
       "        }    #T_d07ba0cc_9860_11ea_942d_54e1adcb4cf0row10_col4 {\n",
       "            background-color:  #058266;\n",
       "        }    #T_d07ba0cc_9860_11ea_942d_54e1adcb4cf0row11_col1 {\n",
       "            background-color:  #098466;\n",
       "        }    #T_d07ba0cc_9860_11ea_942d_54e1adcb4cf0row11_col2 {\n",
       "            background-color:  #0f8766;\n",
       "        }    #T_d07ba0cc_9860_11ea_942d_54e1adcb4cf0row11_col3 {\n",
       "            background-color:  #018066;\n",
       "        }    #T_d07ba0cc_9860_11ea_942d_54e1adcb4cf0row11_col4 {\n",
       "            background-color:  #088466;\n",
       "        }    #T_d07ba0cc_9860_11ea_942d_54e1adcb4cf0row12_col1 {\n",
       "            background-color:  #098466;\n",
       "        }    #T_d07ba0cc_9860_11ea_942d_54e1adcb4cf0row12_col2 {\n",
       "            background-color:  #118866;\n",
       "        }    #T_d07ba0cc_9860_11ea_942d_54e1adcb4cf0row12_col3 {\n",
       "            background-color:  #088466;\n",
       "        }    #T_d07ba0cc_9860_11ea_942d_54e1adcb4cf0row12_col4 {\n",
       "            background-color:  #068266;\n",
       "        }    #T_d07ba0cc_9860_11ea_942d_54e1adcb4cf0row13_col1 {\n",
       "            background-color:  #098466;\n",
       "        }    #T_d07ba0cc_9860_11ea_942d_54e1adcb4cf0row13_col2 {\n",
       "            background-color:  #138966;\n",
       "        }    #T_d07ba0cc_9860_11ea_942d_54e1adcb4cf0row13_col3 {\n",
       "            background-color:  #028066;\n",
       "        }    #T_d07ba0cc_9860_11ea_942d_54e1adcb4cf0row13_col4 {\n",
       "            background-color:  #068266;\n",
       "        }    #T_d07ba0cc_9860_11ea_942d_54e1adcb4cf0row14_col1 {\n",
       "            background-color:  #078366;\n",
       "        }    #T_d07ba0cc_9860_11ea_942d_54e1adcb4cf0row14_col2 {\n",
       "            background-color:  #128866;\n",
       "        }    #T_d07ba0cc_9860_11ea_942d_54e1adcb4cf0row14_col3 {\n",
       "            background-color:  #028066;\n",
       "        }    #T_d07ba0cc_9860_11ea_942d_54e1adcb4cf0row14_col4 {\n",
       "            background-color:  #048266;\n",
       "        }    #T_d07ba0cc_9860_11ea_942d_54e1adcb4cf0row15_col1 {\n",
       "            background-color:  #068266;\n",
       "        }    #T_d07ba0cc_9860_11ea_942d_54e1adcb4cf0row15_col2 {\n",
       "            background-color:  #078366;\n",
       "        }    #T_d07ba0cc_9860_11ea_942d_54e1adcb4cf0row15_col3 {\n",
       "            background-color:  #018066;\n",
       "        }    #T_d07ba0cc_9860_11ea_942d_54e1adcb4cf0row15_col4 {\n",
       "            background-color:  #078366;\n",
       "        }    #T_d07ba0cc_9860_11ea_942d_54e1adcb4cf0row16_col1 {\n",
       "            background-color:  #048266;\n",
       "        }    #T_d07ba0cc_9860_11ea_942d_54e1adcb4cf0row16_col2 {\n",
       "            background-color:  #118866;\n",
       "        }    #T_d07ba0cc_9860_11ea_942d_54e1adcb4cf0row16_col3 {\n",
       "            background-color:  #008066;\n",
       "        }    #T_d07ba0cc_9860_11ea_942d_54e1adcb4cf0row16_col4 {\n",
       "            background-color:  #008066;\n",
       "        }    #T_d07ba0cc_9860_11ea_942d_54e1adcb4cf0row17_col1 {\n",
       "            background-color:  #018066;\n",
       "        }    #T_d07ba0cc_9860_11ea_942d_54e1adcb4cf0row17_col2 {\n",
       "            background-color:  #018066;\n",
       "        }    #T_d07ba0cc_9860_11ea_942d_54e1adcb4cf0row17_col3 {\n",
       "            background-color:  #008066;\n",
       "        }    #T_d07ba0cc_9860_11ea_942d_54e1adcb4cf0row17_col4 {\n",
       "            background-color:  #018066;\n",
       "        }    #T_d07ba0cc_9860_11ea_942d_54e1adcb4cf0row18_col1 {\n",
       "            background-color:  #018066;\n",
       "        }    #T_d07ba0cc_9860_11ea_942d_54e1adcb4cf0row18_col2 {\n",
       "            background-color:  #048266;\n",
       "        }    #T_d07ba0cc_9860_11ea_942d_54e1adcb4cf0row18_col3 {\n",
       "            background-color:  #008066;\n",
       "        }    #T_d07ba0cc_9860_11ea_942d_54e1adcb4cf0row18_col4 {\n",
       "            background-color:  #018066;\n",
       "        }    #T_d07ba0cc_9860_11ea_942d_54e1adcb4cf0row19_col1 {\n",
       "            background-color:  #018066;\n",
       "        }    #T_d07ba0cc_9860_11ea_942d_54e1adcb4cf0row19_col2 {\n",
       "            background-color:  #028066;\n",
       "        }    #T_d07ba0cc_9860_11ea_942d_54e1adcb4cf0row19_col3 {\n",
       "            background-color:  #008066;\n",
       "        }    #T_d07ba0cc_9860_11ea_942d_54e1adcb4cf0row19_col4 {\n",
       "            background-color:  #018066;\n",
       "        }    #T_d07ba0cc_9860_11ea_942d_54e1adcb4cf0row20_col1 {\n",
       "            background-color:  #008066;\n",
       "        }    #T_d07ba0cc_9860_11ea_942d_54e1adcb4cf0row20_col2 {\n",
       "            background-color:  #018066;\n",
       "        }    #T_d07ba0cc_9860_11ea_942d_54e1adcb4cf0row20_col3 {\n",
       "            background-color:  #008066;\n",
       "        }    #T_d07ba0cc_9860_11ea_942d_54e1adcb4cf0row20_col4 {\n",
       "            background-color:  #008066;\n",
       "        }    #T_d07ba0cc_9860_11ea_942d_54e1adcb4cf0row21_col1 {\n",
       "            background-color:  #008066;\n",
       "        }    #T_d07ba0cc_9860_11ea_942d_54e1adcb4cf0row21_col2 {\n",
       "            background-color:  #018066;\n",
       "        }    #T_d07ba0cc_9860_11ea_942d_54e1adcb4cf0row21_col3 {\n",
       "            background-color:  #008066;\n",
       "        }    #T_d07ba0cc_9860_11ea_942d_54e1adcb4cf0row21_col4 {\n",
       "            background-color:  #008066;\n",
       "        }    #T_d07ba0cc_9860_11ea_942d_54e1adcb4cf0row22_col1 {\n",
       "            background-color:  #008066;\n",
       "        }    #T_d07ba0cc_9860_11ea_942d_54e1adcb4cf0row22_col2 {\n",
       "            background-color:  #018066;\n",
       "        }    #T_d07ba0cc_9860_11ea_942d_54e1adcb4cf0row22_col3 {\n",
       "            background-color:  #008066;\n",
       "        }    #T_d07ba0cc_9860_11ea_942d_54e1adcb4cf0row22_col4 {\n",
       "            background-color:  #008066;\n",
       "        }    #T_d07ba0cc_9860_11ea_942d_54e1adcb4cf0row23_col1 {\n",
       "            background-color:  #008066;\n",
       "        }    #T_d07ba0cc_9860_11ea_942d_54e1adcb4cf0row23_col2 {\n",
       "            background-color:  #028066;\n",
       "        }    #T_d07ba0cc_9860_11ea_942d_54e1adcb4cf0row23_col3 {\n",
       "            background-color:  #008066;\n",
       "        }    #T_d07ba0cc_9860_11ea_942d_54e1adcb4cf0row23_col4 {\n",
       "            background-color:  #008066;\n",
       "        }    #T_d07ba0cc_9860_11ea_942d_54e1adcb4cf0row24_col1 {\n",
       "            background-color:  #008066;\n",
       "        }    #T_d07ba0cc_9860_11ea_942d_54e1adcb4cf0row24_col2 {\n",
       "            background-color:  #008066;\n",
       "        }    #T_d07ba0cc_9860_11ea_942d_54e1adcb4cf0row24_col3 {\n",
       "            background-color:  #008066;\n",
       "        }    #T_d07ba0cc_9860_11ea_942d_54e1adcb4cf0row24_col4 {\n",
       "            background-color:  #008066;\n",
       "        }    #T_d07ba0cc_9860_11ea_942d_54e1adcb4cf0row25_col1 {\n",
       "            background-color:  #008066;\n",
       "        }    #T_d07ba0cc_9860_11ea_942d_54e1adcb4cf0row25_col2 {\n",
       "            background-color:  #018066;\n",
       "        }    #T_d07ba0cc_9860_11ea_942d_54e1adcb4cf0row25_col3 {\n",
       "            background-color:  #008066;\n",
       "        }    #T_d07ba0cc_9860_11ea_942d_54e1adcb4cf0row25_col4 {\n",
       "            background-color:  #008066;\n",
       "        }    #T_d07ba0cc_9860_11ea_942d_54e1adcb4cf0row26_col1 {\n",
       "            background-color:  #008066;\n",
       "        }    #T_d07ba0cc_9860_11ea_942d_54e1adcb4cf0row26_col2 {\n",
       "            background-color:  #008066;\n",
       "        }    #T_d07ba0cc_9860_11ea_942d_54e1adcb4cf0row26_col3 {\n",
       "            background-color:  #008066;\n",
       "        }    #T_d07ba0cc_9860_11ea_942d_54e1adcb4cf0row26_col4 {\n",
       "            background-color:  #008066;\n",
       "        }    #T_d07ba0cc_9860_11ea_942d_54e1adcb4cf0row27_col1 {\n",
       "            background-color:  #008066;\n",
       "        }    #T_d07ba0cc_9860_11ea_942d_54e1adcb4cf0row27_col2 {\n",
       "            background-color:  #008066;\n",
       "        }    #T_d07ba0cc_9860_11ea_942d_54e1adcb4cf0row27_col3 {\n",
       "            background-color:  #008066;\n",
       "        }    #T_d07ba0cc_9860_11ea_942d_54e1adcb4cf0row27_col4 {\n",
       "            background-color:  #008066;\n",
       "        }    #T_d07ba0cc_9860_11ea_942d_54e1adcb4cf0row28_col1 {\n",
       "            background-color:  #008066;\n",
       "        }    #T_d07ba0cc_9860_11ea_942d_54e1adcb4cf0row28_col2 {\n",
       "            background-color:  #008066;\n",
       "        }    #T_d07ba0cc_9860_11ea_942d_54e1adcb4cf0row28_col3 {\n",
       "            background-color:  #008066;\n",
       "        }    #T_d07ba0cc_9860_11ea_942d_54e1adcb4cf0row28_col4 {\n",
       "            background-color:  #008066;\n",
       "        }    #T_d07ba0cc_9860_11ea_942d_54e1adcb4cf0row29_col1 {\n",
       "            background-color:  #008066;\n",
       "        }    #T_d07ba0cc_9860_11ea_942d_54e1adcb4cf0row29_col2 {\n",
       "            background-color:  #008066;\n",
       "        }    #T_d07ba0cc_9860_11ea_942d_54e1adcb4cf0row29_col3 {\n",
       "            background-color:  #008066;\n",
       "        }    #T_d07ba0cc_9860_11ea_942d_54e1adcb4cf0row29_col4 {\n",
       "            background-color:  #008066;\n",
       "        }    #T_d07ba0cc_9860_11ea_942d_54e1adcb4cf0row30_col1 {\n",
       "            background-color:  #008066;\n",
       "        }    #T_d07ba0cc_9860_11ea_942d_54e1adcb4cf0row30_col2 {\n",
       "            background-color:  #008066;\n",
       "        }    #T_d07ba0cc_9860_11ea_942d_54e1adcb4cf0row30_col3 {\n",
       "            background-color:  #008066;\n",
       "        }    #T_d07ba0cc_9860_11ea_942d_54e1adcb4cf0row30_col4 {\n",
       "            background-color:  #008066;\n",
       "        }    #T_d07ba0cc_9860_11ea_942d_54e1adcb4cf0row31_col1 {\n",
       "            background-color:  #008066;\n",
       "        }    #T_d07ba0cc_9860_11ea_942d_54e1adcb4cf0row31_col2 {\n",
       "            background-color:  #008066;\n",
       "        }    #T_d07ba0cc_9860_11ea_942d_54e1adcb4cf0row31_col3 {\n",
       "            background-color:  #008066;\n",
       "        }    #T_d07ba0cc_9860_11ea_942d_54e1adcb4cf0row31_col4 {\n",
       "            background-color:  #008066;\n",
       "        }    #T_d07ba0cc_9860_11ea_942d_54e1adcb4cf0row32_col1 {\n",
       "            background-color:  #008066;\n",
       "        }    #T_d07ba0cc_9860_11ea_942d_54e1adcb4cf0row32_col2 {\n",
       "            background-color:  #008066;\n",
       "        }    #T_d07ba0cc_9860_11ea_942d_54e1adcb4cf0row32_col3 {\n",
       "            background-color:  #008066;\n",
       "        }    #T_d07ba0cc_9860_11ea_942d_54e1adcb4cf0row32_col4 {\n",
       "            background-color:  #008066;\n",
       "        }    #T_d07ba0cc_9860_11ea_942d_54e1adcb4cf0row33_col1 {\n",
       "            background-color:  #008066;\n",
       "        }    #T_d07ba0cc_9860_11ea_942d_54e1adcb4cf0row33_col2 {\n",
       "            background-color:  #008066;\n",
       "        }    #T_d07ba0cc_9860_11ea_942d_54e1adcb4cf0row33_col3 {\n",
       "            background-color:  #008066;\n",
       "        }    #T_d07ba0cc_9860_11ea_942d_54e1adcb4cf0row33_col4 {\n",
       "            background-color:  #008066;\n",
       "        }    #T_d07ba0cc_9860_11ea_942d_54e1adcb4cf0row34_col1 {\n",
       "            background-color:  #008066;\n",
       "        }    #T_d07ba0cc_9860_11ea_942d_54e1adcb4cf0row34_col2 {\n",
       "            background-color:  #008066;\n",
       "        }    #T_d07ba0cc_9860_11ea_942d_54e1adcb4cf0row34_col3 {\n",
       "            background-color:  #008066;\n",
       "        }    #T_d07ba0cc_9860_11ea_942d_54e1adcb4cf0row34_col4 {\n",
       "            background-color:  #008066;\n",
       "        }    #T_d07ba0cc_9860_11ea_942d_54e1adcb4cf0row35_col1 {\n",
       "            background-color:  #008066;\n",
       "        }    #T_d07ba0cc_9860_11ea_942d_54e1adcb4cf0row35_col2 {\n",
       "            background-color:  #008066;\n",
       "        }    #T_d07ba0cc_9860_11ea_942d_54e1adcb4cf0row35_col3 {\n",
       "            background-color:  #008066;\n",
       "        }    #T_d07ba0cc_9860_11ea_942d_54e1adcb4cf0row35_col4 {\n",
       "            background-color:  #008066;\n",
       "        }    #T_d07ba0cc_9860_11ea_942d_54e1adcb4cf0row36_col1 {\n",
       "            background-color:  #008066;\n",
       "        }    #T_d07ba0cc_9860_11ea_942d_54e1adcb4cf0row36_col2 {\n",
       "            background-color:  #008066;\n",
       "        }    #T_d07ba0cc_9860_11ea_942d_54e1adcb4cf0row36_col3 {\n",
       "            background-color:  #008066;\n",
       "        }    #T_d07ba0cc_9860_11ea_942d_54e1adcb4cf0row36_col4 {\n",
       "            background-color:  #008066;\n",
       "        }</style>  \n",
       "<table id=\"T_d07ba0cc_9860_11ea_942d_54e1adcb4cf0\" > \n",
       "<thead>    <tr> \n",
       "        <th class=\"blank level0\" ></th> \n",
       "        <th class=\"col_heading level0 col0\" >state</th> \n",
       "        <th class=\"col_heading level0 col1\" >confirmed</th> \n",
       "        <th class=\"col_heading level0 col2\" >recovered</th> \n",
       "        <th class=\"col_heading level0 col3\" >deaths</th> \n",
       "        <th class=\"col_heading level0 col4\" >Total Active</th> \n",
       "    </tr></thead> \n",
       "<tbody>    <tr> \n",
       "        <th id=\"T_d07ba0cc_9860_11ea_942d_54e1adcb4cf0level0_row0\" class=\"row_heading level0 row0\" >0</th> \n",
       "        <td id=\"T_d07ba0cc_9860_11ea_942d_54e1adcb4cf0row0_col0\" class=\"data row0 col0\" >Maharashtra</td> \n",
       "        <td id=\"T_d07ba0cc_9860_11ea_942d_54e1adcb4cf0row0_col1\" class=\"data row0 col1\" >30706</td> \n",
       "        <td id=\"T_d07ba0cc_9860_11ea_942d_54e1adcb4cf0row0_col2\" class=\"data row0 col2\" >7088</td> \n",
       "        <td id=\"T_d07ba0cc_9860_11ea_942d_54e1adcb4cf0row0_col3\" class=\"data row0 col3\" >1135</td> \n",
       "        <td id=\"T_d07ba0cc_9860_11ea_942d_54e1adcb4cf0row0_col4\" class=\"data row0 col4\" >22483</td> \n",
       "    </tr>    <tr> \n",
       "        <th id=\"T_d07ba0cc_9860_11ea_942d_54e1adcb4cf0level0_row1\" class=\"row_heading level0 row1\" >1</th> \n",
       "        <td id=\"T_d07ba0cc_9860_11ea_942d_54e1adcb4cf0row1_col0\" class=\"data row1 col0\" >Tamil Nadu</td> \n",
       "        <td id=\"T_d07ba0cc_9860_11ea_942d_54e1adcb4cf0row1_col1\" class=\"data row1 col1\" >10585</td> \n",
       "        <td id=\"T_d07ba0cc_9860_11ea_942d_54e1adcb4cf0row1_col2\" class=\"data row1 col2\" >3538</td> \n",
       "        <td id=\"T_d07ba0cc_9860_11ea_942d_54e1adcb4cf0row1_col3\" class=\"data row1 col3\" >74</td> \n",
       "        <td id=\"T_d07ba0cc_9860_11ea_942d_54e1adcb4cf0row1_col4\" class=\"data row1 col4\" >6973</td> \n",
       "    </tr>    <tr> \n",
       "        <th id=\"T_d07ba0cc_9860_11ea_942d_54e1adcb4cf0level0_row2\" class=\"row_heading level0 row2\" >2</th> \n",
       "        <td id=\"T_d07ba0cc_9860_11ea_942d_54e1adcb4cf0row2_col0\" class=\"data row2 col0\" >Gujarat</td> \n",
       "        <td id=\"T_d07ba0cc_9860_11ea_942d_54e1adcb4cf0row2_col1\" class=\"data row2 col1\" >10989</td> \n",
       "        <td id=\"T_d07ba0cc_9860_11ea_942d_54e1adcb4cf0row2_col2\" class=\"data row2 col2\" >4308</td> \n",
       "        <td id=\"T_d07ba0cc_9860_11ea_942d_54e1adcb4cf0row2_col3\" class=\"data row2 col3\" >625</td> \n",
       "        <td id=\"T_d07ba0cc_9860_11ea_942d_54e1adcb4cf0row2_col4\" class=\"data row2 col4\" >6056</td> \n",
       "    </tr>    <tr> \n",
       "        <th id=\"T_d07ba0cc_9860_11ea_942d_54e1adcb4cf0level0_row3\" class=\"row_heading level0 row3\" >3</th> \n",
       "        <td id=\"T_d07ba0cc_9860_11ea_942d_54e1adcb4cf0row3_col0\" class=\"data row3 col0\" >Delhi</td> \n",
       "        <td id=\"T_d07ba0cc_9860_11ea_942d_54e1adcb4cf0row3_col1\" class=\"data row3 col1\" >9333</td> \n",
       "        <td id=\"T_d07ba0cc_9860_11ea_942d_54e1adcb4cf0row3_col2\" class=\"data row3 col2\" >3926</td> \n",
       "        <td id=\"T_d07ba0cc_9860_11ea_942d_54e1adcb4cf0row3_col3\" class=\"data row3 col3\" >129</td> \n",
       "        <td id=\"T_d07ba0cc_9860_11ea_942d_54e1adcb4cf0row3_col4\" class=\"data row3 col4\" >5278</td> \n",
       "    </tr>    <tr> \n",
       "        <th id=\"T_d07ba0cc_9860_11ea_942d_54e1adcb4cf0level0_row4\" class=\"row_heading level0 row4\" >4</th> \n",
       "        <td id=\"T_d07ba0cc_9860_11ea_942d_54e1adcb4cf0row4_col0\" class=\"data row4 col0\" >Madhya Pradesh</td> \n",
       "        <td id=\"T_d07ba0cc_9860_11ea_942d_54e1adcb4cf0row4_col1\" class=\"data row4 col1\" >4790</td> \n",
       "        <td id=\"T_d07ba0cc_9860_11ea_942d_54e1adcb4cf0row4_col2\" class=\"data row4 col2\" >2315</td> \n",
       "        <td id=\"T_d07ba0cc_9860_11ea_942d_54e1adcb4cf0row4_col3\" class=\"data row4 col3\" >243</td> \n",
       "        <td id=\"T_d07ba0cc_9860_11ea_942d_54e1adcb4cf0row4_col4\" class=\"data row4 col4\" >2232</td> \n",
       "    </tr>    <tr> \n",
       "        <th id=\"T_d07ba0cc_9860_11ea_942d_54e1adcb4cf0level0_row5\" class=\"row_heading level0 row5\" >5</th> \n",
       "        <td id=\"T_d07ba0cc_9860_11ea_942d_54e1adcb4cf0row5_col0\" class=\"data row5 col0\" >Rajasthan</td> \n",
       "        <td id=\"T_d07ba0cc_9860_11ea_942d_54e1adcb4cf0row5_col1\" class=\"data row5 col1\" >5030</td> \n",
       "        <td id=\"T_d07ba0cc_9860_11ea_942d_54e1adcb4cf0row5_col2\" class=\"data row5 col2\" >2991</td> \n",
       "        <td id=\"T_d07ba0cc_9860_11ea_942d_54e1adcb4cf0row5_col3\" class=\"data row5 col3\" >128</td> \n",
       "        <td id=\"T_d07ba0cc_9860_11ea_942d_54e1adcb4cf0row5_col4\" class=\"data row5 col4\" >1911</td> \n",
       "    </tr>    <tr> \n",
       "        <th id=\"T_d07ba0cc_9860_11ea_942d_54e1adcb4cf0level0_row6\" class=\"row_heading level0 row6\" >6</th> \n",
       "        <td id=\"T_d07ba0cc_9860_11ea_942d_54e1adcb4cf0row6_col0\" class=\"data row6 col0\" >Uttar Pradesh</td> \n",
       "        <td id=\"T_d07ba0cc_9860_11ea_942d_54e1adcb4cf0row6_col1\" class=\"data row6 col1\" >4258</td> \n",
       "        <td id=\"T_d07ba0cc_9860_11ea_942d_54e1adcb4cf0row6_col2\" class=\"data row6 col2\" >2441</td> \n",
       "        <td id=\"T_d07ba0cc_9860_11ea_942d_54e1adcb4cf0row6_col3\" class=\"data row6 col3\" >104</td> \n",
       "        <td id=\"T_d07ba0cc_9860_11ea_942d_54e1adcb4cf0row6_col4\" class=\"data row6 col4\" >1713</td> \n",
       "    </tr>    <tr> \n",
       "        <th id=\"T_d07ba0cc_9860_11ea_942d_54e1adcb4cf0level0_row7\" class=\"row_heading level0 row7\" >7</th> \n",
       "        <td id=\"T_d07ba0cc_9860_11ea_942d_54e1adcb4cf0row7_col0\" class=\"data row7 col0\" >West Bengal</td> \n",
       "        <td id=\"T_d07ba0cc_9860_11ea_942d_54e1adcb4cf0row7_col1\" class=\"data row7 col1\" >2576</td> \n",
       "        <td id=\"T_d07ba0cc_9860_11ea_942d_54e1adcb4cf0row7_col2\" class=\"data row7 col2\" >892</td> \n",
       "        <td id=\"T_d07ba0cc_9860_11ea_942d_54e1adcb4cf0row7_col3\" class=\"data row7 col3\" >232</td> \n",
       "        <td id=\"T_d07ba0cc_9860_11ea_942d_54e1adcb4cf0row7_col4\" class=\"data row7 col4\" >1452</td> \n",
       "    </tr>    <tr> \n",
       "        <th id=\"T_d07ba0cc_9860_11ea_942d_54e1adcb4cf0level0_row8\" class=\"row_heading level0 row8\" >8</th> \n",
       "        <td id=\"T_d07ba0cc_9860_11ea_942d_54e1adcb4cf0row8_col0\" class=\"data row8 col0\" >Andhra Pradesh</td> \n",
       "        <td id=\"T_d07ba0cc_9860_11ea_942d_54e1adcb4cf0row8_col1\" class=\"data row8 col1\" >2355</td> \n",
       "        <td id=\"T_d07ba0cc_9860_11ea_942d_54e1adcb4cf0row8_col2\" class=\"data row8 col2\" >1353</td> \n",
       "        <td id=\"T_d07ba0cc_9860_11ea_942d_54e1adcb4cf0row8_col3\" class=\"data row8 col3\" >49</td> \n",
       "        <td id=\"T_d07ba0cc_9860_11ea_942d_54e1adcb4cf0row8_col4\" class=\"data row8 col4\" >953</td> \n",
       "    </tr>    <tr> \n",
       "        <th id=\"T_d07ba0cc_9860_11ea_942d_54e1adcb4cf0level0_row9\" class=\"row_heading level0 row9\" >9</th> \n",
       "        <td id=\"T_d07ba0cc_9860_11ea_942d_54e1adcb4cf0row9_col0\" class=\"data row9 col0\" >Punjab</td> \n",
       "        <td id=\"T_d07ba0cc_9860_11ea_942d_54e1adcb4cf0row9_col1\" class=\"data row9 col1\" >1946</td> \n",
       "        <td id=\"T_d07ba0cc_9860_11ea_942d_54e1adcb4cf0row9_col2\" class=\"data row9 col2\" >1257</td> \n",
       "        <td id=\"T_d07ba0cc_9860_11ea_942d_54e1adcb4cf0row9_col3\" class=\"data row9 col3\" >32</td> \n",
       "        <td id=\"T_d07ba0cc_9860_11ea_942d_54e1adcb4cf0row9_col4\" class=\"data row9 col4\" >657</td> \n",
       "    </tr>    <tr> \n",
       "        <th id=\"T_d07ba0cc_9860_11ea_942d_54e1adcb4cf0level0_row10\" class=\"row_heading level0 row10\" >10</th> \n",
       "        <td id=\"T_d07ba0cc_9860_11ea_942d_54e1adcb4cf0row10_col0\" class=\"data row10 col0\" >Telangana</td> \n",
       "        <td id=\"T_d07ba0cc_9860_11ea_942d_54e1adcb4cf0row10_col1\" class=\"data row10 col1\" >1509</td> \n",
       "        <td id=\"T_d07ba0cc_9860_11ea_942d_54e1adcb4cf0row10_col2\" class=\"data row10 col2\" >971</td> \n",
       "        <td id=\"T_d07ba0cc_9860_11ea_942d_54e1adcb4cf0row10_col3\" class=\"data row10 col3\" >34</td> \n",
       "        <td id=\"T_d07ba0cc_9860_11ea_942d_54e1adcb4cf0row10_col4\" class=\"data row10 col4\" >504</td> \n",
       "    </tr>    <tr> \n",
       "        <th id=\"T_d07ba0cc_9860_11ea_942d_54e1adcb4cf0level0_row11\" class=\"row_heading level0 row11\" >11</th> \n",
       "        <td id=\"T_d07ba0cc_9860_11ea_942d_54e1adcb4cf0row11_col0\" class=\"data row11 col0\" >Bihar</td> \n",
       "        <td id=\"T_d07ba0cc_9860_11ea_942d_54e1adcb4cf0row11_col1\" class=\"data row11 col1\" >1178</td> \n",
       "        <td id=\"T_d07ba0cc_9860_11ea_942d_54e1adcb4cf0row11_col2\" class=\"data row11 col2\" >440</td> \n",
       "        <td id=\"T_d07ba0cc_9860_11ea_942d_54e1adcb4cf0row11_col3\" class=\"data row11 col3\" >7</td> \n",
       "        <td id=\"T_d07ba0cc_9860_11ea_942d_54e1adcb4cf0row11_col4\" class=\"data row11 col4\" >731</td> \n",
       "    </tr>    <tr> \n",
       "        <th id=\"T_d07ba0cc_9860_11ea_942d_54e1adcb4cf0level0_row12\" class=\"row_heading level0 row12\" >12</th> \n",
       "        <td id=\"T_d07ba0cc_9860_11ea_942d_54e1adcb4cf0row12_col0\" class=\"data row12 col0\" >Karnataka</td> \n",
       "        <td id=\"T_d07ba0cc_9860_11ea_942d_54e1adcb4cf0row12_col1\" class=\"data row12 col1\" >1092</td> \n",
       "        <td id=\"T_d07ba0cc_9860_11ea_942d_54e1adcb4cf0row12_col2\" class=\"data row12 col2\" >496</td> \n",
       "        <td id=\"T_d07ba0cc_9860_11ea_942d_54e1adcb4cf0row12_col3\" class=\"data row12 col3\" >36</td> \n",
       "        <td id=\"T_d07ba0cc_9860_11ea_942d_54e1adcb4cf0row12_col4\" class=\"data row12 col4\" >560</td> \n",
       "    </tr>    <tr> \n",
       "        <th id=\"T_d07ba0cc_9860_11ea_942d_54e1adcb4cf0level0_row13\" class=\"row_heading level0 row13\" >13</th> \n",
       "        <td id=\"T_d07ba0cc_9860_11ea_942d_54e1adcb4cf0row13_col0\" class=\"data row13 col0\" >Jammu and Kashmir</td> \n",
       "        <td id=\"T_d07ba0cc_9860_11ea_942d_54e1adcb4cf0row13_col1\" class=\"data row13 col1\" >1121</td> \n",
       "        <td id=\"T_d07ba0cc_9860_11ea_942d_54e1adcb4cf0row13_col2\" class=\"data row13 col2\" >542</td> \n",
       "        <td id=\"T_d07ba0cc_9860_11ea_942d_54e1adcb4cf0row13_col3\" class=\"data row13 col3\" >12</td> \n",
       "        <td id=\"T_d07ba0cc_9860_11ea_942d_54e1adcb4cf0row13_col4\" class=\"data row13 col4\" >567</td> \n",
       "    </tr>    <tr> \n",
       "        <th id=\"T_d07ba0cc_9860_11ea_942d_54e1adcb4cf0level0_row14\" class=\"row_heading level0 row14\" >14</th> \n",
       "        <td id=\"T_d07ba0cc_9860_11ea_942d_54e1adcb4cf0row14_col0\" class=\"data row14 col0\" >Haryana</td> \n",
       "        <td id=\"T_d07ba0cc_9860_11ea_942d_54e1adcb4cf0row14_col1\" class=\"data row14 col1\" >887</td> \n",
       "        <td id=\"T_d07ba0cc_9860_11ea_942d_54e1adcb4cf0row14_col2\" class=\"data row14 col2\" >514</td> \n",
       "        <td id=\"T_d07ba0cc_9860_11ea_942d_54e1adcb4cf0row14_col3\" class=\"data row14 col3\" >13</td> \n",
       "        <td id=\"T_d07ba0cc_9860_11ea_942d_54e1adcb4cf0row14_col4\" class=\"data row14 col4\" >360</td> \n",
       "    </tr>    <tr> \n",
       "        <th id=\"T_d07ba0cc_9860_11ea_942d_54e1adcb4cf0level0_row15\" class=\"row_heading level0 row15\" >15</th> \n",
       "        <td id=\"T_d07ba0cc_9860_11ea_942d_54e1adcb4cf0row15_col0\" class=\"data row15 col0\" >Odisha</td> \n",
       "        <td id=\"T_d07ba0cc_9860_11ea_942d_54e1adcb4cf0row15_col1\" class=\"data row15 col1\" >828</td> \n",
       "        <td id=\"T_d07ba0cc_9860_11ea_942d_54e1adcb4cf0row15_col2\" class=\"data row15 col2\" >196</td> \n",
       "        <td id=\"T_d07ba0cc_9860_11ea_942d_54e1adcb4cf0row15_col3\" class=\"data row15 col3\" >5</td> \n",
       "        <td id=\"T_d07ba0cc_9860_11ea_942d_54e1adcb4cf0row15_col4\" class=\"data row15 col4\" >627</td> \n",
       "    </tr>    <tr> \n",
       "        <th id=\"T_d07ba0cc_9860_11ea_942d_54e1adcb4cf0level0_row16\" class=\"row_heading level0 row16\" >16</th> \n",
       "        <td id=\"T_d07ba0cc_9860_11ea_942d_54e1adcb4cf0row16_col0\" class=\"data row16 col0\" >Kerala</td> \n",
       "        <td id=\"T_d07ba0cc_9860_11ea_942d_54e1adcb4cf0row16_col1\" class=\"data row16 col1\" >588</td> \n",
       "        <td id=\"T_d07ba0cc_9860_11ea_942d_54e1adcb4cf0row16_col2\" class=\"data row16 col2\" >497</td> \n",
       "        <td id=\"T_d07ba0cc_9860_11ea_942d_54e1adcb4cf0row16_col3\" class=\"data row16 col3\" >4</td> \n",
       "        <td id=\"T_d07ba0cc_9860_11ea_942d_54e1adcb4cf0row16_col4\" class=\"data row16 col4\" >87</td> \n",
       "    </tr>    <tr> \n",
       "        <th id=\"T_d07ba0cc_9860_11ea_942d_54e1adcb4cf0level0_row17\" class=\"row_heading level0 row17\" >17</th> \n",
       "        <td id=\"T_d07ba0cc_9860_11ea_942d_54e1adcb4cf0row17_col0\" class=\"data row17 col0\" >Chandigarh</td> \n",
       "        <td id=\"T_d07ba0cc_9860_11ea_942d_54e1adcb4cf0row17_col1\" class=\"data row17 col1\" >191</td> \n",
       "        <td id=\"T_d07ba0cc_9860_11ea_942d_54e1adcb4cf0row17_col2\" class=\"data row17 col2\" >51</td> \n",
       "        <td id=\"T_d07ba0cc_9860_11ea_942d_54e1adcb4cf0row17_col3\" class=\"data row17 col3\" >3</td> \n",
       "        <td id=\"T_d07ba0cc_9860_11ea_942d_54e1adcb4cf0row17_col4\" class=\"data row17 col4\" >137</td> \n",
       "    </tr>    <tr> \n",
       "        <th id=\"T_d07ba0cc_9860_11ea_942d_54e1adcb4cf0level0_row18\" class=\"row_heading level0 row18\" >18</th> \n",
       "        <td id=\"T_d07ba0cc_9860_11ea_942d_54e1adcb4cf0row18_col0\" class=\"data row18 col0\" >Jharkhand</td> \n",
       "        <td id=\"T_d07ba0cc_9860_11ea_942d_54e1adcb4cf0row18_col1\" class=\"data row18 col1\" >217</td> \n",
       "        <td id=\"T_d07ba0cc_9860_11ea_942d_54e1adcb4cf0row18_col2\" class=\"data row18 col2\" >113</td> \n",
       "        <td id=\"T_d07ba0cc_9860_11ea_942d_54e1adcb4cf0row18_col3\" class=\"data row18 col3\" >3</td> \n",
       "        <td id=\"T_d07ba0cc_9860_11ea_942d_54e1adcb4cf0row18_col4\" class=\"data row18 col4\" >101</td> \n",
       "    </tr>    <tr> \n",
       "        <th id=\"T_d07ba0cc_9860_11ea_942d_54e1adcb4cf0level0_row19\" class=\"row_heading level0 row19\" >19</th> \n",
       "        <td id=\"T_d07ba0cc_9860_11ea_942d_54e1adcb4cf0row19_col0\" class=\"data row19 col0\" >Tripura</td> \n",
       "        <td id=\"T_d07ba0cc_9860_11ea_942d_54e1adcb4cf0row19_col1\" class=\"data row19 col1\" >167</td> \n",
       "        <td id=\"T_d07ba0cc_9860_11ea_942d_54e1adcb4cf0row19_col2\" class=\"data row19 col2\" >64</td> \n",
       "        <td id=\"T_d07ba0cc_9860_11ea_942d_54e1adcb4cf0row19_col3\" class=\"data row19 col3\" >0</td> \n",
       "        <td id=\"T_d07ba0cc_9860_11ea_942d_54e1adcb4cf0row19_col4\" class=\"data row19 col4\" >103</td> \n",
       "    </tr>    <tr> \n",
       "        <th id=\"T_d07ba0cc_9860_11ea_942d_54e1adcb4cf0level0_row20\" class=\"row_heading level0 row20\" >20</th> \n",
       "        <td id=\"T_d07ba0cc_9860_11ea_942d_54e1adcb4cf0row20_col0\" class=\"data row20 col0\" >Assam</td> \n",
       "        <td id=\"T_d07ba0cc_9860_11ea_942d_54e1adcb4cf0row20_col1\" class=\"data row20 col1\" >96</td> \n",
       "        <td id=\"T_d07ba0cc_9860_11ea_942d_54e1adcb4cf0row20_col2\" class=\"data row20 col2\" >41</td> \n",
       "        <td id=\"T_d07ba0cc_9860_11ea_942d_54e1adcb4cf0row20_col3\" class=\"data row20 col3\" >2</td> \n",
       "        <td id=\"T_d07ba0cc_9860_11ea_942d_54e1adcb4cf0row20_col4\" class=\"data row20 col4\" >53</td> \n",
       "    </tr>    <tr> \n",
       "        <th id=\"T_d07ba0cc_9860_11ea_942d_54e1adcb4cf0level0_row21\" class=\"row_heading level0 row21\" >21</th> \n",
       "        <td id=\"T_d07ba0cc_9860_11ea_942d_54e1adcb4cf0row21_col0\" class=\"data row21 col0\" >Uttarakhand</td> \n",
       "        <td id=\"T_d07ba0cc_9860_11ea_942d_54e1adcb4cf0row21_col1\" class=\"data row21 col1\" >91</td> \n",
       "        <td id=\"T_d07ba0cc_9860_11ea_942d_54e1adcb4cf0row21_col2\" class=\"data row21 col2\" >51</td> \n",
       "        <td id=\"T_d07ba0cc_9860_11ea_942d_54e1adcb4cf0row21_col3\" class=\"data row21 col3\" >1</td> \n",
       "        <td id=\"T_d07ba0cc_9860_11ea_942d_54e1adcb4cf0row21_col4\" class=\"data row21 col4\" >39</td> \n",
       "    </tr>    <tr> \n",
       "        <th id=\"T_d07ba0cc_9860_11ea_942d_54e1adcb4cf0level0_row22\" class=\"row_heading level0 row22\" >22</th> \n",
       "        <td id=\"T_d07ba0cc_9860_11ea_942d_54e1adcb4cf0row22_col0\" class=\"data row22 col0\" >Himachal Pradesh</td> \n",
       "        <td id=\"T_d07ba0cc_9860_11ea_942d_54e1adcb4cf0row22_col1\" class=\"data row22 col1\" >78</td> \n",
       "        <td id=\"T_d07ba0cc_9860_11ea_942d_54e1adcb4cf0row22_col2\" class=\"data row22 col2\" >39</td> \n",
       "        <td id=\"T_d07ba0cc_9860_11ea_942d_54e1adcb4cf0row22_col3\" class=\"data row22 col3\" >3</td> \n",
       "        <td id=\"T_d07ba0cc_9860_11ea_942d_54e1adcb4cf0row22_col4\" class=\"data row22 col4\" >36</td> \n",
       "    </tr>    <tr> \n",
       "        <th id=\"T_d07ba0cc_9860_11ea_942d_54e1adcb4cf0level0_row23\" class=\"row_heading level0 row23\" >23</th> \n",
       "        <td id=\"T_d07ba0cc_9860_11ea_942d_54e1adcb4cf0row23_col0\" class=\"data row23 col0\" >Chhattisgarh</td> \n",
       "        <td id=\"T_d07ba0cc_9860_11ea_942d_54e1adcb4cf0row23_col1\" class=\"data row23 col1\" >67</td> \n",
       "        <td id=\"T_d07ba0cc_9860_11ea_942d_54e1adcb4cf0row23_col2\" class=\"data row23 col2\" >58</td> \n",
       "        <td id=\"T_d07ba0cc_9860_11ea_942d_54e1adcb4cf0row23_col3\" class=\"data row23 col3\" >0</td> \n",
       "        <td id=\"T_d07ba0cc_9860_11ea_942d_54e1adcb4cf0row23_col4\" class=\"data row23 col4\" >9</td> \n",
       "    </tr>    <tr> \n",
       "        <th id=\"T_d07ba0cc_9860_11ea_942d_54e1adcb4cf0level0_row24\" class=\"row_heading level0 row24\" >24</th> \n",
       "        <td id=\"T_d07ba0cc_9860_11ea_942d_54e1adcb4cf0row24_col0\" class=\"data row24 col0\" >Ladakh</td> \n",
       "        <td id=\"T_d07ba0cc_9860_11ea_942d_54e1adcb4cf0row24_col1\" class=\"data row24 col1\" >43</td> \n",
       "        <td id=\"T_d07ba0cc_9860_11ea_942d_54e1adcb4cf0row24_col2\" class=\"data row24 col2\" >24</td> \n",
       "        <td id=\"T_d07ba0cc_9860_11ea_942d_54e1adcb4cf0row24_col3\" class=\"data row24 col3\" >0</td> \n",
       "        <td id=\"T_d07ba0cc_9860_11ea_942d_54e1adcb4cf0row24_col4\" class=\"data row24 col4\" >19</td> \n",
       "    </tr>    <tr> \n",
       "        <th id=\"T_d07ba0cc_9860_11ea_942d_54e1adcb4cf0level0_row25\" class=\"row_heading level0 row25\" >25</th> \n",
       "        <td id=\"T_d07ba0cc_9860_11ea_942d_54e1adcb4cf0row25_col0\" class=\"data row25 col0\" >Andaman and Nicobar Islands</td> \n",
       "        <td id=\"T_d07ba0cc_9860_11ea_942d_54e1adcb4cf0row25_col1\" class=\"data row25 col1\" >33</td> \n",
       "        <td id=\"T_d07ba0cc_9860_11ea_942d_54e1adcb4cf0row25_col2\" class=\"data row25 col2\" >33</td> \n",
       "        <td id=\"T_d07ba0cc_9860_11ea_942d_54e1adcb4cf0row25_col3\" class=\"data row25 col3\" >0</td> \n",
       "        <td id=\"T_d07ba0cc_9860_11ea_942d_54e1adcb4cf0row25_col4\" class=\"data row25 col4\" >0</td> \n",
       "    </tr>    <tr> \n",
       "        <th id=\"T_d07ba0cc_9860_11ea_942d_54e1adcb4cf0level0_row26\" class=\"row_heading level0 row26\" >26</th> \n",
       "        <td id=\"T_d07ba0cc_9860_11ea_942d_54e1adcb4cf0row26_col0\" class=\"data row26 col0\" >Goa</td> \n",
       "        <td id=\"T_d07ba0cc_9860_11ea_942d_54e1adcb4cf0row26_col1\" class=\"data row26 col1\" >20</td> \n",
       "        <td id=\"T_d07ba0cc_9860_11ea_942d_54e1adcb4cf0row26_col2\" class=\"data row26 col2\" >7</td> \n",
       "        <td id=\"T_d07ba0cc_9860_11ea_942d_54e1adcb4cf0row26_col3\" class=\"data row26 col3\" >0</td> \n",
       "        <td id=\"T_d07ba0cc_9860_11ea_942d_54e1adcb4cf0row26_col4\" class=\"data row26 col4\" >13</td> \n",
       "    </tr>    <tr> \n",
       "        <th id=\"T_d07ba0cc_9860_11ea_942d_54e1adcb4cf0level0_row27\" class=\"row_heading level0 row27\" >27</th> \n",
       "        <td id=\"T_d07ba0cc_9860_11ea_942d_54e1adcb4cf0row27_col0\" class=\"data row27 col0\" >Meghalaya</td> \n",
       "        <td id=\"T_d07ba0cc_9860_11ea_942d_54e1adcb4cf0row27_col1\" class=\"data row27 col1\" >13</td> \n",
       "        <td id=\"T_d07ba0cc_9860_11ea_942d_54e1adcb4cf0row27_col2\" class=\"data row27 col2\" >11</td> \n",
       "        <td id=\"T_d07ba0cc_9860_11ea_942d_54e1adcb4cf0row27_col3\" class=\"data row27 col3\" >1</td> \n",
       "        <td id=\"T_d07ba0cc_9860_11ea_942d_54e1adcb4cf0row27_col4\" class=\"data row27 col4\" >1</td> \n",
       "    </tr>    <tr> \n",
       "        <th id=\"T_d07ba0cc_9860_11ea_942d_54e1adcb4cf0level0_row28\" class=\"row_heading level0 row28\" >28</th> \n",
       "        <td id=\"T_d07ba0cc_9860_11ea_942d_54e1adcb4cf0row28_col0\" class=\"data row28 col0\" >Puducherry</td> \n",
       "        <td id=\"T_d07ba0cc_9860_11ea_942d_54e1adcb4cf0row28_col1\" class=\"data row28 col1\" >16</td> \n",
       "        <td id=\"T_d07ba0cc_9860_11ea_942d_54e1adcb4cf0row28_col2\" class=\"data row28 col2\" >9</td> \n",
       "        <td id=\"T_d07ba0cc_9860_11ea_942d_54e1adcb4cf0row28_col3\" class=\"data row28 col3\" >0</td> \n",
       "        <td id=\"T_d07ba0cc_9860_11ea_942d_54e1adcb4cf0row28_col4\" class=\"data row28 col4\" >7</td> \n",
       "    </tr>    <tr> \n",
       "        <th id=\"T_d07ba0cc_9860_11ea_942d_54e1adcb4cf0level0_row29\" class=\"row_heading level0 row29\" >29</th> \n",
       "        <td id=\"T_d07ba0cc_9860_11ea_942d_54e1adcb4cf0row29_col0\" class=\"data row29 col0\" >Manipur</td> \n",
       "        <td id=\"T_d07ba0cc_9860_11ea_942d_54e1adcb4cf0row29_col1\" class=\"data row29 col1\" >7</td> \n",
       "        <td id=\"T_d07ba0cc_9860_11ea_942d_54e1adcb4cf0row29_col2\" class=\"data row29 col2\" >2</td> \n",
       "        <td id=\"T_d07ba0cc_9860_11ea_942d_54e1adcb4cf0row29_col3\" class=\"data row29 col3\" >0</td> \n",
       "        <td id=\"T_d07ba0cc_9860_11ea_942d_54e1adcb4cf0row29_col4\" class=\"data row29 col4\" >5</td> \n",
       "    </tr>    <tr> \n",
       "        <th id=\"T_d07ba0cc_9860_11ea_942d_54e1adcb4cf0level0_row30\" class=\"row_heading level0 row30\" >30</th> \n",
       "        <td id=\"T_d07ba0cc_9860_11ea_942d_54e1adcb4cf0row30_col0\" class=\"data row30 col0\" >Mizoram</td> \n",
       "        <td id=\"T_d07ba0cc_9860_11ea_942d_54e1adcb4cf0row30_col1\" class=\"data row30 col1\" >1</td> \n",
       "        <td id=\"T_d07ba0cc_9860_11ea_942d_54e1adcb4cf0row30_col2\" class=\"data row30 col2\" >1</td> \n",
       "        <td id=\"T_d07ba0cc_9860_11ea_942d_54e1adcb4cf0row30_col3\" class=\"data row30 col3\" >0</td> \n",
       "        <td id=\"T_d07ba0cc_9860_11ea_942d_54e1adcb4cf0row30_col4\" class=\"data row30 col4\" >0</td> \n",
       "    </tr>    <tr> \n",
       "        <th id=\"T_d07ba0cc_9860_11ea_942d_54e1adcb4cf0level0_row31\" class=\"row_heading level0 row31\" >31</th> \n",
       "        <td id=\"T_d07ba0cc_9860_11ea_942d_54e1adcb4cf0row31_col0\" class=\"data row31 col0\" >Arunachal Pradesh</td> \n",
       "        <td id=\"T_d07ba0cc_9860_11ea_942d_54e1adcb4cf0row31_col1\" class=\"data row31 col1\" >1</td> \n",
       "        <td id=\"T_d07ba0cc_9860_11ea_942d_54e1adcb4cf0row31_col2\" class=\"data row31 col2\" >1</td> \n",
       "        <td id=\"T_d07ba0cc_9860_11ea_942d_54e1adcb4cf0row31_col3\" class=\"data row31 col3\" >0</td> \n",
       "        <td id=\"T_d07ba0cc_9860_11ea_942d_54e1adcb4cf0row31_col4\" class=\"data row31 col4\" >0</td> \n",
       "    </tr>    <tr> \n",
       "        <th id=\"T_d07ba0cc_9860_11ea_942d_54e1adcb4cf0level0_row32\" class=\"row_heading level0 row32\" >32</th> \n",
       "        <td id=\"T_d07ba0cc_9860_11ea_942d_54e1adcb4cf0row32_col0\" class=\"data row32 col0\" >Dadra and Nagar Haveli and Daman and Diu</td> \n",
       "        <td id=\"T_d07ba0cc_9860_11ea_942d_54e1adcb4cf0row32_col1\" class=\"data row32 col1\" >1</td> \n",
       "        <td id=\"T_d07ba0cc_9860_11ea_942d_54e1adcb4cf0row32_col2\" class=\"data row32 col2\" >1</td> \n",
       "        <td id=\"T_d07ba0cc_9860_11ea_942d_54e1adcb4cf0row32_col3\" class=\"data row32 col3\" >0</td> \n",
       "        <td id=\"T_d07ba0cc_9860_11ea_942d_54e1adcb4cf0row32_col4\" class=\"data row32 col4\" >0</td> \n",
       "    </tr>    <tr> \n",
       "        <th id=\"T_d07ba0cc_9860_11ea_942d_54e1adcb4cf0level0_row33\" class=\"row_heading level0 row33\" >33</th> \n",
       "        <td id=\"T_d07ba0cc_9860_11ea_942d_54e1adcb4cf0row33_col0\" class=\"data row33 col0\" >Nagaland</td> \n",
       "        <td id=\"T_d07ba0cc_9860_11ea_942d_54e1adcb4cf0row33_col1\" class=\"data row33 col1\" >0</td> \n",
       "        <td id=\"T_d07ba0cc_9860_11ea_942d_54e1adcb4cf0row33_col2\" class=\"data row33 col2\" >0</td> \n",
       "        <td id=\"T_d07ba0cc_9860_11ea_942d_54e1adcb4cf0row33_col3\" class=\"data row33 col3\" >0</td> \n",
       "        <td id=\"T_d07ba0cc_9860_11ea_942d_54e1adcb4cf0row33_col4\" class=\"data row33 col4\" >0</td> \n",
       "    </tr>    <tr> \n",
       "        <th id=\"T_d07ba0cc_9860_11ea_942d_54e1adcb4cf0level0_row34\" class=\"row_heading level0 row34\" >34</th> \n",
       "        <td id=\"T_d07ba0cc_9860_11ea_942d_54e1adcb4cf0row34_col0\" class=\"data row34 col0\" >Daman and Diu</td> \n",
       "        <td id=\"T_d07ba0cc_9860_11ea_942d_54e1adcb4cf0row34_col1\" class=\"data row34 col1\" >0</td> \n",
       "        <td id=\"T_d07ba0cc_9860_11ea_942d_54e1adcb4cf0row34_col2\" class=\"data row34 col2\" >0</td> \n",
       "        <td id=\"T_d07ba0cc_9860_11ea_942d_54e1adcb4cf0row34_col3\" class=\"data row34 col3\" >0</td> \n",
       "        <td id=\"T_d07ba0cc_9860_11ea_942d_54e1adcb4cf0row34_col4\" class=\"data row34 col4\" >0</td> \n",
       "    </tr>    <tr> \n",
       "        <th id=\"T_d07ba0cc_9860_11ea_942d_54e1adcb4cf0level0_row35\" class=\"row_heading level0 row35\" >35</th> \n",
       "        <td id=\"T_d07ba0cc_9860_11ea_942d_54e1adcb4cf0row35_col0\" class=\"data row35 col0\" >Lakshadweep</td> \n",
       "        <td id=\"T_d07ba0cc_9860_11ea_942d_54e1adcb4cf0row35_col1\" class=\"data row35 col1\" >0</td> \n",
       "        <td id=\"T_d07ba0cc_9860_11ea_942d_54e1adcb4cf0row35_col2\" class=\"data row35 col2\" >0</td> \n",
       "        <td id=\"T_d07ba0cc_9860_11ea_942d_54e1adcb4cf0row35_col3\" class=\"data row35 col3\" >0</td> \n",
       "        <td id=\"T_d07ba0cc_9860_11ea_942d_54e1adcb4cf0row35_col4\" class=\"data row35 col4\" >0</td> \n",
       "    </tr>    <tr> \n",
       "        <th id=\"T_d07ba0cc_9860_11ea_942d_54e1adcb4cf0level0_row36\" class=\"row_heading level0 row36\" >36</th> \n",
       "        <td id=\"T_d07ba0cc_9860_11ea_942d_54e1adcb4cf0row36_col0\" class=\"data row36 col0\" >Sikkim</td> \n",
       "        <td id=\"T_d07ba0cc_9860_11ea_942d_54e1adcb4cf0row36_col1\" class=\"data row36 col1\" >0</td> \n",
       "        <td id=\"T_d07ba0cc_9860_11ea_942d_54e1adcb4cf0row36_col2\" class=\"data row36 col2\" >0</td> \n",
       "        <td id=\"T_d07ba0cc_9860_11ea_942d_54e1adcb4cf0row36_col3\" class=\"data row36 col3\" >0</td> \n",
       "        <td id=\"T_d07ba0cc_9860_11ea_942d_54e1adcb4cf0row36_col4\" class=\"data row36 col4\" >0</td> \n",
       "    </tr></tbody> \n",
       "</table> "
      ],
      "text/plain": [
       "<pandas.io.formats.style.Styler at 0x211881f9320>"
      ]
     },
     "execution_count": 96,
     "metadata": {},
     "output_type": "execute_result"
    }
   ],
   "source": [
    "#Learn how to highlight your dataframe\n",
    "df.style.background_gradient(cmap='summer')"
   ]
  },
  {
   "cell_type": "code",
   "execution_count": 97,
   "metadata": {},
   "outputs": [
    {
     "name": "stdout",
     "output_type": "stream",
     "text": [
      "Total number of active COVID 2019 cases across India: 53667\n"
     ]
    },
    {
     "data": {
      "text/html": [
       "<style  type=\"text/css\" >\n",
       "    #T_dea7641c_9860_11ea_aa4c_54e1adcb4cf0row0_col0 {\n",
       "            background-color:  #ffff66;\n",
       "        }    #T_dea7641c_9860_11ea_aa4c_54e1adcb4cf0row1_col0 {\n",
       "            background-color:  #4fa766;\n",
       "        }    #T_dea7641c_9860_11ea_aa4c_54e1adcb4cf0row2_col0 {\n",
       "            background-color:  #44a266;\n",
       "        }    #T_dea7641c_9860_11ea_aa4c_54e1adcb4cf0row3_col0 {\n",
       "            background-color:  #3c9e66;\n",
       "        }    #T_dea7641c_9860_11ea_aa4c_54e1adcb4cf0row4_col0 {\n",
       "            background-color:  #198c66;\n",
       "        }    #T_dea7641c_9860_11ea_aa4c_54e1adcb4cf0row5_col0 {\n",
       "            background-color:  #158a66;\n",
       "        }    #T_dea7641c_9860_11ea_aa4c_54e1adcb4cf0row6_col0 {\n",
       "            background-color:  #138966;\n",
       "        }    #T_dea7641c_9860_11ea_aa4c_54e1adcb4cf0row7_col0 {\n",
       "            background-color:  #108866;\n",
       "        }    #T_dea7641c_9860_11ea_aa4c_54e1adcb4cf0row8_col0 {\n",
       "            background-color:  #0a8466;\n",
       "        }    #T_dea7641c_9860_11ea_aa4c_54e1adcb4cf0row9_col0 {\n",
       "            background-color:  #088466;\n",
       "        }    #T_dea7641c_9860_11ea_aa4c_54e1adcb4cf0row10_col0 {\n",
       "            background-color:  #078366;\n",
       "        }    #T_dea7641c_9860_11ea_aa4c_54e1adcb4cf0row11_col0 {\n",
       "            background-color:  #078366;\n",
       "        }    #T_dea7641c_9860_11ea_aa4c_54e1adcb4cf0row12_col0 {\n",
       "            background-color:  #068266;\n",
       "        }    #T_dea7641c_9860_11ea_aa4c_54e1adcb4cf0row13_col0 {\n",
       "            background-color:  #068266;\n",
       "        }    #T_dea7641c_9860_11ea_aa4c_54e1adcb4cf0row14_col0 {\n",
       "            background-color:  #058266;\n",
       "        }    #T_dea7641c_9860_11ea_aa4c_54e1adcb4cf0row15_col0 {\n",
       "            background-color:  #048266;\n",
       "        }    #T_dea7641c_9860_11ea_aa4c_54e1adcb4cf0row16_col0 {\n",
       "            background-color:  #018066;\n",
       "        }    #T_dea7641c_9860_11ea_aa4c_54e1adcb4cf0row17_col0 {\n",
       "            background-color:  #018066;\n",
       "        }    #T_dea7641c_9860_11ea_aa4c_54e1adcb4cf0row18_col0 {\n",
       "            background-color:  #018066;\n",
       "        }    #T_dea7641c_9860_11ea_aa4c_54e1adcb4cf0row19_col0 {\n",
       "            background-color:  #008066;\n",
       "        }    #T_dea7641c_9860_11ea_aa4c_54e1adcb4cf0row20_col0 {\n",
       "            background-color:  #008066;\n",
       "        }    #T_dea7641c_9860_11ea_aa4c_54e1adcb4cf0row21_col0 {\n",
       "            background-color:  #008066;\n",
       "        }    #T_dea7641c_9860_11ea_aa4c_54e1adcb4cf0row22_col0 {\n",
       "            background-color:  #008066;\n",
       "        }    #T_dea7641c_9860_11ea_aa4c_54e1adcb4cf0row23_col0 {\n",
       "            background-color:  #008066;\n",
       "        }    #T_dea7641c_9860_11ea_aa4c_54e1adcb4cf0row24_col0 {\n",
       "            background-color:  #008066;\n",
       "        }    #T_dea7641c_9860_11ea_aa4c_54e1adcb4cf0row25_col0 {\n",
       "            background-color:  #008066;\n",
       "        }    #T_dea7641c_9860_11ea_aa4c_54e1adcb4cf0row26_col0 {\n",
       "            background-color:  #008066;\n",
       "        }    #T_dea7641c_9860_11ea_aa4c_54e1adcb4cf0row27_col0 {\n",
       "            background-color:  #008066;\n",
       "        }    #T_dea7641c_9860_11ea_aa4c_54e1adcb4cf0row28_col0 {\n",
       "            background-color:  #008066;\n",
       "        }    #T_dea7641c_9860_11ea_aa4c_54e1adcb4cf0row29_col0 {\n",
       "            background-color:  #008066;\n",
       "        }    #T_dea7641c_9860_11ea_aa4c_54e1adcb4cf0row30_col0 {\n",
       "            background-color:  #008066;\n",
       "        }    #T_dea7641c_9860_11ea_aa4c_54e1adcb4cf0row31_col0 {\n",
       "            background-color:  #008066;\n",
       "        }    #T_dea7641c_9860_11ea_aa4c_54e1adcb4cf0row32_col0 {\n",
       "            background-color:  #008066;\n",
       "        }    #T_dea7641c_9860_11ea_aa4c_54e1adcb4cf0row33_col0 {\n",
       "            background-color:  #008066;\n",
       "        }    #T_dea7641c_9860_11ea_aa4c_54e1adcb4cf0row34_col0 {\n",
       "            background-color:  #008066;\n",
       "        }    #T_dea7641c_9860_11ea_aa4c_54e1adcb4cf0row35_col0 {\n",
       "            background-color:  #008066;\n",
       "        }    #T_dea7641c_9860_11ea_aa4c_54e1adcb4cf0row36_col0 {\n",
       "            background-color:  #008066;\n",
       "        }</style>  \n",
       "<table id=\"T_dea7641c_9860_11ea_aa4c_54e1adcb4cf0\" > \n",
       "<thead>    <tr> \n",
       "        <th class=\"blank level0\" ></th> \n",
       "        <th class=\"col_heading level0 col0\" >Total Active</th> \n",
       "    </tr>    <tr> \n",
       "        <th class=\"index_name level0\" >state</th> \n",
       "        <th class=\"blank\" ></th> \n",
       "    </tr></thead> \n",
       "<tbody>    <tr> \n",
       "        <th id=\"T_dea7641c_9860_11ea_aa4c_54e1adcb4cf0level0_row0\" class=\"row_heading level0 row0\" >Maharashtra</th> \n",
       "        <td id=\"T_dea7641c_9860_11ea_aa4c_54e1adcb4cf0row0_col0\" class=\"data row0 col0\" >22483</td> \n",
       "    </tr>    <tr> \n",
       "        <th id=\"T_dea7641c_9860_11ea_aa4c_54e1adcb4cf0level0_row1\" class=\"row_heading level0 row1\" >Tamil Nadu</th> \n",
       "        <td id=\"T_dea7641c_9860_11ea_aa4c_54e1adcb4cf0row1_col0\" class=\"data row1 col0\" >6973</td> \n",
       "    </tr>    <tr> \n",
       "        <th id=\"T_dea7641c_9860_11ea_aa4c_54e1adcb4cf0level0_row2\" class=\"row_heading level0 row2\" >Gujarat</th> \n",
       "        <td id=\"T_dea7641c_9860_11ea_aa4c_54e1adcb4cf0row2_col0\" class=\"data row2 col0\" >6056</td> \n",
       "    </tr>    <tr> \n",
       "        <th id=\"T_dea7641c_9860_11ea_aa4c_54e1adcb4cf0level0_row3\" class=\"row_heading level0 row3\" >Delhi</th> \n",
       "        <td id=\"T_dea7641c_9860_11ea_aa4c_54e1adcb4cf0row3_col0\" class=\"data row3 col0\" >5278</td> \n",
       "    </tr>    <tr> \n",
       "        <th id=\"T_dea7641c_9860_11ea_aa4c_54e1adcb4cf0level0_row4\" class=\"row_heading level0 row4\" >Madhya Pradesh</th> \n",
       "        <td id=\"T_dea7641c_9860_11ea_aa4c_54e1adcb4cf0row4_col0\" class=\"data row4 col0\" >2232</td> \n",
       "    </tr>    <tr> \n",
       "        <th id=\"T_dea7641c_9860_11ea_aa4c_54e1adcb4cf0level0_row5\" class=\"row_heading level0 row5\" >Rajasthan</th> \n",
       "        <td id=\"T_dea7641c_9860_11ea_aa4c_54e1adcb4cf0row5_col0\" class=\"data row5 col0\" >1911</td> \n",
       "    </tr>    <tr> \n",
       "        <th id=\"T_dea7641c_9860_11ea_aa4c_54e1adcb4cf0level0_row6\" class=\"row_heading level0 row6\" >Uttar Pradesh</th> \n",
       "        <td id=\"T_dea7641c_9860_11ea_aa4c_54e1adcb4cf0row6_col0\" class=\"data row6 col0\" >1713</td> \n",
       "    </tr>    <tr> \n",
       "        <th id=\"T_dea7641c_9860_11ea_aa4c_54e1adcb4cf0level0_row7\" class=\"row_heading level0 row7\" >West Bengal</th> \n",
       "        <td id=\"T_dea7641c_9860_11ea_aa4c_54e1adcb4cf0row7_col0\" class=\"data row7 col0\" >1452</td> \n",
       "    </tr>    <tr> \n",
       "        <th id=\"T_dea7641c_9860_11ea_aa4c_54e1adcb4cf0level0_row8\" class=\"row_heading level0 row8\" >Andhra Pradesh</th> \n",
       "        <td id=\"T_dea7641c_9860_11ea_aa4c_54e1adcb4cf0row8_col0\" class=\"data row8 col0\" >953</td> \n",
       "    </tr>    <tr> \n",
       "        <th id=\"T_dea7641c_9860_11ea_aa4c_54e1adcb4cf0level0_row9\" class=\"row_heading level0 row9\" >Bihar</th> \n",
       "        <td id=\"T_dea7641c_9860_11ea_aa4c_54e1adcb4cf0row9_col0\" class=\"data row9 col0\" >731</td> \n",
       "    </tr>    <tr> \n",
       "        <th id=\"T_dea7641c_9860_11ea_aa4c_54e1adcb4cf0level0_row10\" class=\"row_heading level0 row10\" >Punjab</th> \n",
       "        <td id=\"T_dea7641c_9860_11ea_aa4c_54e1adcb4cf0row10_col0\" class=\"data row10 col0\" >657</td> \n",
       "    </tr>    <tr> \n",
       "        <th id=\"T_dea7641c_9860_11ea_aa4c_54e1adcb4cf0level0_row11\" class=\"row_heading level0 row11\" >Odisha</th> \n",
       "        <td id=\"T_dea7641c_9860_11ea_aa4c_54e1adcb4cf0row11_col0\" class=\"data row11 col0\" >627</td> \n",
       "    </tr>    <tr> \n",
       "        <th id=\"T_dea7641c_9860_11ea_aa4c_54e1adcb4cf0level0_row12\" class=\"row_heading level0 row12\" >Jammu and Kashmir</th> \n",
       "        <td id=\"T_dea7641c_9860_11ea_aa4c_54e1adcb4cf0row12_col0\" class=\"data row12 col0\" >567</td> \n",
       "    </tr>    <tr> \n",
       "        <th id=\"T_dea7641c_9860_11ea_aa4c_54e1adcb4cf0level0_row13\" class=\"row_heading level0 row13\" >Karnataka</th> \n",
       "        <td id=\"T_dea7641c_9860_11ea_aa4c_54e1adcb4cf0row13_col0\" class=\"data row13 col0\" >560</td> \n",
       "    </tr>    <tr> \n",
       "        <th id=\"T_dea7641c_9860_11ea_aa4c_54e1adcb4cf0level0_row14\" class=\"row_heading level0 row14\" >Telangana</th> \n",
       "        <td id=\"T_dea7641c_9860_11ea_aa4c_54e1adcb4cf0row14_col0\" class=\"data row14 col0\" >504</td> \n",
       "    </tr>    <tr> \n",
       "        <th id=\"T_dea7641c_9860_11ea_aa4c_54e1adcb4cf0level0_row15\" class=\"row_heading level0 row15\" >Haryana</th> \n",
       "        <td id=\"T_dea7641c_9860_11ea_aa4c_54e1adcb4cf0row15_col0\" class=\"data row15 col0\" >360</td> \n",
       "    </tr>    <tr> \n",
       "        <th id=\"T_dea7641c_9860_11ea_aa4c_54e1adcb4cf0level0_row16\" class=\"row_heading level0 row16\" >Chandigarh</th> \n",
       "        <td id=\"T_dea7641c_9860_11ea_aa4c_54e1adcb4cf0row16_col0\" class=\"data row16 col0\" >137</td> \n",
       "    </tr>    <tr> \n",
       "        <th id=\"T_dea7641c_9860_11ea_aa4c_54e1adcb4cf0level0_row17\" class=\"row_heading level0 row17\" >Tripura</th> \n",
       "        <td id=\"T_dea7641c_9860_11ea_aa4c_54e1adcb4cf0row17_col0\" class=\"data row17 col0\" >103</td> \n",
       "    </tr>    <tr> \n",
       "        <th id=\"T_dea7641c_9860_11ea_aa4c_54e1adcb4cf0level0_row18\" class=\"row_heading level0 row18\" >Jharkhand</th> \n",
       "        <td id=\"T_dea7641c_9860_11ea_aa4c_54e1adcb4cf0row18_col0\" class=\"data row18 col0\" >101</td> \n",
       "    </tr>    <tr> \n",
       "        <th id=\"T_dea7641c_9860_11ea_aa4c_54e1adcb4cf0level0_row19\" class=\"row_heading level0 row19\" >Kerala</th> \n",
       "        <td id=\"T_dea7641c_9860_11ea_aa4c_54e1adcb4cf0row19_col0\" class=\"data row19 col0\" >87</td> \n",
       "    </tr>    <tr> \n",
       "        <th id=\"T_dea7641c_9860_11ea_aa4c_54e1adcb4cf0level0_row20\" class=\"row_heading level0 row20\" >Assam</th> \n",
       "        <td id=\"T_dea7641c_9860_11ea_aa4c_54e1adcb4cf0row20_col0\" class=\"data row20 col0\" >53</td> \n",
       "    </tr>    <tr> \n",
       "        <th id=\"T_dea7641c_9860_11ea_aa4c_54e1adcb4cf0level0_row21\" class=\"row_heading level0 row21\" >Uttarakhand</th> \n",
       "        <td id=\"T_dea7641c_9860_11ea_aa4c_54e1adcb4cf0row21_col0\" class=\"data row21 col0\" >39</td> \n",
       "    </tr>    <tr> \n",
       "        <th id=\"T_dea7641c_9860_11ea_aa4c_54e1adcb4cf0level0_row22\" class=\"row_heading level0 row22\" >Himachal Pradesh</th> \n",
       "        <td id=\"T_dea7641c_9860_11ea_aa4c_54e1adcb4cf0row22_col0\" class=\"data row22 col0\" >36</td> \n",
       "    </tr>    <tr> \n",
       "        <th id=\"T_dea7641c_9860_11ea_aa4c_54e1adcb4cf0level0_row23\" class=\"row_heading level0 row23\" >Ladakh</th> \n",
       "        <td id=\"T_dea7641c_9860_11ea_aa4c_54e1adcb4cf0row23_col0\" class=\"data row23 col0\" >19</td> \n",
       "    </tr>    <tr> \n",
       "        <th id=\"T_dea7641c_9860_11ea_aa4c_54e1adcb4cf0level0_row24\" class=\"row_heading level0 row24\" >Goa</th> \n",
       "        <td id=\"T_dea7641c_9860_11ea_aa4c_54e1adcb4cf0row24_col0\" class=\"data row24 col0\" >13</td> \n",
       "    </tr>    <tr> \n",
       "        <th id=\"T_dea7641c_9860_11ea_aa4c_54e1adcb4cf0level0_row25\" class=\"row_heading level0 row25\" >Chhattisgarh</th> \n",
       "        <td id=\"T_dea7641c_9860_11ea_aa4c_54e1adcb4cf0row25_col0\" class=\"data row25 col0\" >9</td> \n",
       "    </tr>    <tr> \n",
       "        <th id=\"T_dea7641c_9860_11ea_aa4c_54e1adcb4cf0level0_row26\" class=\"row_heading level0 row26\" >Puducherry</th> \n",
       "        <td id=\"T_dea7641c_9860_11ea_aa4c_54e1adcb4cf0row26_col0\" class=\"data row26 col0\" >7</td> \n",
       "    </tr>    <tr> \n",
       "        <th id=\"T_dea7641c_9860_11ea_aa4c_54e1adcb4cf0level0_row27\" class=\"row_heading level0 row27\" >Manipur</th> \n",
       "        <td id=\"T_dea7641c_9860_11ea_aa4c_54e1adcb4cf0row27_col0\" class=\"data row27 col0\" >5</td> \n",
       "    </tr>    <tr> \n",
       "        <th id=\"T_dea7641c_9860_11ea_aa4c_54e1adcb4cf0level0_row28\" class=\"row_heading level0 row28\" >Meghalaya</th> \n",
       "        <td id=\"T_dea7641c_9860_11ea_aa4c_54e1adcb4cf0row28_col0\" class=\"data row28 col0\" >1</td> \n",
       "    </tr>    <tr> \n",
       "        <th id=\"T_dea7641c_9860_11ea_aa4c_54e1adcb4cf0level0_row29\" class=\"row_heading level0 row29\" >Lakshadweep</th> \n",
       "        <td id=\"T_dea7641c_9860_11ea_aa4c_54e1adcb4cf0row29_col0\" class=\"data row29 col0\" >0</td> \n",
       "    </tr>    <tr> \n",
       "        <th id=\"T_dea7641c_9860_11ea_aa4c_54e1adcb4cf0level0_row30\" class=\"row_heading level0 row30\" >Daman and Diu</th> \n",
       "        <td id=\"T_dea7641c_9860_11ea_aa4c_54e1adcb4cf0row30_col0\" class=\"data row30 col0\" >0</td> \n",
       "    </tr>    <tr> \n",
       "        <th id=\"T_dea7641c_9860_11ea_aa4c_54e1adcb4cf0level0_row31\" class=\"row_heading level0 row31\" >Dadra and Nagar Haveli and Daman and Diu</th> \n",
       "        <td id=\"T_dea7641c_9860_11ea_aa4c_54e1adcb4cf0row31_col0\" class=\"data row31 col0\" >0</td> \n",
       "    </tr>    <tr> \n",
       "        <th id=\"T_dea7641c_9860_11ea_aa4c_54e1adcb4cf0level0_row32\" class=\"row_heading level0 row32\" >Mizoram</th> \n",
       "        <td id=\"T_dea7641c_9860_11ea_aa4c_54e1adcb4cf0row32_col0\" class=\"data row32 col0\" >0</td> \n",
       "    </tr>    <tr> \n",
       "        <th id=\"T_dea7641c_9860_11ea_aa4c_54e1adcb4cf0level0_row33\" class=\"row_heading level0 row33\" >Nagaland</th> \n",
       "        <td id=\"T_dea7641c_9860_11ea_aa4c_54e1adcb4cf0row33_col0\" class=\"data row33 col0\" >0</td> \n",
       "    </tr>    <tr> \n",
       "        <th id=\"T_dea7641c_9860_11ea_aa4c_54e1adcb4cf0level0_row34\" class=\"row_heading level0 row34\" >Arunachal Pradesh</th> \n",
       "        <td id=\"T_dea7641c_9860_11ea_aa4c_54e1adcb4cf0row34_col0\" class=\"data row34 col0\" >0</td> \n",
       "    </tr>    <tr> \n",
       "        <th id=\"T_dea7641c_9860_11ea_aa4c_54e1adcb4cf0level0_row35\" class=\"row_heading level0 row35\" >Sikkim</th> \n",
       "        <td id=\"T_dea7641c_9860_11ea_aa4c_54e1adcb4cf0row35_col0\" class=\"data row35 col0\" >0</td> \n",
       "    </tr>    <tr> \n",
       "        <th id=\"T_dea7641c_9860_11ea_aa4c_54e1adcb4cf0level0_row36\" class=\"row_heading level0 row36\" >Andaman and Nicobar Islands</th> \n",
       "        <td id=\"T_dea7641c_9860_11ea_aa4c_54e1adcb4cf0row36_col0\" class=\"data row36 col0\" >0</td> \n",
       "    </tr></tbody> \n",
       "</table> "
      ],
      "text/plain": [
       "<pandas.io.formats.style.Styler at 0x21188bc0cf8>"
      ]
     },
     "execution_count": 97,
     "metadata": {},
     "output_type": "execute_result"
    }
   ],
   "source": [
    "#Total Active  is the Total cases - (Number of death + Cured)\n",
    "df['Total Active'] = df['confirmed'] - (df['deaths'] + df['recovered'])\n",
    "total_active = df['Total Active'].sum()\n",
    "print('Total number of active COVID 2019 cases across India:', total_active)\n",
    "Tot_Cases = df.groupby('state')['Total Active'].sum().sort_values(ascending=False).to_frame()\n",
    "Tot_Cases.style.background_gradient(cmap='summer')"
   ]
  },
  {
   "cell_type": "code",
   "execution_count": 46,
   "metadata": {},
   "outputs": [
    {
     "data": {
      "image/png": "[encoded data removed]",
      "text/plain": [
       "<Figure size 864x576 with 1 Axes>"
      ]
     },
     "metadata": {
      "needs_background": "light"
     },
     "output_type": "display_data"
    }
   ],
   "source": [
    "India_coord = pd.read_csv('C:/Users/Sai Sarath/Desktop/Sem6/Indian Coordinates.csv')\n",
    "df_full = pd.merge(India_coord,df,on='state')\n",
    "#Learn how to use Seaborn for visualization\n",
    "f, ax = plt.subplots(figsize=(12, 8))\n",
    "data = df_full[['state','confirmed','recovered','deaths']]\n",
    "data.sort_values('confirmed',ascending=False,inplace=True)\n",
    "sns.set_color_codes(\"pastel\")\n",
    "sns.barplot(x=\"confirmed\", y=\"state\", data=data,label=\"Total\", color=\"red\")\n",
    "\n",
    "sns.set_color_codes(\"muted\")\n",
    "sns.barplot(x=\"recovered\", y=\"state\", data=data, label=\"Cured\", color=\"g\")\n",
    "\n",
    "\n",
    "# Add a legend and informative axis label\n",
    "ax.legend(ncol=2, loc=\"lower right\", frameon=True)\n",
    "ax.set(xlim=(0, 20000), ylabel=\"\",xlabel=\"Cases\")\n",
    "sns.despine(left=True, bottom=True)"
   ]
  },
  {
   "cell_type": "code",
   "execution_count": 70,
   "metadata": {},
   "outputs": [
    {
     "data": {
      "application/vnd.plotly.v1+json": {
       "config": {
        "plotlyServerURL": "https://plot.ly"
       },
       "data": [
        {
         "mode": "lines+markers",
         "name": "Total Cases",
         "type": "scatter",
         "x": [
          "2020-01-30",
          "2020-01-31",
          "2020-02-01",
          "2020-02-02",
          "2020-02-03",
          "2020-02-04",
          "2020-02-05",
          "2020-02-06",
          "2020-02-07",
          "2020-02-08",
          "2020-02-09",
          "2020-02-10",
          "2020-02-11",
          "2020-02-12",
          "2020-02-13",
          "2020-02-14",
          "2020-02-15",
          "2020-02-16",
          "2020-02-17",
          "2020-02-18",
          "2020-02-19",
          "2020-02-20",
          "2020-02-21",
          "2020-02-22",
          "2020-02-23",
          "2020-02-24",
          "2020-02-25",
          "2020-02-26",
          "2020-02-27",
          "2020-02-28",
          "2020-02-29",
          "2020-03-01",
          "2020-03-02",
          "2020-03-03",
          "2020-03-04",
          "2020-03-05",
          "2020-03-06",
          "2020-03-07",
          "2020-03-08",
          "2020-03-09",
          "2020-03-10",
          "2020-03-11",
          "2020-03-12",
          "2020-03-13",
          "2020-03-14",
          "2020-03-15",
          "2020-03-16",
          "2020-03-17",
          "2020-03-18",
          "2020-03-19",
          "2020-03-20",
          "2020-03-21",
          "2020-03-22",
          "2020-03-23",
          "2020-03-24",
          "2020-03-25",
          "2020-03-26",
          "2020-03-27",
          "2020-03-28",
          "2020-03-29",
          "2020-03-30",
          "2020-03-31",
          "2020-04-01",
          "2020-04-02",
          "2020-04-03",
          "2020-04-04",
          "2020-04-05",
          "2020-04-06",
          "2020-04-07",
          "2020-04-08",
          "2020-04-09",
          "2020-04-10",
          "2020-04-11",
          "2020-04-12",
          "2020-04-13",
          "2020-04-14",
          "2020-04-15",
          "2020-04-16",
          "2020-04-17",
          "2020-04-18",
          "2020-04-19",
          "2020-04-20",
          "2020-04-21",
          "2020-04-22",
          "2020-04-23",
          "2020-04-24",
          "2020-04-25",
          "2020-04-26",
          "2020-04-27",
          "2020-04-28",
          "2020-04-29",
          "2020-04-30",
          "2020-05-01",
          "2020-05-02",
          "2020-05-03",
          "2020-05-04",
          "2020-05-05",
          "2020-05-06",
          "2020-05-07",
          "2020-05-08",
          "2020-05-09",
          "2020-05-10",
          "2020-05-11",
          "2020-05-12",
          "2020-05-13",
          "2020-05-14",
          "2020-05-15"
         ],
         "y": [
          1,
          1,
          1,
          2,
          3,
          3,
          3,
          3,
          3,
          3,
          3,
          3,
          3,
          3,
          3,
          3,
          3,
          3,
          3,
          3,
          3,
          3,
          3,
          3,
          3,
          3,
          3,
          3,
          3,
          3,
          3,
          3,
          5,
          6,
          28,
          30,
          31,
          34,
          39,
          48,
          63,
          71,
          81,
          91,
          102,
          112,
          126,
          146,
          171,
          198,
          256,
          334,
          403,
          497,
          571,
          657,
          730,
          883,
          1019,
          1139,
          1326,
          1635,
          2059,
          2545,
          3105,
          3684,
          4293,
          4777,
          5350,
          5915,
          6728,
          7599,
          8453,
          9211,
          10454,
          11485,
          12371,
          13432,
          14354,
          15725,
          17305,
          18544,
          20081,
          21373,
          23040,
          24448,
          26283,
          27890,
          29458,
          31360,
          33065,
          34866,
          37262,
          39826,
          42778,
          46434,
          49405,
          53007,
          56351,
          59690,
          62865,
          67176,
          70768,
          74330,
          78056,
          82047,
          85789
         ]
        },
        {
         "line": {
          "color": "green"
         },
         "mode": "lines+markers",
         "name": "Total Cured",
         "type": "scatter",
         "x": [
          "2020-01-30",
          "2020-01-31",
          "2020-02-01",
          "2020-02-02",
          "2020-02-03",
          "2020-02-04",
          "2020-02-05",
          "2020-02-06",
          "2020-02-07",
          "2020-02-08",
          "2020-02-09",
          "2020-02-10",
          "2020-02-11",
          "2020-02-12",
          "2020-02-13",
          "2020-02-14",
          "2020-02-15",
          "2020-02-16",
          "2020-02-17",
          "2020-02-18",
          "2020-02-19",
          "2020-02-20",
          "2020-02-21",
          "2020-02-22",
          "2020-02-23",
          "2020-02-24",
          "2020-02-25",
          "2020-02-26",
          "2020-02-27",
          "2020-02-28",
          "2020-02-29",
          "2020-03-01",
          "2020-03-02",
          "2020-03-03",
          "2020-03-04",
          "2020-03-05",
          "2020-03-06",
          "2020-03-07",
          "2020-03-08",
          "2020-03-09",
          "2020-03-10",
          "2020-03-11",
          "2020-03-12",
          "2020-03-13",
          "2020-03-14",
          "2020-03-15",
          "2020-03-16",
          "2020-03-17",
          "2020-03-18",
          "2020-03-19",
          "2020-03-20",
          "2020-03-21",
          "2020-03-22",
          "2020-03-23",
          "2020-03-24",
          "2020-03-25",
          "2020-03-26",
          "2020-03-27",
          "2020-03-28",
          "2020-03-29",
          "2020-03-30",
          "2020-03-31",
          "2020-04-01",
          "2020-04-02",
          "2020-04-03",
          "2020-04-04",
          "2020-04-05",
          "2020-04-06",
          "2020-04-07",
          "2020-04-08",
          "2020-04-09",
          "2020-04-10",
          "2020-04-11",
          "2020-04-12",
          "2020-04-13",
          "2020-04-14",
          "2020-04-15",
          "2020-04-16",
          "2020-04-17",
          "2020-04-18",
          "2020-04-19",
          "2020-04-20",
          "2020-04-21",
          "2020-04-22",
          "2020-04-23",
          "2020-04-24",
          "2020-04-25",
          "2020-04-26",
          "2020-04-27",
          "2020-04-28",
          "2020-04-29",
          "2020-04-30",
          "2020-05-01",
          "2020-05-02",
          "2020-05-03",
          "2020-05-04",
          "2020-05-05",
          "2020-05-06",
          "2020-05-07",
          "2020-05-08",
          "2020-05-09",
          "2020-05-10",
          "2020-05-11",
          "2020-05-12",
          "2020-05-13",
          "2020-05-14",
          "2020-05-15"
         ],
         "y": [
          0,
          0,
          0,
          0,
          0,
          0,
          0,
          0,
          0,
          0,
          0,
          0,
          0,
          0,
          1,
          1,
          1,
          2,
          2,
          2,
          2,
          3,
          3,
          3,
          3,
          3,
          3,
          3,
          3,
          3,
          3,
          3,
          3,
          3,
          3,
          3,
          3,
          3,
          3,
          3,
          4,
          4,
          4,
          10,
          10,
          13,
          14,
          15,
          15,
          20,
          23,
          23,
          23,
          25,
          40,
          43,
          50,
          75,
          85,
          102,
          137,
          150,
          169,
          191,
          230,
          286,
          329,
          394,
          469,
          565,
          635,
          786,
          972,
          1086,
          1198,
          1365,
          1509,
          1767,
          2040,
          2466,
          2854,
          3273,
          3976,
          4370,
          5012,
          5496,
          5938,
          6523,
          7103,
          7739,
          8429,
          9059,
          10021,
          10852,
          11763,
          12845,
          14140,
          15301,
          16776,
          17887,
          19301,
          20970,
          22549,
          24454,
          26417,
          27981,
          30258
         ]
        },
        {
         "line": {
          "color": "red"
         },
         "mode": "lines+markers",
         "name": "Total Death",
         "type": "scatter",
         "x": [
          "2020-01-30",
          "2020-01-31",
          "2020-02-01",
          "2020-02-02",
          "2020-02-03",
          "2020-02-04",
          "2020-02-05",
          "2020-02-06",
          "2020-02-07",
          "2020-02-08",
          "2020-02-09",
          "2020-02-10",
          "2020-02-11",
          "2020-02-12",
          "2020-02-13",
          "2020-02-14",
          "2020-02-15",
          "2020-02-16",
          "2020-02-17",
          "2020-02-18",
          "2020-02-19",
          "2020-02-20",
          "2020-02-21",
          "2020-02-22",
          "2020-02-23",
          "2020-02-24",
          "2020-02-25",
          "2020-02-26",
          "2020-02-27",
          "2020-02-28",
          "2020-02-29",
          "2020-03-01",
          "2020-03-02",
          "2020-03-03",
          "2020-03-04",
          "2020-03-05",
          "2020-03-06",
          "2020-03-07",
          "2020-03-08",
          "2020-03-09",
          "2020-03-10",
          "2020-03-11",
          "2020-03-12",
          "2020-03-13",
          "2020-03-14",
          "2020-03-15",
          "2020-03-16",
          "2020-03-17",
          "2020-03-18",
          "2020-03-19",
          "2020-03-20",
          "2020-03-21",
          "2020-03-22",
          "2020-03-23",
          "2020-03-24",
          "2020-03-25",
          "2020-03-26",
          "2020-03-27",
          "2020-03-28",
          "2020-03-29",
          "2020-03-30",
          "2020-03-31",
          "2020-04-01",
          "2020-04-02",
          "2020-04-03",
          "2020-04-04",
          "2020-04-05",
          "2020-04-06",
          "2020-04-07",
          "2020-04-08",
          "2020-04-09",
          "2020-04-10",
          "2020-04-11",
          "2020-04-12",
          "2020-04-13",
          "2020-04-14",
          "2020-04-15",
          "2020-04-16",
          "2020-04-17",
          "2020-04-18",
          "2020-04-19",
          "2020-04-20",
          "2020-04-21",
          "2020-04-22",
          "2020-04-23",
          "2020-04-24",
          "2020-04-25",
          "2020-04-26",
          "2020-04-27",
          "2020-04-28",
          "2020-04-29",
          "2020-04-30",
          "2020-05-01",
          "2020-05-02",
          "2020-05-03",
          "2020-05-04",
          "2020-05-05",
          "2020-05-06",
          "2020-05-07",
          "2020-05-08",
          "2020-05-09",
          "2020-05-10",
          "2020-05-11",
          "2020-05-12",
          "2020-05-13",
          "2020-05-14",
          "2020-05-15"
         ],
         "y": [
          0,
          0,
          0,
          0,
          0,
          0,
          0,
          0,
          0,
          0,
          0,
          0,
          0,
          0,
          0,
          0,
          0,
          0,
          0,
          0,
          0,
          0,
          0,
          0,
          0,
          0,
          0,
          0,
          0,
          0,
          0,
          0,
          0,
          0,
          0,
          0,
          0,
          0,
          0,
          0,
          0,
          0,
          1,
          1,
          2,
          2,
          2,
          3,
          3,
          4,
          4,
          4,
          7,
          9,
          10,
          11,
          16,
          19,
          24,
          27,
          41,
          47,
          53,
          69,
          83,
          96,
          118,
          134,
          161,
          181,
          227,
          249,
          290,
          332,
          359,
          396,
          423,
          449,
          487,
          522,
          560,
          593,
          646,
          682,
          722,
          781,
          825,
          881,
          939,
          1008,
          1079,
          1154,
          1231,
          1323,
          1463,
          1566,
          1694,
          1785,
          1889,
          1986,
          2101,
          2213,
          2294,
          2414,
          2551,
          2648,
          2752
         ]
        }
       ],
       "layout": {
        "plot_bgcolor": "rgb(230, 230, 230)",
        "template": {
         "data": {
          "bar": [
           {
            "error_x": {
             "color": "#2a3f5f"
            },
            "error_y": {
             "color": "#2a3f5f"
            },
            "marker": {
             "line": {
              "color": "#E5ECF6",
              "width": 0.5
             }
            },
            "type": "bar"
           }
          ],
          "barpolar": [
           {
            "marker": {
             "line": {
              "color": "#E5ECF6",
              "width": 0.5
             }
            },
            "type": "barpolar"
           }
          ],
          "carpet": [
           {
            "aaxis": {
             "endlinecolor": "#2a3f5f",
             "gridcolor": "white",
             "linecolor": "white",
             "minorgridcolor": "white",
             "startlinecolor": "#2a3f5f"
            },
            "baxis": {
             "endlinecolor": "#2a3f5f",
             "gridcolor": "white",
             "linecolor": "white",
             "minorgridcolor": "white",
             "startlinecolor": "#2a3f5f"
            },
            "type": "carpet"
           }
          ],
          "choropleth": [
           {
            "colorbar": {
             "outlinewidth": 0,
             "ticks": ""
            },
            "type": "choropleth"
           }
          ],
          "contour": [
           {
            "colorbar": {
             "outlinewidth": 0,
             "ticks": ""
            },
            "colorscale": [
             [
              0,
              "#0d0887"
             ],
             [
              0.1111111111111111,
              "#46039f"
             ],
             [
              0.2222222222222222,
              "#7201a8"
             ],
             [
              0.3333333333333333,
              "#9c179e"
             ],
             [
              0.4444444444444444,
              "#bd3786"
             ],
             [
              0.5555555555555556,
              "#d8576b"
             ],
             [
              0.6666666666666666,
              "#ed7953"
             ],
             [
              0.7777777777777778,
              "#fb9f3a"
             ],
             [
              0.8888888888888888,
              "#fdca26"
             ],
             [
              1,
              "#f0f921"
             ]
            ],
            "type": "contour"
           }
          ],
          "contourcarpet": [
           {
            "colorbar": {
             "outlinewidth": 0,
             "ticks": ""
            },
            "type": "contourcarpet"
           }
          ],
          "heatmap": [
           {
            "colorbar": {
             "outlinewidth": 0,
             "ticks": ""
            },
            "colorscale": [
             [
              0,
              "#0d0887"
             ],
             [
              0.1111111111111111,
              "#46039f"
             ],
             [
              0.2222222222222222,
              "#7201a8"
             ],
             [
              0.3333333333333333,
              "#9c179e"
             ],
             [
              0.4444444444444444,
              "#bd3786"
             ],
             [
              0.5555555555555556,
              "#d8576b"
             ],
             [
              0.6666666666666666,
              "#ed7953"
             ],
             [
              0.7777777777777778,
              "#fb9f3a"
             ],
             [
              0.8888888888888888,
              "#fdca26"
             ],
             [
              1,
              "#f0f921"
             ]
            ],
            "type": "heatmap"
           }
          ],
          "heatmapgl": [
           {
            "colorbar": {
             "outlinewidth": 0,
             "ticks": ""
            },
            "colorscale": [
             [
              0,
              "#0d0887"
             ],
             [
              0.1111111111111111,
              "#46039f"
             ],
             [
              0.2222222222222222,
              "#7201a8"
             ],
             [
              0.3333333333333333,
              "#9c179e"
             ],
             [
              0.4444444444444444,
              "#bd3786"
             ],
             [
              0.5555555555555556,
              "#d8576b"
             ],
             [
              0.6666666666666666,
              "#ed7953"
             ],
             [
              0.7777777777777778,
              "#fb9f3a"
             ],
             [
              0.8888888888888888,
              "#fdca26"
             ],
             [
              1,
              "#f0f921"
             ]
            ],
            "type": "heatmapgl"
           }
          ],
          "histogram": [
           {
            "marker": {
             "colorbar": {
              "outlinewidth": 0,
              "ticks": ""
             }
            },
            "type": "histogram"
           }
          ],
          "histogram2d": [
           {
            "colorbar": {
             "outlinewidth": 0,
             "ticks": ""
            },
            "colorscale": [
             [
              0,
              "#0d0887"
             ],
             [
              0.1111111111111111,
              "#46039f"
             ],
             [
              0.2222222222222222,
              "#7201a8"
             ],
             [
              0.3333333333333333,
              "#9c179e"
             ],
             [
              0.4444444444444444,
              "#bd3786"
             ],
             [
              0.5555555555555556,
              "#d8576b"
             ],
             [
              0.6666666666666666,
              "#ed7953"
             ],
             [
              0.7777777777777778,
              "#fb9f3a"
             ],
             [
              0.8888888888888888,
              "#fdca26"
             ],
             [
              1,
              "#f0f921"
             ]
            ],
            "type": "histogram2d"
           }
          ],
          "histogram2dcontour": [
           {
            "colorbar": {
             "outlinewidth": 0,
             "ticks": ""
            },
            "colorscale": [
             [
              0,
              "#0d0887"
             ],
             [
              0.1111111111111111,
              "#46039f"
             ],
             [
              0.2222222222222222,
              "#7201a8"
             ],
             [
              0.3333333333333333,
              "#9c179e"
             ],
             [
              0.4444444444444444,
              "#bd3786"
             ],
             [
              0.5555555555555556,
              "#d8576b"
             ],
             [
              0.6666666666666666,
              "#ed7953"
             ],
             [
              0.7777777777777778,
              "#fb9f3a"
             ],
             [
              0.8888888888888888,
              "#fdca26"
             ],
             [
              1,
              "#f0f921"
             ]
            ],
            "type": "histogram2dcontour"
           }
          ],
          "mesh3d": [
           {
            "colorbar": {
             "outlinewidth": 0,
             "ticks": ""
            },
            "type": "mesh3d"
           }
          ],
          "parcoords": [
           {
            "line": {
             "colorbar": {
              "outlinewidth": 0,
              "ticks": ""
             }
            },
            "type": "parcoords"
           }
          ],
          "pie": [
           {
            "automargin": true,
            "type": "pie"
           }
          ],
          "scatter": [
           {
            "marker": {
             "colorbar": {
              "outlinewidth": 0,
              "ticks": ""
             }
            },
            "type": "scatter"
           }
          ],
          "scatter3d": [
           {
            "line": {
             "colorbar": {
              "outlinewidth": 0,
              "ticks": ""
             }
            },
            "marker": {
             "colorbar": {
              "outlinewidth": 0,
              "ticks": ""
             }
            },
            "type": "scatter3d"
           }
          ],
          "scattercarpet": [
           {
            "marker": {
             "colorbar": {
              "outlinewidth": 0,
              "ticks": ""
             }
            },
            "type": "scattercarpet"
           }
          ],
          "scattergeo": [
           {
            "marker": {
             "colorbar": {
              "outlinewidth": 0,
              "ticks": ""
             }
            },
            "type": "scattergeo"
           }
          ],
          "scattergl": [
           {
            "marker": {
             "colorbar": {
              "outlinewidth": 0,
              "ticks": ""
             }
            },
            "type": "scattergl"
           }
          ],
          "scattermapbox": [
           {
            "marker": {
             "colorbar": {
              "outlinewidth": 0,
              "ticks": ""
             }
            },
            "type": "scattermapbox"
           }
          ],
          "scatterpolar": [
           {
            "marker": {
             "colorbar": {
              "outlinewidth": 0,
              "ticks": ""
             }
            },
            "type": "scatterpolar"
           }
          ],
          "scatterpolargl": [
           {
            "marker": {
             "colorbar": {
              "outlinewidth": 0,
              "ticks": ""
             }
            },
            "type": "scatterpolargl"
           }
          ],
          "scatterternary": [
           {
            "marker": {
             "colorbar": {
              "outlinewidth": 0,
              "ticks": ""
             }
            },
            "type": "scatterternary"
           }
          ],
          "surface": [
           {
            "colorbar": {
             "outlinewidth": 0,
             "ticks": ""
            },
            "colorscale": [
             [
              0,
              "#0d0887"
             ],
             [
              0.1111111111111111,
              "#46039f"
             ],
             [
              0.2222222222222222,
              "#7201a8"
             ],
             [
              0.3333333333333333,
              "#9c179e"
             ],
             [
              0.4444444444444444,
              "#bd3786"
             ],
             [
              0.5555555555555556,
              "#d8576b"
             ],
             [
              0.6666666666666666,
              "#ed7953"
             ],
             [
              0.7777777777777778,
              "#fb9f3a"
             ],
             [
              0.8888888888888888,
              "#fdca26"
             ],
             [
              1,
              "#f0f921"
             ]
            ],
            "type": "surface"
           }
          ],
          "table": [
           {
            "cells": {
             "fill": {
              "color": "#EBF0F8"
             },
             "line": {
              "color": "white"
             }
            },
            "header": {
             "fill": {
              "color": "#C8D4E3"
             },
             "line": {
              "color": "white"
             }
            },
            "type": "table"
           }
          ]
         },
         "layout": {
          "annotationdefaults": {
           "arrowcolor": "#2a3f5f",
           "arrowhead": 0,
           "arrowwidth": 1
          },
          "coloraxis": {
           "colorbar": {
            "outlinewidth": 0,
            "ticks": ""
           }
          },
          "colorscale": {
           "diverging": [
            [
             0,
             "#8e0152"
            ],
            [
             0.1,
             "#c51b7d"
            ],
            [
             0.2,
             "#de77ae"
            ],
            [
             0.3,
             "#f1b6da"
            ],
            [
             0.4,
             "#fde0ef"
            ],
            [
             0.5,
             "#f7f7f7"
            ],
            [
             0.6,
             "#e6f5d0"
            ],
            [
             0.7,
             "#b8e186"
            ],
            [
             0.8,
             "#7fbc41"
            ],
            [
             0.9,
             "#4d9221"
            ],
            [
             1,
             "#276419"
            ]
           ],
           "sequential": [
            [
             0,
             "#0d0887"
            ],
            [
             0.1111111111111111,
             "#46039f"
            ],
            [
             0.2222222222222222,
             "#7201a8"
            ],
            [
             0.3333333333333333,
             "#9c179e"
            ],
            [
             0.4444444444444444,
             "#bd3786"
            ],
            [
             0.5555555555555556,
             "#d8576b"
            ],
            [
             0.6666666666666666,
             "#ed7953"
            ],
            [
             0.7777777777777778,
             "#fb9f3a"
            ],
            [
             0.8888888888888888,
             "#fdca26"
            ],
            [
             1,
             "#f0f921"
            ]
           ],
           "sequentialminus": [
            [
             0,
             "#0d0887"
            ],
            [
             0.1111111111111111,
             "#46039f"
            ],
            [
             0.2222222222222222,
             "#7201a8"
            ],
            [
             0.3333333333333333,
             "#9c179e"
            ],
            [
             0.4444444444444444,
             "#bd3786"
            ],
            [
             0.5555555555555556,
             "#d8576b"
            ],
            [
             0.6666666666666666,
             "#ed7953"
            ],
            [
             0.7777777777777778,
             "#fb9f3a"
            ],
            [
             0.8888888888888888,
             "#fdca26"
            ],
            [
             1,
             "#f0f921"
            ]
           ]
          },
          "colorway": [
           "#636efa",
           "#EF553B",
           "#00cc96",
           "#ab63fa",
           "#FFA15A",
           "#19d3f3",
           "#FF6692",
           "#B6E880",
           "#FF97FF",
           "#FECB52"
          ],
          "font": {
           "color": "#2a3f5f"
          },
          "geo": {
           "bgcolor": "white",
           "lakecolor": "white",
           "landcolor": "#E5ECF6",
           "showlakes": true,
           "showland": true,
           "subunitcolor": "white"
          },
          "hoverlabel": {
           "align": "left"
          },
          "hovermode": "closest",
          "mapbox": {
           "style": "light"
          },
          "paper_bgcolor": "white",
          "plot_bgcolor": "#E5ECF6",
          "polar": {
           "angularaxis": {
            "gridcolor": "white",
            "linecolor": "white",
            "ticks": ""
           },
           "bgcolor": "#E5ECF6",
           "radialaxis": {
            "gridcolor": "white",
            "linecolor": "white",
            "ticks": ""
           }
          },
          "scene": {
           "xaxis": {
            "backgroundcolor": "#E5ECF6",
            "gridcolor": "white",
            "gridwidth": 2,
            "linecolor": "white",
            "showbackground": true,
            "ticks": "",
            "zerolinecolor": "white"
           },
           "yaxis": {
            "backgroundcolor": "#E5ECF6",
            "gridcolor": "white",
            "gridwidth": 2,
            "linecolor": "white",
            "showbackground": true,
            "ticks": "",
            "zerolinecolor": "white"
           },
           "zaxis": {
            "backgroundcolor": "#E5ECF6",
            "gridcolor": "white",
            "gridwidth": 2,
            "linecolor": "white",
            "showbackground": true,
            "ticks": "",
            "zerolinecolor": "white"
           }
          },
          "shapedefaults": {
           "line": {
            "color": "#2a3f5f"
           }
          },
          "ternary": {
           "aaxis": {
            "gridcolor": "white",
            "linecolor": "white",
            "ticks": ""
           },
           "baxis": {
            "gridcolor": "white",
            "linecolor": "white",
            "ticks": ""
           },
           "bgcolor": "#E5ECF6",
           "caxis": {
            "gridcolor": "white",
            "linecolor": "white",
            "ticks": ""
           }
          },
          "title": {
           "x": 0.05
          },
          "xaxis": {
           "automargin": true,
           "gridcolor": "white",
           "linecolor": "white",
           "ticks": "",
           "title": {
            "standoff": 15
           },
           "zerolinecolor": "white",
           "zerolinewidth": 2
          },
          "yaxis": {
           "automargin": true,
           "gridcolor": "white",
           "linecolor": "white",
           "ticks": "",
           "title": {
            "standoff": 15
           },
           "zerolinecolor": "white",
           "zerolinewidth": 2
          }
         }
        },
        "title": {
         "text": "Trend of Coronavirus Cases in India (Cumulative cases)"
        }
       }
      },
      "text/html": [
       "<div>\n",
       "        \n",
       "        \n",
       "            <div id=\"88caf395-afd2-4181-a36c-d8e49b5ac16e\" class=\"plotly-graph-div\" style=\"height:525px; width:100%;\"></div>\n",
       "            <script type=\"text/javascript\">\n",
       "                require([\"plotly\"], function(Plotly) {\n",
       "                    window.PLOTLYENV=window.PLOTLYENV || {};\n",
       "                    \n",
       "                if (document.getElementById(\"88caf395-afd2-4181-a36c-d8e49b5ac16e\")) {\n",
       "                    Plotly.newPlot(\n",
       "                        '88caf395-afd2-4181-a36c-d8e49b5ac16e',\n",
       "                        [{\"mode\": \"lines+markers\", \"name\": \"Total Cases\", \"type\": \"scatter\", \"x\": [\"2020-01-30\", \"2020-01-31\", \"2020-02-01\", \"2020-02-02\", \"2020-02-03\", \"2020-02-04\", \"2020-02-05\", \"2020-02-06\", \"2020-02-07\", \"2020-02-08\", \"2020-02-09\", \"2020-02-10\", \"2020-02-11\", \"2020-02-12\", \"2020-02-13\", \"2020-02-14\", \"2020-02-15\", \"2020-02-16\", \"2020-02-17\", \"2020-02-18\", \"2020-02-19\", \"2020-02-20\", \"2020-02-21\", \"2020-02-22\", \"2020-02-23\", \"2020-02-24\", \"2020-02-25\", \"2020-02-26\", \"2020-02-27\", \"2020-02-28\", \"2020-02-29\", \"2020-03-01\", \"2020-03-02\", \"2020-03-03\", \"2020-03-04\", \"2020-03-05\", \"2020-03-06\", \"2020-03-07\", \"2020-03-08\", \"2020-03-09\", \"2020-03-10\", \"2020-03-11\", \"2020-03-12\", \"2020-03-13\", \"2020-03-14\", \"2020-03-15\", \"2020-03-16\", \"2020-03-17\", \"2020-03-18\", \"2020-03-19\", \"2020-03-20\", \"2020-03-21\", \"2020-03-22\", \"2020-03-23\", \"2020-03-24\", \"2020-03-25\", \"2020-03-26\", \"2020-03-27\", \"2020-03-28\", \"2020-03-29\", \"2020-03-30\", \"2020-03-31\", \"2020-04-01\", \"2020-04-02\", \"2020-04-03\", \"2020-04-04\", \"2020-04-05\", \"2020-04-06\", \"2020-04-07\", \"2020-04-08\", \"2020-04-09\", \"2020-04-10\", \"2020-04-11\", \"2020-04-12\", \"2020-04-13\", \"2020-04-14\", \"2020-04-15\", \"2020-04-16\", \"2020-04-17\", \"2020-04-18\", \"2020-04-19\", \"2020-04-20\", \"2020-04-21\", \"2020-04-22\", \"2020-04-23\", \"2020-04-24\", \"2020-04-25\", \"2020-04-26\", \"2020-04-27\", \"2020-04-28\", \"2020-04-29\", \"2020-04-30\", \"2020-05-01\", \"2020-05-02\", \"2020-05-03\", \"2020-05-04\", \"2020-05-05\", \"2020-05-06\", \"2020-05-07\", \"2020-05-08\", \"2020-05-09\", \"2020-05-10\", \"2020-05-11\", \"2020-05-12\", \"2020-05-13\", \"2020-05-14\", \"2020-05-15\"], \"y\": [1, 1, 1, 2, 3, 3, 3, 3, 3, 3, 3, 3, 3, 3, 3, 3, 3, 3, 3, 3, 3, 3, 3, 3, 3, 3, 3, 3, 3, 3, 3, 3, 5, 6, 28, 30, 31, 34, 39, 48, 63, 71, 81, 91, 102, 112, 126, 146, 171, 198, 256, 334, 403, 497, 571, 657, 730, 883, 1019, 1139, 1326, 1635, 2059, 2545, 3105, 3684, 4293, 4777, 5350, 5915, 6728, 7599, 8453, 9211, 10454, 11485, 12371, 13432, 14354, 15725, 17305, 18544, 20081, 21373, 23040, 24448, 26283, 27890, 29458, 31360, 33065, 34866, 37262, 39826, 42778, 46434, 49405, 53007, 56351, 59690, 62865, 67176, 70768, 74330, 78056, 82047, 85789]}, {\"line\": {\"color\": \"green\"}, \"mode\": \"lines+markers\", \"name\": \"Total Cured\", \"type\": \"scatter\", \"x\": [\"2020-01-30\", \"2020-01-31\", \"2020-02-01\", \"2020-02-02\", \"2020-02-03\", \"2020-02-04\", \"2020-02-05\", \"2020-02-06\", \"2020-02-07\", \"2020-02-08\", \"2020-02-09\", \"2020-02-10\", \"2020-02-11\", \"2020-02-12\", \"2020-02-13\", \"2020-02-14\", \"2020-02-15\", \"2020-02-16\", \"2020-02-17\", \"2020-02-18\", \"2020-02-19\", \"2020-02-20\", \"2020-02-21\", \"2020-02-22\", \"2020-02-23\", \"2020-02-24\", \"2020-02-25\", \"2020-02-26\", \"2020-02-27\", \"2020-02-28\", \"2020-02-29\", \"2020-03-01\", \"2020-03-02\", \"2020-03-03\", \"2020-03-04\", \"2020-03-05\", \"2020-03-06\", \"2020-03-07\", \"2020-03-08\", \"2020-03-09\", \"2020-03-10\", \"2020-03-11\", \"2020-03-12\", \"2020-03-13\", \"2020-03-14\", \"2020-03-15\", \"2020-03-16\", \"2020-03-17\", \"2020-03-18\", \"2020-03-19\", \"2020-03-20\", \"2020-03-21\", \"2020-03-22\", \"2020-03-23\", \"2020-03-24\", \"2020-03-25\", \"2020-03-26\", \"2020-03-27\", \"2020-03-28\", \"2020-03-29\", \"2020-03-30\", \"2020-03-31\", \"2020-04-01\", \"2020-04-02\", \"2020-04-03\", \"2020-04-04\", \"2020-04-05\", \"2020-04-06\", \"2020-04-07\", \"2020-04-08\", \"2020-04-09\", \"2020-04-10\", \"2020-04-11\", \"2020-04-12\", \"2020-04-13\", \"2020-04-14\", \"2020-04-15\", \"2020-04-16\", \"2020-04-17\", \"2020-04-18\", \"2020-04-19\", \"2020-04-20\", \"2020-04-21\", \"2020-04-22\", \"2020-04-23\", \"2020-04-24\", \"2020-04-25\", \"2020-04-26\", \"2020-04-27\", \"2020-04-28\", \"2020-04-29\", \"2020-04-30\", \"2020-05-01\", \"2020-05-02\", \"2020-05-03\", \"2020-05-04\", \"2020-05-05\", \"2020-05-06\", \"2020-05-07\", \"2020-05-08\", \"2020-05-09\", \"2020-05-10\", \"2020-05-11\", \"2020-05-12\", \"2020-05-13\", \"2020-05-14\", \"2020-05-15\"], \"y\": [0, 0, 0, 0, 0, 0, 0, 0, 0, 0, 0, 0, 0, 0, 1, 1, 1, 2, 2, 2, 2, 3, 3, 3, 3, 3, 3, 3, 3, 3, 3, 3, 3, 3, 3, 3, 3, 3, 3, 3, 4, 4, 4, 10, 10, 13, 14, 15, 15, 20, 23, 23, 23, 25, 40, 43, 50, 75, 85, 102, 137, 150, 169, 191, 230, 286, 329, 394, 469, 565, 635, 786, 972, 1086, 1198, 1365, 1509, 1767, 2040, 2466, 2854, 3273, 3976, 4370, 5012, 5496, 5938, 6523, 7103, 7739, 8429, 9059, 10021, 10852, 11763, 12845, 14140, 15301, 16776, 17887, 19301, 20970, 22549, 24454, 26417, 27981, 30258]}, {\"line\": {\"color\": \"red\"}, \"mode\": \"lines+markers\", \"name\": \"Total Death\", \"type\": \"scatter\", \"x\": [\"2020-01-30\", \"2020-01-31\", \"2020-02-01\", \"2020-02-02\", \"2020-02-03\", \"2020-02-04\", \"2020-02-05\", \"2020-02-06\", \"2020-02-07\", \"2020-02-08\", \"2020-02-09\", \"2020-02-10\", \"2020-02-11\", \"2020-02-12\", \"2020-02-13\", \"2020-02-14\", \"2020-02-15\", \"2020-02-16\", \"2020-02-17\", \"2020-02-18\", \"2020-02-19\", \"2020-02-20\", \"2020-02-21\", \"2020-02-22\", \"2020-02-23\", \"2020-02-24\", \"2020-02-25\", \"2020-02-26\", \"2020-02-27\", \"2020-02-28\", \"2020-02-29\", \"2020-03-01\", \"2020-03-02\", \"2020-03-03\", \"2020-03-04\", \"2020-03-05\", \"2020-03-06\", \"2020-03-07\", \"2020-03-08\", \"2020-03-09\", \"2020-03-10\", \"2020-03-11\", \"2020-03-12\", \"2020-03-13\", \"2020-03-14\", \"2020-03-15\", \"2020-03-16\", \"2020-03-17\", \"2020-03-18\", \"2020-03-19\", \"2020-03-20\", \"2020-03-21\", \"2020-03-22\", \"2020-03-23\", \"2020-03-24\", \"2020-03-25\", \"2020-03-26\", \"2020-03-27\", \"2020-03-28\", \"2020-03-29\", \"2020-03-30\", \"2020-03-31\", \"2020-04-01\", \"2020-04-02\", \"2020-04-03\", \"2020-04-04\", \"2020-04-05\", \"2020-04-06\", \"2020-04-07\", \"2020-04-08\", \"2020-04-09\", \"2020-04-10\", \"2020-04-11\", \"2020-04-12\", \"2020-04-13\", \"2020-04-14\", \"2020-04-15\", \"2020-04-16\", \"2020-04-17\", \"2020-04-18\", \"2020-04-19\", \"2020-04-20\", \"2020-04-21\", \"2020-04-22\", \"2020-04-23\", \"2020-04-24\", \"2020-04-25\", \"2020-04-26\", \"2020-04-27\", \"2020-04-28\", \"2020-04-29\", \"2020-04-30\", \"2020-05-01\", \"2020-05-02\", \"2020-05-03\", \"2020-05-04\", \"2020-05-05\", \"2020-05-06\", \"2020-05-07\", \"2020-05-08\", \"2020-05-09\", \"2020-05-10\", \"2020-05-11\", \"2020-05-12\", \"2020-05-13\", \"2020-05-14\", \"2020-05-15\"], \"y\": [0, 0, 0, 0, 0, 0, 0, 0, 0, 0, 0, 0, 0, 0, 0, 0, 0, 0, 0, 0, 0, 0, 0, 0, 0, 0, 0, 0, 0, 0, 0, 0, 0, 0, 0, 0, 0, 0, 0, 0, 0, 0, 1, 1, 2, 2, 2, 3, 3, 4, 4, 4, 7, 9, 10, 11, 16, 19, 24, 27, 41, 47, 53, 69, 83, 96, 118, 134, 161, 181, 227, 249, 290, 332, 359, 396, 423, 449, 487, 522, 560, 593, 646, 682, 722, 781, 825, 881, 939, 1008, 1079, 1154, 1231, 1323, 1463, 1566, 1694, 1785, 1889, 1986, 2101, 2213, 2294, 2414, 2551, 2648, 2752]}],\n",
       "                        {\"plot_bgcolor\": \"rgb(230, 230, 230)\", \"template\": {\"data\": {\"bar\": [{\"error_x\": {\"color\": \"#2a3f5f\"}, \"error_y\": {\"color\": \"#2a3f5f\"}, \"marker\": {\"line\": {\"color\": \"#E5ECF6\", \"width\": 0.5}}, \"type\": \"bar\"}], \"barpolar\": [{\"marker\": {\"line\": {\"color\": \"#E5ECF6\", \"width\": 0.5}}, \"type\": \"barpolar\"}], \"carpet\": [{\"aaxis\": {\"endlinecolor\": \"#2a3f5f\", \"gridcolor\": \"white\", \"linecolor\": \"white\", \"minorgridcolor\": \"white\", \"startlinecolor\": \"#2a3f5f\"}, \"baxis\": {\"endlinecolor\": \"#2a3f5f\", \"gridcolor\": \"white\", \"linecolor\": \"white\", \"minorgridcolor\": \"white\", \"startlinecolor\": \"#2a3f5f\"}, \"type\": \"carpet\"}], \"choropleth\": [{\"colorbar\": {\"outlinewidth\": 0, \"ticks\": \"\"}, \"type\": \"choropleth\"}], \"contour\": [{\"colorbar\": {\"outlinewidth\": 0, \"ticks\": \"\"}, \"colorscale\": [[0.0, \"#0d0887\"], [0.1111111111111111, \"#46039f\"], [0.2222222222222222, \"#7201a8\"], [0.3333333333333333, \"#9c179e\"], [0.4444444444444444, \"#bd3786\"], [0.5555555555555556, \"#d8576b\"], [0.6666666666666666, \"#ed7953\"], [0.7777777777777778, \"#fb9f3a\"], [0.8888888888888888, \"#fdca26\"], [1.0, \"#f0f921\"]], \"type\": \"contour\"}], \"contourcarpet\": [{\"colorbar\": {\"outlinewidth\": 0, \"ticks\": \"\"}, \"type\": \"contourcarpet\"}], \"heatmap\": [{\"colorbar\": {\"outlinewidth\": 0, \"ticks\": \"\"}, \"colorscale\": [[0.0, \"#0d0887\"], [0.1111111111111111, \"#46039f\"], [0.2222222222222222, \"#7201a8\"], [0.3333333333333333, \"#9c179e\"], [0.4444444444444444, \"#bd3786\"], [0.5555555555555556, \"#d8576b\"], [0.6666666666666666, \"#ed7953\"], [0.7777777777777778, \"#fb9f3a\"], [0.8888888888888888, \"#fdca26\"], [1.0, \"#f0f921\"]], \"type\": \"heatmap\"}], \"heatmapgl\": [{\"colorbar\": {\"outlinewidth\": 0, \"ticks\": \"\"}, \"colorscale\": [[0.0, \"#0d0887\"], [0.1111111111111111, \"#46039f\"], [0.2222222222222222, \"#7201a8\"], [0.3333333333333333, \"#9c179e\"], [0.4444444444444444, \"#bd3786\"], [0.5555555555555556, \"#d8576b\"], [0.6666666666666666, \"#ed7953\"], [0.7777777777777778, \"#fb9f3a\"], [0.8888888888888888, \"#fdca26\"], [1.0, \"#f0f921\"]], \"type\": \"heatmapgl\"}], \"histogram\": [{\"marker\": {\"colorbar\": {\"outlinewidth\": 0, \"ticks\": \"\"}}, \"type\": \"histogram\"}], \"histogram2d\": [{\"colorbar\": {\"outlinewidth\": 0, \"ticks\": \"\"}, \"colorscale\": [[0.0, \"#0d0887\"], [0.1111111111111111, \"#46039f\"], [0.2222222222222222, \"#7201a8\"], [0.3333333333333333, \"#9c179e\"], [0.4444444444444444, \"#bd3786\"], [0.5555555555555556, \"#d8576b\"], [0.6666666666666666, \"#ed7953\"], [0.7777777777777778, \"#fb9f3a\"], [0.8888888888888888, \"#fdca26\"], [1.0, \"#f0f921\"]], \"type\": \"histogram2d\"}], \"histogram2dcontour\": [{\"colorbar\": {\"outlinewidth\": 0, \"ticks\": \"\"}, \"colorscale\": [[0.0, \"#0d0887\"], [0.1111111111111111, \"#46039f\"], [0.2222222222222222, \"#7201a8\"], [0.3333333333333333, \"#9c179e\"], [0.4444444444444444, \"#bd3786\"], [0.5555555555555556, \"#d8576b\"], [0.6666666666666666, \"#ed7953\"], [0.7777777777777778, \"#fb9f3a\"], [0.8888888888888888, \"#fdca26\"], [1.0, \"#f0f921\"]], \"type\": \"histogram2dcontour\"}], \"mesh3d\": [{\"colorbar\": {\"outlinewidth\": 0, \"ticks\": \"\"}, \"type\": \"mesh3d\"}], \"parcoords\": [{\"line\": {\"colorbar\": {\"outlinewidth\": 0, \"ticks\": \"\"}}, \"type\": \"parcoords\"}], \"pie\": [{\"automargin\": true, \"type\": \"pie\"}], \"scatter\": [{\"marker\": {\"colorbar\": {\"outlinewidth\": 0, \"ticks\": \"\"}}, \"type\": \"scatter\"}], \"scatter3d\": [{\"line\": {\"colorbar\": {\"outlinewidth\": 0, \"ticks\": \"\"}}, \"marker\": {\"colorbar\": {\"outlinewidth\": 0, \"ticks\": \"\"}}, \"type\": \"scatter3d\"}], \"scattercarpet\": [{\"marker\": {\"colorbar\": {\"outlinewidth\": 0, \"ticks\": \"\"}}, \"type\": \"scattercarpet\"}], \"scattergeo\": [{\"marker\": {\"colorbar\": {\"outlinewidth\": 0, \"ticks\": \"\"}}, \"type\": \"scattergeo\"}], \"scattergl\": [{\"marker\": {\"colorbar\": {\"outlinewidth\": 0, \"ticks\": \"\"}}, \"type\": \"scattergl\"}], \"scattermapbox\": [{\"marker\": {\"colorbar\": {\"outlinewidth\": 0, \"ticks\": \"\"}}, \"type\": \"scattermapbox\"}], \"scatterpolar\": [{\"marker\": {\"colorbar\": {\"outlinewidth\": 0, \"ticks\": \"\"}}, \"type\": \"scatterpolar\"}], \"scatterpolargl\": [{\"marker\": {\"colorbar\": {\"outlinewidth\": 0, \"ticks\": \"\"}}, \"type\": \"scatterpolargl\"}], \"scatterternary\": [{\"marker\": {\"colorbar\": {\"outlinewidth\": 0, \"ticks\": \"\"}}, \"type\": \"scatterternary\"}], \"surface\": [{\"colorbar\": {\"outlinewidth\": 0, \"ticks\": \"\"}, \"colorscale\": [[0.0, \"#0d0887\"], [0.1111111111111111, \"#46039f\"], [0.2222222222222222, \"#7201a8\"], [0.3333333333333333, \"#9c179e\"], [0.4444444444444444, \"#bd3786\"], [0.5555555555555556, \"#d8576b\"], [0.6666666666666666, \"#ed7953\"], [0.7777777777777778, \"#fb9f3a\"], [0.8888888888888888, \"#fdca26\"], [1.0, \"#f0f921\"]], \"type\": \"surface\"}], \"table\": [{\"cells\": {\"fill\": {\"color\": \"#EBF0F8\"}, \"line\": {\"color\": \"white\"}}, \"header\": {\"fill\": {\"color\": \"#C8D4E3\"}, \"line\": {\"color\": \"white\"}}, \"type\": \"table\"}]}, \"layout\": {\"annotationdefaults\": {\"arrowcolor\": \"#2a3f5f\", \"arrowhead\": 0, \"arrowwidth\": 1}, \"coloraxis\": {\"colorbar\": {\"outlinewidth\": 0, \"ticks\": \"\"}}, \"colorscale\": {\"diverging\": [[0, \"#8e0152\"], [0.1, \"#c51b7d\"], [0.2, \"#de77ae\"], [0.3, \"#f1b6da\"], [0.4, \"#fde0ef\"], [0.5, \"#f7f7f7\"], [0.6, \"#e6f5d0\"], [0.7, \"#b8e186\"], [0.8, \"#7fbc41\"], [0.9, \"#4d9221\"], [1, \"#276419\"]], \"sequential\": [[0.0, \"#0d0887\"], [0.1111111111111111, \"#46039f\"], [0.2222222222222222, \"#7201a8\"], [0.3333333333333333, \"#9c179e\"], [0.4444444444444444, \"#bd3786\"], [0.5555555555555556, \"#d8576b\"], [0.6666666666666666, \"#ed7953\"], [0.7777777777777778, \"#fb9f3a\"], [0.8888888888888888, \"#fdca26\"], [1.0, \"#f0f921\"]], \"sequentialminus\": [[0.0, \"#0d0887\"], [0.1111111111111111, \"#46039f\"], [0.2222222222222222, \"#7201a8\"], [0.3333333333333333, \"#9c179e\"], [0.4444444444444444, \"#bd3786\"], [0.5555555555555556, \"#d8576b\"], [0.6666666666666666, \"#ed7953\"], [0.7777777777777778, \"#fb9f3a\"], [0.8888888888888888, \"#fdca26\"], [1.0, \"#f0f921\"]]}, \"colorway\": [\"#636efa\", \"#EF553B\", \"#00cc96\", \"#ab63fa\", \"#FFA15A\", \"#19d3f3\", \"#FF6692\", \"#B6E880\", \"#FF97FF\", \"#FECB52\"], \"font\": {\"color\": \"#2a3f5f\"}, \"geo\": {\"bgcolor\": \"white\", \"lakecolor\": \"white\", \"landcolor\": \"#E5ECF6\", \"showlakes\": true, \"showland\": true, \"subunitcolor\": \"white\"}, \"hoverlabel\": {\"align\": \"left\"}, \"hovermode\": \"closest\", \"mapbox\": {\"style\": \"light\"}, \"paper_bgcolor\": \"white\", \"plot_bgcolor\": \"#E5ECF6\", \"polar\": {\"angularaxis\": {\"gridcolor\": \"white\", \"linecolor\": \"white\", \"ticks\": \"\"}, \"bgcolor\": \"#E5ECF6\", \"radialaxis\": {\"gridcolor\": \"white\", \"linecolor\": \"white\", \"ticks\": \"\"}}, \"scene\": {\"xaxis\": {\"backgroundcolor\": \"#E5ECF6\", \"gridcolor\": \"white\", \"gridwidth\": 2, \"linecolor\": \"white\", \"showbackground\": true, \"ticks\": \"\", \"zerolinecolor\": \"white\"}, \"yaxis\": {\"backgroundcolor\": \"#E5ECF6\", \"gridcolor\": \"white\", \"gridwidth\": 2, \"linecolor\": \"white\", \"showbackground\": true, \"ticks\": \"\", \"zerolinecolor\": \"white\"}, \"zaxis\": {\"backgroundcolor\": \"#E5ECF6\", \"gridcolor\": \"white\", \"gridwidth\": 2, \"linecolor\": \"white\", \"showbackground\": true, \"ticks\": \"\", \"zerolinecolor\": \"white\"}}, \"shapedefaults\": {\"line\": {\"color\": \"#2a3f5f\"}}, \"ternary\": {\"aaxis\": {\"gridcolor\": \"white\", \"linecolor\": \"white\", \"ticks\": \"\"}, \"baxis\": {\"gridcolor\": \"white\", \"linecolor\": \"white\", \"ticks\": \"\"}, \"bgcolor\": \"#E5ECF6\", \"caxis\": {\"gridcolor\": \"white\", \"linecolor\": \"white\", \"ticks\": \"\"}}, \"title\": {\"x\": 0.05}, \"xaxis\": {\"automargin\": true, \"gridcolor\": \"white\", \"linecolor\": \"white\", \"ticks\": \"\", \"title\": {\"standoff\": 15}, \"zerolinecolor\": \"white\", \"zerolinewidth\": 2}, \"yaxis\": {\"automargin\": true, \"gridcolor\": \"white\", \"linecolor\": \"white\", \"ticks\": \"\", \"title\": {\"standoff\": 15}, \"zerolinecolor\": \"white\", \"zerolinewidth\": 2}}}, \"title\": {\"text\": \"Trend of Coronavirus Cases in India (Cumulative cases)\"}},\n",
       "                        {\"responsive\": true}\n",
       "                    ).then(function(){\n",
       "                            \n",
       "var gd = document.getElementById('88caf395-afd2-4181-a36c-d8e49b5ac16e');\n",
       "var x = new MutationObserver(function (mutations, observer) {{\n",
       "        var display = window.getComputedStyle(gd).display;\n",
       "        if (!display || display === 'none') {{\n",
       "            console.log([gd, 'removed!']);\n",
       "            Plotly.purge(gd);\n",
       "            observer.disconnect();\n",
       "        }}\n",
       "}});\n",
       "\n",
       "// Listen for the removal of the full notebook cells\n",
       "var notebookContainer = gd.closest('#notebook-container');\n",
       "if (notebookContainer) {{\n",
       "    x.observe(notebookContainer, {childList: true});\n",
       "}}\n",
       "\n",
       "// Listen for the clearing of the current output cell\n",
       "var outputEl = gd.closest('.output');\n",
       "if (outputEl) {{\n",
       "    x.observe(outputEl, {childList: true});\n",
       "}}\n",
       "\n",
       "                        })\n",
       "                };\n",
       "                });\n",
       "            </script>\n",
       "        </div>"
      ]
     },
     "metadata": {},
     "output_type": "display_data"
    },
    {
     "data": {
      "application/vnd.plotly.v1+json": {
       "config": {
        "plotlyServerURL": "https://plot.ly"
       },
       "data": [
        {
         "alignmentgroup": "True",
         "hovertemplate": "date=%{x}<br>dailyconfirmed=%{y}<extra></extra>",
         "legendgroup": "",
         "marker": {
          "color": "#636efa"
         },
         "name": "",
         "offsetgroup": "",
         "orientation": "v",
         "showlegend": false,
         "textposition": "auto",
         "type": "bar",
         "x": [
          "2020-01-30",
          "2020-01-31",
          "2020-02-01",
          "2020-02-02",
          "2020-02-03",
          "2020-02-04",
          "2020-02-05",
          "2020-02-06",
          "2020-02-07",
          "2020-02-08",
          "2020-02-09",
          "2020-02-10",
          "2020-02-11",
          "2020-02-12",
          "2020-02-13",
          "2020-02-14",
          "2020-02-15",
          "2020-02-16",
          "2020-02-17",
          "2020-02-18",
          "2020-02-19",
          "2020-02-20",
          "2020-02-21",
          "2020-02-22",
          "2020-02-23",
          "2020-02-24",
          "2020-02-25",
          "2020-02-26",
          "2020-02-27",
          "2020-02-28",
          "2020-02-29",
          "2020-03-01",
          "2020-03-02",
          "2020-03-03",
          "2020-03-04",
          "2020-03-05",
          "2020-03-06",
          "2020-03-07",
          "2020-03-08",
          "2020-03-09",
          "2020-03-10",
          "2020-03-11",
          "2020-03-12",
          "2020-03-13",
          "2020-03-14",
          "2020-03-15",
          "2020-03-16",
          "2020-03-17",
          "2020-03-18",
          "2020-03-19",
          "2020-03-20",
          "2020-03-21",
          "2020-03-22",
          "2020-03-23",
          "2020-03-24",
          "2020-03-25",
          "2020-03-26",
          "2020-03-27",
          "2020-03-28",
          "2020-03-29",
          "2020-03-30",
          "2020-03-31",
          "2020-04-01",
          "2020-04-02",
          "2020-04-03",
          "2020-04-04",
          "2020-04-05",
          "2020-04-06",
          "2020-04-07",
          "2020-04-08",
          "2020-04-09",
          "2020-04-10",
          "2020-04-11",
          "2020-04-12",
          "2020-04-13",
          "2020-04-14",
          "2020-04-15",
          "2020-04-16",
          "2020-04-17",
          "2020-04-18",
          "2020-04-19",
          "2020-04-20",
          "2020-04-21",
          "2020-04-22",
          "2020-04-23",
          "2020-04-24",
          "2020-04-25",
          "2020-04-26",
          "2020-04-27",
          "2020-04-28",
          "2020-04-29",
          "2020-04-30",
          "2020-05-01",
          "2020-05-02",
          "2020-05-03",
          "2020-05-04",
          "2020-05-05",
          "2020-05-06",
          "2020-05-07",
          "2020-05-08",
          "2020-05-09",
          "2020-05-10",
          "2020-05-11",
          "2020-05-12",
          "2020-05-13",
          "2020-05-14",
          "2020-05-15"
         ],
         "xaxis": "x",
         "y": [
          1,
          0,
          0,
          1,
          1,
          0,
          0,
          0,
          0,
          0,
          0,
          0,
          0,
          0,
          0,
          0,
          0,
          0,
          0,
          0,
          0,
          0,
          0,
          0,
          0,
          0,
          0,
          0,
          0,
          0,
          0,
          0,
          2,
          1,
          22,
          2,
          1,
          3,
          5,
          9,
          15,
          8,
          10,
          10,
          11,
          10,
          14,
          20,
          25,
          27,
          58,
          78,
          69,
          94,
          74,
          86,
          73,
          153,
          136,
          120,
          187,
          309,
          424,
          486,
          560,
          579,
          609,
          484,
          573,
          565,
          813,
          871,
          854,
          758,
          1243,
          1031,
          886,
          1061,
          922,
          1371,
          1580,
          1239,
          1537,
          1292,
          1667,
          1408,
          1835,
          1607,
          1568,
          1902,
          1705,
          1801,
          2396,
          2564,
          2952,
          3656,
          2971,
          3602,
          3344,
          3339,
          3175,
          4311,
          3592,
          3562,
          3726,
          3991,
          3742
         ],
         "yaxis": "y"
        }
       ],
       "layout": {
        "barmode": "group",
        "height": 400,
        "legend": {
         "tracegroupgap": 0
        },
        "margin": {
         "t": 60
        },
        "plot_bgcolor": "rgb(230, 230, 230)",
        "template": {
         "data": {
          "bar": [
           {
            "error_x": {
             "color": "#2a3f5f"
            },
            "error_y": {
             "color": "#2a3f5f"
            },
            "marker": {
             "line": {
              "color": "#E5ECF6",
              "width": 0.5
             }
            },
            "type": "bar"
           }
          ],
          "barpolar": [
           {
            "marker": {
             "line": {
              "color": "#E5ECF6",
              "width": 0.5
             }
            },
            "type": "barpolar"
           }
          ],
          "carpet": [
           {
            "aaxis": {
             "endlinecolor": "#2a3f5f",
             "gridcolor": "white",
             "linecolor": "white",
             "minorgridcolor": "white",
             "startlinecolor": "#2a3f5f"
            },
            "baxis": {
             "endlinecolor": "#2a3f5f",
             "gridcolor": "white",
             "linecolor": "white",
             "minorgridcolor": "white",
             "startlinecolor": "#2a3f5f"
            },
            "type": "carpet"
           }
          ],
          "choropleth": [
           {
            "colorbar": {
             "outlinewidth": 0,
             "ticks": ""
            },
            "type": "choropleth"
           }
          ],
          "contour": [
           {
            "colorbar": {
             "outlinewidth": 0,
             "ticks": ""
            },
            "colorscale": [
             [
              0,
              "#0d0887"
             ],
             [
              0.1111111111111111,
              "#46039f"
             ],
             [
              0.2222222222222222,
              "#7201a8"
             ],
             [
              0.3333333333333333,
              "#9c179e"
             ],
             [
              0.4444444444444444,
              "#bd3786"
             ],
             [
              0.5555555555555556,
              "#d8576b"
             ],
             [
              0.6666666666666666,
              "#ed7953"
             ],
             [
              0.7777777777777778,
              "#fb9f3a"
             ],
             [
              0.8888888888888888,
              "#fdca26"
             ],
             [
              1,
              "#f0f921"
             ]
            ],
            "type": "contour"
           }
          ],
          "contourcarpet": [
           {
            "colorbar": {
             "outlinewidth": 0,
             "ticks": ""
            },
            "type": "contourcarpet"
           }
          ],
          "heatmap": [
           {
            "colorbar": {
             "outlinewidth": 0,
             "ticks": ""
            },
            "colorscale": [
             [
              0,
              "#0d0887"
             ],
             [
              0.1111111111111111,
              "#46039f"
             ],
             [
              0.2222222222222222,
              "#7201a8"
             ],
             [
              0.3333333333333333,
              "#9c179e"
             ],
             [
              0.4444444444444444,
              "#bd3786"
             ],
             [
              0.5555555555555556,
              "#d8576b"
             ],
             [
              0.6666666666666666,
              "#ed7953"
             ],
             [
              0.7777777777777778,
              "#fb9f3a"
             ],
             [
              0.8888888888888888,
              "#fdca26"
             ],
             [
              1,
              "#f0f921"
             ]
            ],
            "type": "heatmap"
           }
          ],
          "heatmapgl": [
           {
            "colorbar": {
             "outlinewidth": 0,
             "ticks": ""
            },
            "colorscale": [
             [
              0,
              "#0d0887"
             ],
             [
              0.1111111111111111,
              "#46039f"
             ],
             [
              0.2222222222222222,
              "#7201a8"
             ],
             [
              0.3333333333333333,
              "#9c179e"
             ],
             [
              0.4444444444444444,
              "#bd3786"
             ],
             [
              0.5555555555555556,
              "#d8576b"
             ],
             [
              0.6666666666666666,
              "#ed7953"
             ],
             [
              0.7777777777777778,
              "#fb9f3a"
             ],
             [
              0.8888888888888888,
              "#fdca26"
             ],
             [
              1,
              "#f0f921"
             ]
            ],
            "type": "heatmapgl"
           }
          ],
          "histogram": [
           {
            "marker": {
             "colorbar": {
              "outlinewidth": 0,
              "ticks": ""
             }
            },
            "type": "histogram"
           }
          ],
          "histogram2d": [
           {
            "colorbar": {
             "outlinewidth": 0,
             "ticks": ""
            },
            "colorscale": [
             [
              0,
              "#0d0887"
             ],
             [
              0.1111111111111111,
              "#46039f"
             ],
             [
              0.2222222222222222,
              "#7201a8"
             ],
             [
              0.3333333333333333,
              "#9c179e"
             ],
             [
              0.4444444444444444,
              "#bd3786"
             ],
             [
              0.5555555555555556,
              "#d8576b"
             ],
             [
              0.6666666666666666,
              "#ed7953"
             ],
             [
              0.7777777777777778,
              "#fb9f3a"
             ],
             [
              0.8888888888888888,
              "#fdca26"
             ],
             [
              1,
              "#f0f921"
             ]
            ],
            "type": "histogram2d"
           }
          ],
          "histogram2dcontour": [
           {
            "colorbar": {
             "outlinewidth": 0,
             "ticks": ""
            },
            "colorscale": [
             [
              0,
              "#0d0887"
             ],
             [
              0.1111111111111111,
              "#46039f"
             ],
             [
              0.2222222222222222,
              "#7201a8"
             ],
             [
              0.3333333333333333,
              "#9c179e"
             ],
             [
              0.4444444444444444,
              "#bd3786"
             ],
             [
              0.5555555555555556,
              "#d8576b"
             ],
             [
              0.6666666666666666,
              "#ed7953"
             ],
             [
              0.7777777777777778,
              "#fb9f3a"
             ],
             [
              0.8888888888888888,
              "#fdca26"
             ],
             [
              1,
              "#f0f921"
             ]
            ],
            "type": "histogram2dcontour"
           }
          ],
          "mesh3d": [
           {
            "colorbar": {
             "outlinewidth": 0,
             "ticks": ""
            },
            "type": "mesh3d"
           }
          ],
          "parcoords": [
           {
            "line": {
             "colorbar": {
              "outlinewidth": 0,
              "ticks": ""
             }
            },
            "type": "parcoords"
           }
          ],
          "pie": [
           {
            "automargin": true,
            "type": "pie"
           }
          ],
          "scatter": [
           {
            "marker": {
             "colorbar": {
              "outlinewidth": 0,
              "ticks": ""
             }
            },
            "type": "scatter"
           }
          ],
          "scatter3d": [
           {
            "line": {
             "colorbar": {
              "outlinewidth": 0,
              "ticks": ""
             }
            },
            "marker": {
             "colorbar": {
              "outlinewidth": 0,
              "ticks": ""
             }
            },
            "type": "scatter3d"
           }
          ],
          "scattercarpet": [
           {
            "marker": {
             "colorbar": {
              "outlinewidth": 0,
              "ticks": ""
             }
            },
            "type": "scattercarpet"
           }
          ],
          "scattergeo": [
           {
            "marker": {
             "colorbar": {
              "outlinewidth": 0,
              "ticks": ""
             }
            },
            "type": "scattergeo"
           }
          ],
          "scattergl": [
           {
            "marker": {
             "colorbar": {
              "outlinewidth": 0,
              "ticks": ""
             }
            },
            "type": "scattergl"
           }
          ],
          "scattermapbox": [
           {
            "marker": {
             "colorbar": {
              "outlinewidth": 0,
              "ticks": ""
             }
            },
            "type": "scattermapbox"
           }
          ],
          "scatterpolar": [
           {
            "marker": {
             "colorbar": {
              "outlinewidth": 0,
              "ticks": ""
             }
            },
            "type": "scatterpolar"
           }
          ],
          "scatterpolargl": [
           {
            "marker": {
             "colorbar": {
              "outlinewidth": 0,
              "ticks": ""
             }
            },
            "type": "scatterpolargl"
           }
          ],
          "scatterternary": [
           {
            "marker": {
             "colorbar": {
              "outlinewidth": 0,
              "ticks": ""
             }
            },
            "type": "scatterternary"
           }
          ],
          "surface": [
           {
            "colorbar": {
             "outlinewidth": 0,
             "ticks": ""
            },
            "colorscale": [
             [
              0,
              "#0d0887"
             ],
             [
              0.1111111111111111,
              "#46039f"
             ],
             [
              0.2222222222222222,
              "#7201a8"
             ],
             [
              0.3333333333333333,
              "#9c179e"
             ],
             [
              0.4444444444444444,
              "#bd3786"
             ],
             [
              0.5555555555555556,
              "#d8576b"
             ],
             [
              0.6666666666666666,
              "#ed7953"
             ],
             [
              0.7777777777777778,
              "#fb9f3a"
             ],
             [
              0.8888888888888888,
              "#fdca26"
             ],
             [
              1,
              "#f0f921"
             ]
            ],
            "type": "surface"
           }
          ],
          "table": [
           {
            "cells": {
             "fill": {
              "color": "#EBF0F8"
             },
             "line": {
              "color": "white"
             }
            },
            "header": {
             "fill": {
              "color": "#C8D4E3"
             },
             "line": {
              "color": "white"
             }
            },
            "type": "table"
           }
          ]
         },
         "layout": {
          "annotationdefaults": {
           "arrowcolor": "#2a3f5f",
           "arrowhead": 0,
           "arrowwidth": 1
          },
          "coloraxis": {
           "colorbar": {
            "outlinewidth": 0,
            "ticks": ""
           }
          },
          "colorscale": {
           "diverging": [
            [
             0,
             "#8e0152"
            ],
            [
             0.1,
             "#c51b7d"
            ],
            [
             0.2,
             "#de77ae"
            ],
            [
             0.3,
             "#f1b6da"
            ],
            [
             0.4,
             "#fde0ef"
            ],
            [
             0.5,
             "#f7f7f7"
            ],
            [
             0.6,
             "#e6f5d0"
            ],
            [
             0.7,
             "#b8e186"
            ],
            [
             0.8,
             "#7fbc41"
            ],
            [
             0.9,
             "#4d9221"
            ],
            [
             1,
             "#276419"
            ]
           ],
           "sequential": [
            [
             0,
             "#0d0887"
            ],
            [
             0.1111111111111111,
             "#46039f"
            ],
            [
             0.2222222222222222,
             "#7201a8"
            ],
            [
             0.3333333333333333,
             "#9c179e"
            ],
            [
             0.4444444444444444,
             "#bd3786"
            ],
            [
             0.5555555555555556,
             "#d8576b"
            ],
            [
             0.6666666666666666,
             "#ed7953"
            ],
            [
             0.7777777777777778,
             "#fb9f3a"
            ],
            [
             0.8888888888888888,
             "#fdca26"
            ],
            [
             1,
             "#f0f921"
            ]
           ],
           "sequentialminus": [
            [
             0,
             "#0d0887"
            ],
            [
             0.1111111111111111,
             "#46039f"
            ],
            [
             0.2222222222222222,
             "#7201a8"
            ],
            [
             0.3333333333333333,
             "#9c179e"
            ],
            [
             0.4444444444444444,
             "#bd3786"
            ],
            [
             0.5555555555555556,
             "#d8576b"
            ],
            [
             0.6666666666666666,
             "#ed7953"
            ],
            [
             0.7777777777777778,
             "#fb9f3a"
            ],
            [
             0.8888888888888888,
             "#fdca26"
            ],
            [
             1,
             "#f0f921"
            ]
           ]
          },
          "colorway": [
           "#636efa",
           "#EF553B",
           "#00cc96",
           "#ab63fa",
           "#FFA15A",
           "#19d3f3",
           "#FF6692",
           "#B6E880",
           "#FF97FF",
           "#FECB52"
          ],
          "font": {
           "color": "#2a3f5f"
          },
          "geo": {
           "bgcolor": "white",
           "lakecolor": "white",
           "landcolor": "#E5ECF6",
           "showlakes": true,
           "showland": true,
           "subunitcolor": "white"
          },
          "hoverlabel": {
           "align": "left"
          },
          "hovermode": "closest",
          "mapbox": {
           "style": "light"
          },
          "paper_bgcolor": "white",
          "plot_bgcolor": "#E5ECF6",
          "polar": {
           "angularaxis": {
            "gridcolor": "white",
            "linecolor": "white",
            "ticks": ""
           },
           "bgcolor": "#E5ECF6",
           "radialaxis": {
            "gridcolor": "white",
            "linecolor": "white",
            "ticks": ""
           }
          },
          "scene": {
           "xaxis": {
            "backgroundcolor": "#E5ECF6",
            "gridcolor": "white",
            "gridwidth": 2,
            "linecolor": "white",
            "showbackground": true,
            "ticks": "",
            "zerolinecolor": "white"
           },
           "yaxis": {
            "backgroundcolor": "#E5ECF6",
            "gridcolor": "white",
            "gridwidth": 2,
            "linecolor": "white",
            "showbackground": true,
            "ticks": "",
            "zerolinecolor": "white"
           },
           "zaxis": {
            "backgroundcolor": "#E5ECF6",
            "gridcolor": "white",
            "gridwidth": 2,
            "linecolor": "white",
            "showbackground": true,
            "ticks": "",
            "zerolinecolor": "white"
           }
          },
          "shapedefaults": {
           "line": {
            "color": "#2a3f5f"
           }
          },
          "ternary": {
           "aaxis": {
            "gridcolor": "white",
            "linecolor": "white",
            "ticks": ""
           },
           "baxis": {
            "gridcolor": "white",
            "linecolor": "white",
            "ticks": ""
           },
           "bgcolor": "#E5ECF6",
           "caxis": {
            "gridcolor": "white",
            "linecolor": "white",
            "ticks": ""
           }
          },
          "title": {
           "x": 0.05
          },
          "xaxis": {
           "automargin": true,
           "gridcolor": "white",
           "linecolor": "white",
           "ticks": "",
           "title": {
            "standoff": 15
           },
           "zerolinecolor": "white",
           "zerolinewidth": 2
          },
          "yaxis": {
           "automargin": true,
           "gridcolor": "white",
           "linecolor": "white",
           "ticks": "",
           "title": {
            "standoff": 15
           },
           "zerolinecolor": "white",
           "zerolinewidth": 2
          }
         }
        },
        "title": {
         "text": "Coronavirus Cases in India on daily basis"
        },
        "xaxis": {
         "anchor": "y",
         "domain": [
          0,
          1
         ],
         "title": {
          "text": "date"
         }
        },
        "yaxis": {
         "anchor": "x",
         "domain": [
          0,
          1
         ],
         "title": {
          "text": "dailyconfirmed"
         }
        }
       }
      },
      "text/html": [
       "<div>\n",
       "        \n",
       "        \n",
       "            <div id=\"93c66255-ad94-4aab-86c0-483c2ffecfe8\" class=\"plotly-graph-div\" style=\"height:400px; width:100%;\"></div>\n",
       "            <script type=\"text/javascript\">\n",
       "                require([\"plotly\"], function(Plotly) {\n",
       "                    window.PLOTLYENV=window.PLOTLYENV || {};\n",
       "                    \n",
       "                if (document.getElementById(\"93c66255-ad94-4aab-86c0-483c2ffecfe8\")) {\n",
       "                    Plotly.newPlot(\n",
       "                        '93c66255-ad94-4aab-86c0-483c2ffecfe8',\n",
       "                        [{\"alignmentgroup\": \"True\", \"hovertemplate\": \"date=%{x}<br>dailyconfirmed=%{y}<extra></extra>\", \"legendgroup\": \"\", \"marker\": {\"color\": \"#636efa\"}, \"name\": \"\", \"offsetgroup\": \"\", \"orientation\": \"v\", \"showlegend\": false, \"textposition\": \"auto\", \"type\": \"bar\", \"x\": [\"2020-01-30\", \"2020-01-31\", \"2020-02-01\", \"2020-02-02\", \"2020-02-03\", \"2020-02-04\", \"2020-02-05\", \"2020-02-06\", \"2020-02-07\", \"2020-02-08\", \"2020-02-09\", \"2020-02-10\", \"2020-02-11\", \"2020-02-12\", \"2020-02-13\", \"2020-02-14\", \"2020-02-15\", \"2020-02-16\", \"2020-02-17\", \"2020-02-18\", \"2020-02-19\", \"2020-02-20\", \"2020-02-21\", \"2020-02-22\", \"2020-02-23\", \"2020-02-24\", \"2020-02-25\", \"2020-02-26\", \"2020-02-27\", \"2020-02-28\", \"2020-02-29\", \"2020-03-01\", \"2020-03-02\", \"2020-03-03\", \"2020-03-04\", \"2020-03-05\", \"2020-03-06\", \"2020-03-07\", \"2020-03-08\", \"2020-03-09\", \"2020-03-10\", \"2020-03-11\", \"2020-03-12\", \"2020-03-13\", \"2020-03-14\", \"2020-03-15\", \"2020-03-16\", \"2020-03-17\", \"2020-03-18\", \"2020-03-19\", \"2020-03-20\", \"2020-03-21\", \"2020-03-22\", \"2020-03-23\", \"2020-03-24\", \"2020-03-25\", \"2020-03-26\", \"2020-03-27\", \"2020-03-28\", \"2020-03-29\", \"2020-03-30\", \"2020-03-31\", \"2020-04-01\", \"2020-04-02\", \"2020-04-03\", \"2020-04-04\", \"2020-04-05\", \"2020-04-06\", \"2020-04-07\", \"2020-04-08\", \"2020-04-09\", \"2020-04-10\", \"2020-04-11\", \"2020-04-12\", \"2020-04-13\", \"2020-04-14\", \"2020-04-15\", \"2020-04-16\", \"2020-04-17\", \"2020-04-18\", \"2020-04-19\", \"2020-04-20\", \"2020-04-21\", \"2020-04-22\", \"2020-04-23\", \"2020-04-24\", \"2020-04-25\", \"2020-04-26\", \"2020-04-27\", \"2020-04-28\", \"2020-04-29\", \"2020-04-30\", \"2020-05-01\", \"2020-05-02\", \"2020-05-03\", \"2020-05-04\", \"2020-05-05\", \"2020-05-06\", \"2020-05-07\", \"2020-05-08\", \"2020-05-09\", \"2020-05-10\", \"2020-05-11\", \"2020-05-12\", \"2020-05-13\", \"2020-05-14\", \"2020-05-15\"], \"xaxis\": \"x\", \"y\": [1, 0, 0, 1, 1, 0, 0, 0, 0, 0, 0, 0, 0, 0, 0, 0, 0, 0, 0, 0, 0, 0, 0, 0, 0, 0, 0, 0, 0, 0, 0, 0, 2, 1, 22, 2, 1, 3, 5, 9, 15, 8, 10, 10, 11, 10, 14, 20, 25, 27, 58, 78, 69, 94, 74, 86, 73, 153, 136, 120, 187, 309, 424, 486, 560, 579, 609, 484, 573, 565, 813, 871, 854, 758, 1243, 1031, 886, 1061, 922, 1371, 1580, 1239, 1537, 1292, 1667, 1408, 1835, 1607, 1568, 1902, 1705, 1801, 2396, 2564, 2952, 3656, 2971, 3602, 3344, 3339, 3175, 4311, 3592, 3562, 3726, 3991, 3742], \"yaxis\": \"y\"}],\n",
       "                        {\"barmode\": \"group\", \"height\": 400, \"legend\": {\"tracegroupgap\": 0}, \"margin\": {\"t\": 60}, \"plot_bgcolor\": \"rgb(230, 230, 230)\", \"template\": {\"data\": {\"bar\": [{\"error_x\": {\"color\": \"#2a3f5f\"}, \"error_y\": {\"color\": \"#2a3f5f\"}, \"marker\": {\"line\": {\"color\": \"#E5ECF6\", \"width\": 0.5}}, \"type\": \"bar\"}], \"barpolar\": [{\"marker\": {\"line\": {\"color\": \"#E5ECF6\", \"width\": 0.5}}, \"type\": \"barpolar\"}], \"carpet\": [{\"aaxis\": {\"endlinecolor\": \"#2a3f5f\", \"gridcolor\": \"white\", \"linecolor\": \"white\", \"minorgridcolor\": \"white\", \"startlinecolor\": \"#2a3f5f\"}, \"baxis\": {\"endlinecolor\": \"#2a3f5f\", \"gridcolor\": \"white\", \"linecolor\": \"white\", \"minorgridcolor\": \"white\", \"startlinecolor\": \"#2a3f5f\"}, \"type\": \"carpet\"}], \"choropleth\": [{\"colorbar\": {\"outlinewidth\": 0, \"ticks\": \"\"}, \"type\": \"choropleth\"}], \"contour\": [{\"colorbar\": {\"outlinewidth\": 0, \"ticks\": \"\"}, \"colorscale\": [[0.0, \"#0d0887\"], [0.1111111111111111, \"#46039f\"], [0.2222222222222222, \"#7201a8\"], [0.3333333333333333, \"#9c179e\"], [0.4444444444444444, \"#bd3786\"], [0.5555555555555556, \"#d8576b\"], [0.6666666666666666, \"#ed7953\"], [0.7777777777777778, \"#fb9f3a\"], [0.8888888888888888, \"#fdca26\"], [1.0, \"#f0f921\"]], \"type\": \"contour\"}], \"contourcarpet\": [{\"colorbar\": {\"outlinewidth\": 0, \"ticks\": \"\"}, \"type\": \"contourcarpet\"}], \"heatmap\": [{\"colorbar\": {\"outlinewidth\": 0, \"ticks\": \"\"}, \"colorscale\": [[0.0, \"#0d0887\"], [0.1111111111111111, \"#46039f\"], [0.2222222222222222, \"#7201a8\"], [0.3333333333333333, \"#9c179e\"], [0.4444444444444444, \"#bd3786\"], [0.5555555555555556, \"#d8576b\"], [0.6666666666666666, \"#ed7953\"], [0.7777777777777778, \"#fb9f3a\"], [0.8888888888888888, \"#fdca26\"], [1.0, \"#f0f921\"]], \"type\": \"heatmap\"}], \"heatmapgl\": [{\"colorbar\": {\"outlinewidth\": 0, \"ticks\": \"\"}, \"colorscale\": [[0.0, \"#0d0887\"], [0.1111111111111111, \"#46039f\"], [0.2222222222222222, \"#7201a8\"], [0.3333333333333333, \"#9c179e\"], [0.4444444444444444, \"#bd3786\"], [0.5555555555555556, \"#d8576b\"], [0.6666666666666666, \"#ed7953\"], [0.7777777777777778, \"#fb9f3a\"], [0.8888888888888888, \"#fdca26\"], [1.0, \"#f0f921\"]], \"type\": \"heatmapgl\"}], \"histogram\": [{\"marker\": {\"colorbar\": {\"outlinewidth\": 0, \"ticks\": \"\"}}, \"type\": \"histogram\"}], \"histogram2d\": [{\"colorbar\": {\"outlinewidth\": 0, \"ticks\": \"\"}, \"colorscale\": [[0.0, \"#0d0887\"], [0.1111111111111111, \"#46039f\"], [0.2222222222222222, \"#7201a8\"], [0.3333333333333333, \"#9c179e\"], [0.4444444444444444, \"#bd3786\"], [0.5555555555555556, \"#d8576b\"], [0.6666666666666666, \"#ed7953\"], [0.7777777777777778, \"#fb9f3a\"], [0.8888888888888888, \"#fdca26\"], [1.0, \"#f0f921\"]], \"type\": \"histogram2d\"}], \"histogram2dcontour\": [{\"colorbar\": {\"outlinewidth\": 0, \"ticks\": \"\"}, \"colorscale\": [[0.0, \"#0d0887\"], [0.1111111111111111, \"#46039f\"], [0.2222222222222222, \"#7201a8\"], [0.3333333333333333, \"#9c179e\"], [0.4444444444444444, \"#bd3786\"], [0.5555555555555556, \"#d8576b\"], [0.6666666666666666, \"#ed7953\"], [0.7777777777777778, \"#fb9f3a\"], [0.8888888888888888, \"#fdca26\"], [1.0, \"#f0f921\"]], \"type\": \"histogram2dcontour\"}], \"mesh3d\": [{\"colorbar\": {\"outlinewidth\": 0, \"ticks\": \"\"}, \"type\": \"mesh3d\"}], \"parcoords\": [{\"line\": {\"colorbar\": {\"outlinewidth\": 0, \"ticks\": \"\"}}, \"type\": \"parcoords\"}], \"pie\": [{\"automargin\": true, \"type\": \"pie\"}], \"scatter\": [{\"marker\": {\"colorbar\": {\"outlinewidth\": 0, \"ticks\": \"\"}}, \"type\": \"scatter\"}], \"scatter3d\": [{\"line\": {\"colorbar\": {\"outlinewidth\": 0, \"ticks\": \"\"}}, \"marker\": {\"colorbar\": {\"outlinewidth\": 0, \"ticks\": \"\"}}, \"type\": \"scatter3d\"}], \"scattercarpet\": [{\"marker\": {\"colorbar\": {\"outlinewidth\": 0, \"ticks\": \"\"}}, \"type\": \"scattercarpet\"}], \"scattergeo\": [{\"marker\": {\"colorbar\": {\"outlinewidth\": 0, \"ticks\": \"\"}}, \"type\": \"scattergeo\"}], \"scattergl\": [{\"marker\": {\"colorbar\": {\"outlinewidth\": 0, \"ticks\": \"\"}}, \"type\": \"scattergl\"}], \"scattermapbox\": [{\"marker\": {\"colorbar\": {\"outlinewidth\": 0, \"ticks\": \"\"}}, \"type\": \"scattermapbox\"}], \"scatterpolar\": [{\"marker\": {\"colorbar\": {\"outlinewidth\": 0, \"ticks\": \"\"}}, \"type\": \"scatterpolar\"}], \"scatterpolargl\": [{\"marker\": {\"colorbar\": {\"outlinewidth\": 0, \"ticks\": \"\"}}, \"type\": \"scatterpolargl\"}], \"scatterternary\": [{\"marker\": {\"colorbar\": {\"outlinewidth\": 0, \"ticks\": \"\"}}, \"type\": \"scatterternary\"}], \"surface\": [{\"colorbar\": {\"outlinewidth\": 0, \"ticks\": \"\"}, \"colorscale\": [[0.0, \"#0d0887\"], [0.1111111111111111, \"#46039f\"], [0.2222222222222222, \"#7201a8\"], [0.3333333333333333, \"#9c179e\"], [0.4444444444444444, \"#bd3786\"], [0.5555555555555556, \"#d8576b\"], [0.6666666666666666, \"#ed7953\"], [0.7777777777777778, \"#fb9f3a\"], [0.8888888888888888, \"#fdca26\"], [1.0, \"#f0f921\"]], \"type\": \"surface\"}], \"table\": [{\"cells\": {\"fill\": {\"color\": \"#EBF0F8\"}, \"line\": {\"color\": \"white\"}}, \"header\": {\"fill\": {\"color\": \"#C8D4E3\"}, \"line\": {\"color\": \"white\"}}, \"type\": \"table\"}]}, \"layout\": {\"annotationdefaults\": {\"arrowcolor\": \"#2a3f5f\", \"arrowhead\": 0, \"arrowwidth\": 1}, \"coloraxis\": {\"colorbar\": {\"outlinewidth\": 0, \"ticks\": \"\"}}, \"colorscale\": {\"diverging\": [[0, \"#8e0152\"], [0.1, \"#c51b7d\"], [0.2, \"#de77ae\"], [0.3, \"#f1b6da\"], [0.4, \"#fde0ef\"], [0.5, \"#f7f7f7\"], [0.6, \"#e6f5d0\"], [0.7, \"#b8e186\"], [0.8, \"#7fbc41\"], [0.9, \"#4d9221\"], [1, \"#276419\"]], \"sequential\": [[0.0, \"#0d0887\"], [0.1111111111111111, \"#46039f\"], [0.2222222222222222, \"#7201a8\"], [0.3333333333333333, \"#9c179e\"], [0.4444444444444444, \"#bd3786\"], [0.5555555555555556, \"#d8576b\"], [0.6666666666666666, \"#ed7953\"], [0.7777777777777778, \"#fb9f3a\"], [0.8888888888888888, \"#fdca26\"], [1.0, \"#f0f921\"]], \"sequentialminus\": [[0.0, \"#0d0887\"], [0.1111111111111111, \"#46039f\"], [0.2222222222222222, \"#7201a8\"], [0.3333333333333333, \"#9c179e\"], [0.4444444444444444, \"#bd3786\"], [0.5555555555555556, \"#d8576b\"], [0.6666666666666666, \"#ed7953\"], [0.7777777777777778, \"#fb9f3a\"], [0.8888888888888888, \"#fdca26\"], [1.0, \"#f0f921\"]]}, \"colorway\": [\"#636efa\", \"#EF553B\", \"#00cc96\", \"#ab63fa\", \"#FFA15A\", \"#19d3f3\", \"#FF6692\", \"#B6E880\", \"#FF97FF\", \"#FECB52\"], \"font\": {\"color\": \"#2a3f5f\"}, \"geo\": {\"bgcolor\": \"white\", \"lakecolor\": \"white\", \"landcolor\": \"#E5ECF6\", \"showlakes\": true, \"showland\": true, \"subunitcolor\": \"white\"}, \"hoverlabel\": {\"align\": \"left\"}, \"hovermode\": \"closest\", \"mapbox\": {\"style\": \"light\"}, \"paper_bgcolor\": \"white\", \"plot_bgcolor\": \"#E5ECF6\", \"polar\": {\"angularaxis\": {\"gridcolor\": \"white\", \"linecolor\": \"white\", \"ticks\": \"\"}, \"bgcolor\": \"#E5ECF6\", \"radialaxis\": {\"gridcolor\": \"white\", \"linecolor\": \"white\", \"ticks\": \"\"}}, \"scene\": {\"xaxis\": {\"backgroundcolor\": \"#E5ECF6\", \"gridcolor\": \"white\", \"gridwidth\": 2, \"linecolor\": \"white\", \"showbackground\": true, \"ticks\": \"\", \"zerolinecolor\": \"white\"}, \"yaxis\": {\"backgroundcolor\": \"#E5ECF6\", \"gridcolor\": \"white\", \"gridwidth\": 2, \"linecolor\": \"white\", \"showbackground\": true, \"ticks\": \"\", \"zerolinecolor\": \"white\"}, \"zaxis\": {\"backgroundcolor\": \"#E5ECF6\", \"gridcolor\": \"white\", \"gridwidth\": 2, \"linecolor\": \"white\", \"showbackground\": true, \"ticks\": \"\", \"zerolinecolor\": \"white\"}}, \"shapedefaults\": {\"line\": {\"color\": \"#2a3f5f\"}}, \"ternary\": {\"aaxis\": {\"gridcolor\": \"white\", \"linecolor\": \"white\", \"ticks\": \"\"}, \"baxis\": {\"gridcolor\": \"white\", \"linecolor\": \"white\", \"ticks\": \"\"}, \"bgcolor\": \"#E5ECF6\", \"caxis\": {\"gridcolor\": \"white\", \"linecolor\": \"white\", \"ticks\": \"\"}}, \"title\": {\"x\": 0.05}, \"xaxis\": {\"automargin\": true, \"gridcolor\": \"white\", \"linecolor\": \"white\", \"ticks\": \"\", \"title\": {\"standoff\": 15}, \"zerolinecolor\": \"white\", \"zerolinewidth\": 2}, \"yaxis\": {\"automargin\": true, \"gridcolor\": \"white\", \"linecolor\": \"white\", \"ticks\": \"\", \"title\": {\"standoff\": 15}, \"zerolinecolor\": \"white\", \"zerolinewidth\": 2}}}, \"title\": {\"text\": \"Coronavirus Cases in India on daily basis\"}, \"xaxis\": {\"anchor\": \"y\", \"domain\": [0.0, 1.0], \"title\": {\"text\": \"date\"}}, \"yaxis\": {\"anchor\": \"x\", \"domain\": [0.0, 1.0], \"title\": {\"text\": \"dailyconfirmed\"}}},\n",
       "                        {\"responsive\": true}\n",
       "                    ).then(function(){\n",
       "                            \n",
       "var gd = document.getElementById('93c66255-ad94-4aab-86c0-483c2ffecfe8');\n",
       "var x = new MutationObserver(function (mutations, observer) {{\n",
       "        var display = window.getComputedStyle(gd).display;\n",
       "        if (!display || display === 'none') {{\n",
       "            console.log([gd, 'removed!']);\n",
       "            Plotly.purge(gd);\n",
       "            observer.disconnect();\n",
       "        }}\n",
       "}});\n",
       "\n",
       "// Listen for the removal of the full notebook cells\n",
       "var notebookContainer = gd.closest('#notebook-container');\n",
       "if (notebookContainer) {{\n",
       "    x.observe(notebookContainer, {childList: true});\n",
       "}}\n",
       "\n",
       "// Listen for the clearing of the current output cell\n",
       "var outputEl = gd.closest('.output');\n",
       "if (outputEl) {{\n",
       "    x.observe(outputEl, {childList: true});\n",
       "}}\n",
       "\n",
       "                        })\n",
       "                };\n",
       "                });\n",
       "            </script>\n",
       "        </div>"
      ]
     },
     "metadata": {},
     "output_type": "display_data"
    }
   ],
   "source": [
    "#Learn how to create interactive graphs using plotly\n",
    "# import plotly.graph_objects as go\n",
    "# Rise of COVID-19 cases in India\n",
    "fig = go.Figure()\n",
    "dbd_India=pd.read_csv('C:/Users/Sai Sarath/Downloads/nation_level_daily.csv')\n",
    "fig.add_trace(go.Scatter(x=dbd_India['date'], y = dbd_India['totalconfirmed'], mode='lines+markers',name='Total Cases'))\n",
    "fig.add_trace(go.Scatter(x=dbd_India['date'], y = dbd_India['totalrecovered'], mode='lines+markers',name='Total Cured',line_color='green'))\n",
    "fig.add_trace(go.Scatter(x=dbd_India['date'], y = dbd_India['totaldeceased'], mode='lines+markers',name='Total Death',line_color='red'))\n",
    "fig.update_layout(title_text='Trend of Coronavirus Cases in India (Cumulative cases)',plot_bgcolor='rgb(230, 230, 230)')\n",
    "fig.show()\n",
    "\n",
    "# New COVID-19 cases reported daily in India\n",
    "\n",
    "import plotly.express as px\n",
    "fig = px.bar(dbd_India, x=\"date\", y=\"dailyconfirmed\", barmode='group', height=400)\n",
    "fig.update_layout(title_text='Coronavirus Cases in India on daily basis',plot_bgcolor='rgb(230, 230, 230)')\n",
    "\n",
    "fig.show()"
   ]
  },
  {
   "cell_type": "code",
   "execution_count": 72,
   "metadata": {},
   "outputs": [
    {
     "name": "stdout",
     "output_type": "stream",
     "text": [
      "Odisha\n"
     ]
    },
    {
     "data": {
      "application/vnd.plotly.v1+json": {
       "config": {
        "plotlyServerURL": "https://plot.ly"
       },
       "data": [
        {
         "mode": "lines+markers",
         "name": "Total Cases",
         "type": "scatter",
         "x": [
          "2020-03-16T00:00:00",
          "2020-03-17T00:00:00",
          "2020-03-18T00:00:00",
          "2020-03-19T00:00:00",
          "2020-03-20T00:00:00",
          "2020-03-21T00:00:00",
          "2020-03-22T00:00:00",
          "2020-03-23T00:00:00",
          "2020-03-24T00:00:00",
          "2020-03-25T00:00:00",
          "2020-03-26T00:00:00",
          "2020-03-27T00:00:00",
          "2020-03-28T00:00:00",
          "2020-03-29T00:00:00",
          "2020-03-30T00:00:00",
          "2020-03-31T00:00:00",
          "2020-04-01T00:00:00",
          "2020-04-02T00:00:00",
          "2020-04-03T00:00:00",
          "2020-04-04T00:00:00",
          "2020-04-05T00:00:00",
          "2020-04-06T00:00:00",
          "2020-04-07T00:00:00",
          "2020-04-08T00:00:00",
          "2020-04-09T00:00:00",
          "2020-04-10T00:00:00",
          "2020-04-11T00:00:00",
          "2020-04-12T00:00:00",
          "2020-04-13T00:00:00",
          "2020-04-14T00:00:00",
          "2020-04-15T00:00:00",
          "2020-04-16T00:00:00",
          "2020-04-17T00:00:00",
          "2020-04-18T00:00:00",
          "2020-04-19T00:00:00",
          "2020-04-20T00:00:00",
          "2020-04-21T00:00:00",
          "2020-04-22T00:00:00",
          "2020-04-23T00:00:00",
          "2020-04-24T00:00:00",
          "2020-04-25T00:00:00",
          "2020-04-26T00:00:00",
          "2020-04-27T00:00:00",
          "2020-04-28T00:00:00",
          "2020-04-29T00:00:00",
          "2020-04-30T00:00:00",
          "2020-05-01T00:00:00",
          "2020-05-02T00:00:00",
          "2020-05-03T00:00:00",
          "2020-05-04T00:00:00",
          "2020-05-05T00:00:00",
          "2020-05-06T00:00:00",
          "2020-05-07T00:00:00",
          "2020-05-08T00:00:00",
          "2020-05-09T00:00:00",
          "2020-05-10T00:00:00",
          "2020-05-11T00:00:00",
          "2020-05-12T00:00:00",
          "2020-05-13T00:00:00",
          "2020-05-14T00:00:00",
          "2020-05-15T00:00:00",
          "2020-05-16T00:00:00",
          "2020-05-17T00:00:00"
         ],
         "y": [
          1,
          1,
          1,
          1,
          1,
          2,
          2,
          2,
          2,
          2,
          2,
          2,
          3,
          3,
          3,
          3,
          4,
          4,
          5,
          5,
          20,
          21,
          21,
          42,
          42,
          44,
          48,
          50,
          54,
          55,
          60,
          60,
          60,
          60,
          61,
          68,
          74,
          79,
          83,
          90,
          94,
          94,
          103,
          118,
          118,
          125,
          142,
          149,
          157,
          162,
          169,
          175,
          185,
          219,
          271,
          294,
          377,
          414,
          437,
          538,
          611,
          672,
          737
         ]
        },
        {
         "line": {
          "color": "green"
         },
         "mode": "lines+markers",
         "name": "Total Cured",
         "type": "scatter",
         "x": [
          "2020-03-16T00:00:00",
          "2020-03-17T00:00:00",
          "2020-03-18T00:00:00",
          "2020-03-19T00:00:00",
          "2020-03-20T00:00:00",
          "2020-03-21T00:00:00",
          "2020-03-22T00:00:00",
          "2020-03-23T00:00:00",
          "2020-03-24T00:00:00",
          "2020-03-25T00:00:00",
          "2020-03-26T00:00:00",
          "2020-03-27T00:00:00",
          "2020-03-28T00:00:00",
          "2020-03-29T00:00:00",
          "2020-03-30T00:00:00",
          "2020-03-31T00:00:00",
          "2020-04-01T00:00:00",
          "2020-04-02T00:00:00",
          "2020-04-03T00:00:00",
          "2020-04-04T00:00:00",
          "2020-04-05T00:00:00",
          "2020-04-06T00:00:00",
          "2020-04-07T00:00:00",
          "2020-04-08T00:00:00",
          "2020-04-09T00:00:00",
          "2020-04-10T00:00:00",
          "2020-04-11T00:00:00",
          "2020-04-12T00:00:00",
          "2020-04-13T00:00:00",
          "2020-04-14T00:00:00",
          "2020-04-15T00:00:00",
          "2020-04-16T00:00:00",
          "2020-04-17T00:00:00",
          "2020-04-18T00:00:00",
          "2020-04-19T00:00:00",
          "2020-04-20T00:00:00",
          "2020-04-21T00:00:00",
          "2020-04-22T00:00:00",
          "2020-04-23T00:00:00",
          "2020-04-24T00:00:00",
          "2020-04-25T00:00:00",
          "2020-04-26T00:00:00",
          "2020-04-27T00:00:00",
          "2020-04-28T00:00:00",
          "2020-04-29T00:00:00",
          "2020-04-30T00:00:00",
          "2020-05-01T00:00:00",
          "2020-05-02T00:00:00",
          "2020-05-03T00:00:00",
          "2020-05-04T00:00:00",
          "2020-05-05T00:00:00",
          "2020-05-06T00:00:00",
          "2020-05-07T00:00:00",
          "2020-05-08T00:00:00",
          "2020-05-09T00:00:00",
          "2020-05-10T00:00:00",
          "2020-05-11T00:00:00",
          "2020-05-12T00:00:00",
          "2020-05-13T00:00:00",
          "2020-05-14T00:00:00",
          "2020-05-15T00:00:00",
          "2020-05-16T00:00:00",
          "2020-05-17T00:00:00"
         ],
         "y": [
          0,
          0,
          0,
          0,
          0,
          0,
          0,
          0,
          0,
          0,
          0,
          0,
          0,
          0,
          0,
          0,
          0,
          0,
          0,
          0,
          0,
          2,
          2,
          2,
          2,
          2,
          2,
          2,
          12,
          18,
          18,
          18,
          19,
          19,
          24,
          24,
          24,
          24,
          32,
          33,
          33,
          33,
          35,
          37,
          38,
          39,
          39,
          55,
          56,
          56,
          60,
          60,
          61,
          62,
          63,
          63,
          68,
          85,
          116,
          143,
          158,
          166,
          196
         ]
        },
        {
         "line": {
          "color": "red"
         },
         "mode": "lines+markers",
         "name": "Total Death",
         "type": "scatter",
         "x": [
          "2020-03-16T00:00:00",
          "2020-03-17T00:00:00",
          "2020-03-18T00:00:00",
          "2020-03-19T00:00:00",
          "2020-03-20T00:00:00",
          "2020-03-21T00:00:00",
          "2020-03-22T00:00:00",
          "2020-03-23T00:00:00",
          "2020-03-24T00:00:00",
          "2020-03-25T00:00:00",
          "2020-03-26T00:00:00",
          "2020-03-27T00:00:00",
          "2020-03-28T00:00:00",
          "2020-03-29T00:00:00",
          "2020-03-30T00:00:00",
          "2020-03-31T00:00:00",
          "2020-04-01T00:00:00",
          "2020-04-02T00:00:00",
          "2020-04-03T00:00:00",
          "2020-04-04T00:00:00",
          "2020-04-05T00:00:00",
          "2020-04-06T00:00:00",
          "2020-04-07T00:00:00",
          "2020-04-08T00:00:00",
          "2020-04-09T00:00:00",
          "2020-04-10T00:00:00",
          "2020-04-11T00:00:00",
          "2020-04-12T00:00:00",
          "2020-04-13T00:00:00",
          "2020-04-14T00:00:00",
          "2020-04-15T00:00:00",
          "2020-04-16T00:00:00",
          "2020-04-17T00:00:00",
          "2020-04-18T00:00:00",
          "2020-04-19T00:00:00",
          "2020-04-20T00:00:00",
          "2020-04-21T00:00:00",
          "2020-04-22T00:00:00",
          "2020-04-23T00:00:00",
          "2020-04-24T00:00:00",
          "2020-04-25T00:00:00",
          "2020-04-26T00:00:00",
          "2020-04-27T00:00:00",
          "2020-04-28T00:00:00",
          "2020-04-29T00:00:00",
          "2020-04-30T00:00:00",
          "2020-05-01T00:00:00",
          "2020-05-02T00:00:00",
          "2020-05-03T00:00:00",
          "2020-05-04T00:00:00",
          "2020-05-05T00:00:00",
          "2020-05-06T00:00:00",
          "2020-05-07T00:00:00",
          "2020-05-08T00:00:00",
          "2020-05-09T00:00:00",
          "2020-05-10T00:00:00",
          "2020-05-11T00:00:00",
          "2020-05-12T00:00:00",
          "2020-05-13T00:00:00",
          "2020-05-14T00:00:00",
          "2020-05-15T00:00:00",
          "2020-05-16T00:00:00",
          "2020-05-17T00:00:00"
         ],
         "y": [
          0,
          0,
          0,
          0,
          0,
          0,
          0,
          0,
          0,
          0,
          0,
          0,
          0,
          0,
          0,
          0,
          0,
          0,
          0,
          0,
          0,
          0,
          0,
          1,
          1,
          1,
          1,
          1,
          1,
          1,
          1,
          1,
          1,
          1,
          1,
          1,
          1,
          1,
          1,
          1,
          1,
          1,
          1,
          1,
          1,
          1,
          1,
          1,
          1,
          1,
          1,
          1,
          2,
          2,
          2,
          2,
          3,
          3,
          3,
          3,
          3,
          3,
          3
         ]
        }
       ],
       "layout": {
        "plot_bgcolor": "rgb(230, 230, 230)",
        "template": {
         "data": {
          "bar": [
           {
            "error_x": {
             "color": "#2a3f5f"
            },
            "error_y": {
             "color": "#2a3f5f"
            },
            "marker": {
             "line": {
              "color": "#E5ECF6",
              "width": 0.5
             }
            },
            "type": "bar"
           }
          ],
          "barpolar": [
           {
            "marker": {
             "line": {
              "color": "#E5ECF6",
              "width": 0.5
             }
            },
            "type": "barpolar"
           }
          ],
          "carpet": [
           {
            "aaxis": {
             "endlinecolor": "#2a3f5f",
             "gridcolor": "white",
             "linecolor": "white",
             "minorgridcolor": "white",
             "startlinecolor": "#2a3f5f"
            },
            "baxis": {
             "endlinecolor": "#2a3f5f",
             "gridcolor": "white",
             "linecolor": "white",
             "minorgridcolor": "white",
             "startlinecolor": "#2a3f5f"
            },
            "type": "carpet"
           }
          ],
          "choropleth": [
           {
            "colorbar": {
             "outlinewidth": 0,
             "ticks": ""
            },
            "type": "choropleth"
           }
          ],
          "contour": [
           {
            "colorbar": {
             "outlinewidth": 0,
             "ticks": ""
            },
            "colorscale": [
             [
              0,
              "#0d0887"
             ],
             [
              0.1111111111111111,
              "#46039f"
             ],
             [
              0.2222222222222222,
              "#7201a8"
             ],
             [
              0.3333333333333333,
              "#9c179e"
             ],
             [
              0.4444444444444444,
              "#bd3786"
             ],
             [
              0.5555555555555556,
              "#d8576b"
             ],
             [
              0.6666666666666666,
              "#ed7953"
             ],
             [
              0.7777777777777778,
              "#fb9f3a"
             ],
             [
              0.8888888888888888,
              "#fdca26"
             ],
             [
              1,
              "#f0f921"
             ]
            ],
            "type": "contour"
           }
          ],
          "contourcarpet": [
           {
            "colorbar": {
             "outlinewidth": 0,
             "ticks": ""
            },
            "type": "contourcarpet"
           }
          ],
          "heatmap": [
           {
            "colorbar": {
             "outlinewidth": 0,
             "ticks": ""
            },
            "colorscale": [
             [
              0,
              "#0d0887"
             ],
             [
              0.1111111111111111,
              "#46039f"
             ],
             [
              0.2222222222222222,
              "#7201a8"
             ],
             [
              0.3333333333333333,
              "#9c179e"
             ],
             [
              0.4444444444444444,
              "#bd3786"
             ],
             [
              0.5555555555555556,
              "#d8576b"
             ],
             [
              0.6666666666666666,
              "#ed7953"
             ],
             [
              0.7777777777777778,
              "#fb9f3a"
             ],
             [
              0.8888888888888888,
              "#fdca26"
             ],
             [
              1,
              "#f0f921"
             ]
            ],
            "type": "heatmap"
           }
          ],
          "heatmapgl": [
           {
            "colorbar": {
             "outlinewidth": 0,
             "ticks": ""
            },
            "colorscale": [
             [
              0,
              "#0d0887"
             ],
             [
              0.1111111111111111,
              "#46039f"
             ],
             [
              0.2222222222222222,
              "#7201a8"
             ],
             [
              0.3333333333333333,
              "#9c179e"
             ],
             [
              0.4444444444444444,
              "#bd3786"
             ],
             [
              0.5555555555555556,
              "#d8576b"
             ],
             [
              0.6666666666666666,
              "#ed7953"
             ],
             [
              0.7777777777777778,
              "#fb9f3a"
             ],
             [
              0.8888888888888888,
              "#fdca26"
             ],
             [
              1,
              "#f0f921"
             ]
            ],
            "type": "heatmapgl"
           }
          ],
          "histogram": [
           {
            "marker": {
             "colorbar": {
              "outlinewidth": 0,
              "ticks": ""
             }
            },
            "type": "histogram"
           }
          ],
          "histogram2d": [
           {
            "colorbar": {
             "outlinewidth": 0,
             "ticks": ""
            },
            "colorscale": [
             [
              0,
              "#0d0887"
             ],
             [
              0.1111111111111111,
              "#46039f"
             ],
             [
              0.2222222222222222,
              "#7201a8"
             ],
             [
              0.3333333333333333,
              "#9c179e"
             ],
             [
              0.4444444444444444,
              "#bd3786"
             ],
             [
              0.5555555555555556,
              "#d8576b"
             ],
             [
              0.6666666666666666,
              "#ed7953"
             ],
             [
              0.7777777777777778,
              "#fb9f3a"
             ],
             [
              0.8888888888888888,
              "#fdca26"
             ],
             [
              1,
              "#f0f921"
             ]
            ],
            "type": "histogram2d"
           }
          ],
          "histogram2dcontour": [
           {
            "colorbar": {
             "outlinewidth": 0,
             "ticks": ""
            },
            "colorscale": [
             [
              0,
              "#0d0887"
             ],
             [
              0.1111111111111111,
              "#46039f"
             ],
             [
              0.2222222222222222,
              "#7201a8"
             ],
             [
              0.3333333333333333,
              "#9c179e"
             ],
             [
              0.4444444444444444,
              "#bd3786"
             ],
             [
              0.5555555555555556,
              "#d8576b"
             ],
             [
              0.6666666666666666,
              "#ed7953"
             ],
             [
              0.7777777777777778,
              "#fb9f3a"
             ],
             [
              0.8888888888888888,
              "#fdca26"
             ],
             [
              1,
              "#f0f921"
             ]
            ],
            "type": "histogram2dcontour"
           }
          ],
          "mesh3d": [
           {
            "colorbar": {
             "outlinewidth": 0,
             "ticks": ""
            },
            "type": "mesh3d"
           }
          ],
          "parcoords": [
           {
            "line": {
             "colorbar": {
              "outlinewidth": 0,
              "ticks": ""
             }
            },
            "type": "parcoords"
           }
          ],
          "pie": [
           {
            "automargin": true,
            "type": "pie"
           }
          ],
          "scatter": [
           {
            "marker": {
             "colorbar": {
              "outlinewidth": 0,
              "ticks": ""
             }
            },
            "type": "scatter"
           }
          ],
          "scatter3d": [
           {
            "line": {
             "colorbar": {
              "outlinewidth": 0,
              "ticks": ""
             }
            },
            "marker": {
             "colorbar": {
              "outlinewidth": 0,
              "ticks": ""
             }
            },
            "type": "scatter3d"
           }
          ],
          "scattercarpet": [
           {
            "marker": {
             "colorbar": {
              "outlinewidth": 0,
              "ticks": ""
             }
            },
            "type": "scattercarpet"
           }
          ],
          "scattergeo": [
           {
            "marker": {
             "colorbar": {
              "outlinewidth": 0,
              "ticks": ""
             }
            },
            "type": "scattergeo"
           }
          ],
          "scattergl": [
           {
            "marker": {
             "colorbar": {
              "outlinewidth": 0,
              "ticks": ""
             }
            },
            "type": "scattergl"
           }
          ],
          "scattermapbox": [
           {
            "marker": {
             "colorbar": {
              "outlinewidth": 0,
              "ticks": ""
             }
            },
            "type": "scattermapbox"
           }
          ],
          "scatterpolar": [
           {
            "marker": {
             "colorbar": {
              "outlinewidth": 0,
              "ticks": ""
             }
            },
            "type": "scatterpolar"
           }
          ],
          "scatterpolargl": [
           {
            "marker": {
             "colorbar": {
              "outlinewidth": 0,
              "ticks": ""
             }
            },
            "type": "scatterpolargl"
           }
          ],
          "scatterternary": [
           {
            "marker": {
             "colorbar": {
              "outlinewidth": 0,
              "ticks": ""
             }
            },
            "type": "scatterternary"
           }
          ],
          "surface": [
           {
            "colorbar": {
             "outlinewidth": 0,
             "ticks": ""
            },
            "colorscale": [
             [
              0,
              "#0d0887"
             ],
             [
              0.1111111111111111,
              "#46039f"
             ],
             [
              0.2222222222222222,
              "#7201a8"
             ],
             [
              0.3333333333333333,
              "#9c179e"
             ],
             [
              0.4444444444444444,
              "#bd3786"
             ],
             [
              0.5555555555555556,
              "#d8576b"
             ],
             [
              0.6666666666666666,
              "#ed7953"
             ],
             [
              0.7777777777777778,
              "#fb9f3a"
             ],
             [
              0.8888888888888888,
              "#fdca26"
             ],
             [
              1,
              "#f0f921"
             ]
            ],
            "type": "surface"
           }
          ],
          "table": [
           {
            "cells": {
             "fill": {
              "color": "#EBF0F8"
             },
             "line": {
              "color": "white"
             }
            },
            "header": {
             "fill": {
              "color": "#C8D4E3"
             },
             "line": {
              "color": "white"
             }
            },
            "type": "table"
           }
          ]
         },
         "layout": {
          "annotationdefaults": {
           "arrowcolor": "#2a3f5f",
           "arrowhead": 0,
           "arrowwidth": 1
          },
          "coloraxis": {
           "colorbar": {
            "outlinewidth": 0,
            "ticks": ""
           }
          },
          "colorscale": {
           "diverging": [
            [
             0,
             "#8e0152"
            ],
            [
             0.1,
             "#c51b7d"
            ],
            [
             0.2,
             "#de77ae"
            ],
            [
             0.3,
             "#f1b6da"
            ],
            [
             0.4,
             "#fde0ef"
            ],
            [
             0.5,
             "#f7f7f7"
            ],
            [
             0.6,
             "#e6f5d0"
            ],
            [
             0.7,
             "#b8e186"
            ],
            [
             0.8,
             "#7fbc41"
            ],
            [
             0.9,
             "#4d9221"
            ],
            [
             1,
             "#276419"
            ]
           ],
           "sequential": [
            [
             0,
             "#0d0887"
            ],
            [
             0.1111111111111111,
             "#46039f"
            ],
            [
             0.2222222222222222,
             "#7201a8"
            ],
            [
             0.3333333333333333,
             "#9c179e"
            ],
            [
             0.4444444444444444,
             "#bd3786"
            ],
            [
             0.5555555555555556,
             "#d8576b"
            ],
            [
             0.6666666666666666,
             "#ed7953"
            ],
            [
             0.7777777777777778,
             "#fb9f3a"
            ],
            [
             0.8888888888888888,
             "#fdca26"
            ],
            [
             1,
             "#f0f921"
            ]
           ],
           "sequentialminus": [
            [
             0,
             "#0d0887"
            ],
            [
             0.1111111111111111,
             "#46039f"
            ],
            [
             0.2222222222222222,
             "#7201a8"
            ],
            [
             0.3333333333333333,
             "#9c179e"
            ],
            [
             0.4444444444444444,
             "#bd3786"
            ],
            [
             0.5555555555555556,
             "#d8576b"
            ],
            [
             0.6666666666666666,
             "#ed7953"
            ],
            [
             0.7777777777777778,
             "#fb9f3a"
            ],
            [
             0.8888888888888888,
             "#fdca26"
            ],
            [
             1,
             "#f0f921"
            ]
           ]
          },
          "colorway": [
           "#636efa",
           "#EF553B",
           "#00cc96",
           "#ab63fa",
           "#FFA15A",
           "#19d3f3",
           "#FF6692",
           "#B6E880",
           "#FF97FF",
           "#FECB52"
          ],
          "font": {
           "color": "#2a3f5f"
          },
          "geo": {
           "bgcolor": "white",
           "lakecolor": "white",
           "landcolor": "#E5ECF6",
           "showlakes": true,
           "showland": true,
           "subunitcolor": "white"
          },
          "hoverlabel": {
           "align": "left"
          },
          "hovermode": "closest",
          "mapbox": {
           "style": "light"
          },
          "paper_bgcolor": "white",
          "plot_bgcolor": "#E5ECF6",
          "polar": {
           "angularaxis": {
            "gridcolor": "white",
            "linecolor": "white",
            "ticks": ""
           },
           "bgcolor": "#E5ECF6",
           "radialaxis": {
            "gridcolor": "white",
            "linecolor": "white",
            "ticks": ""
           }
          },
          "scene": {
           "xaxis": {
            "backgroundcolor": "#E5ECF6",
            "gridcolor": "white",
            "gridwidth": 2,
            "linecolor": "white",
            "showbackground": true,
            "ticks": "",
            "zerolinecolor": "white"
           },
           "yaxis": {
            "backgroundcolor": "#E5ECF6",
            "gridcolor": "white",
            "gridwidth": 2,
            "linecolor": "white",
            "showbackground": true,
            "ticks": "",
            "zerolinecolor": "white"
           },
           "zaxis": {
            "backgroundcolor": "#E5ECF6",
            "gridcolor": "white",
            "gridwidth": 2,
            "linecolor": "white",
            "showbackground": true,
            "ticks": "",
            "zerolinecolor": "white"
           }
          },
          "shapedefaults": {
           "line": {
            "color": "#2a3f5f"
           }
          },
          "ternary": {
           "aaxis": {
            "gridcolor": "white",
            "linecolor": "white",
            "ticks": ""
           },
           "baxis": {
            "gridcolor": "white",
            "linecolor": "white",
            "ticks": ""
           },
           "bgcolor": "#E5ECF6",
           "caxis": {
            "gridcolor": "white",
            "linecolor": "white",
            "ticks": ""
           }
          },
          "title": {
           "x": 0.05
          },
          "xaxis": {
           "automargin": true,
           "gridcolor": "white",
           "linecolor": "white",
           "ticks": "",
           "title": {
            "standoff": 15
           },
           "zerolinecolor": "white",
           "zerolinewidth": 2
          },
          "yaxis": {
           "automargin": true,
           "gridcolor": "white",
           "linecolor": "white",
           "ticks": "",
           "title": {
            "standoff": 15
           },
           "zerolinecolor": "white",
           "zerolinewidth": 2
          }
         }
        },
        "title": {
         "text": "Trend of Coronavirus Cases in Odisha (Cumulative cases)"
        }
       }
      },
      "text/html": [
       "<div>\n",
       "        \n",
       "        \n",
       "            <div id=\"57c0806b-9dd2-4ec7-92b9-118543d71680\" class=\"plotly-graph-div\" style=\"height:525px; width:100%;\"></div>\n",
       "            <script type=\"text/javascript\">\n",
       "                require([\"plotly\"], function(Plotly) {\n",
       "                    window.PLOTLYENV=window.PLOTLYENV || {};\n",
       "                    \n",
       "                if (document.getElementById(\"57c0806b-9dd2-4ec7-92b9-118543d71680\")) {\n",
       "                    Plotly.newPlot(\n",
       "                        '57c0806b-9dd2-4ec7-92b9-118543d71680',\n",
       "                        [{\"mode\": \"lines+markers\", \"name\": \"Total Cases\", \"type\": \"scatter\", \"x\": [\"2020-03-16T00:00:00\", \"2020-03-17T00:00:00\", \"2020-03-18T00:00:00\", \"2020-03-19T00:00:00\", \"2020-03-20T00:00:00\", \"2020-03-21T00:00:00\", \"2020-03-22T00:00:00\", \"2020-03-23T00:00:00\", \"2020-03-24T00:00:00\", \"2020-03-25T00:00:00\", \"2020-03-26T00:00:00\", \"2020-03-27T00:00:00\", \"2020-03-28T00:00:00\", \"2020-03-29T00:00:00\", \"2020-03-30T00:00:00\", \"2020-03-31T00:00:00\", \"2020-04-01T00:00:00\", \"2020-04-02T00:00:00\", \"2020-04-03T00:00:00\", \"2020-04-04T00:00:00\", \"2020-04-05T00:00:00\", \"2020-04-06T00:00:00\", \"2020-04-07T00:00:00\", \"2020-04-08T00:00:00\", \"2020-04-09T00:00:00\", \"2020-04-10T00:00:00\", \"2020-04-11T00:00:00\", \"2020-04-12T00:00:00\", \"2020-04-13T00:00:00\", \"2020-04-14T00:00:00\", \"2020-04-15T00:00:00\", \"2020-04-16T00:00:00\", \"2020-04-17T00:00:00\", \"2020-04-18T00:00:00\", \"2020-04-19T00:00:00\", \"2020-04-20T00:00:00\", \"2020-04-21T00:00:00\", \"2020-04-22T00:00:00\", \"2020-04-23T00:00:00\", \"2020-04-24T00:00:00\", \"2020-04-25T00:00:00\", \"2020-04-26T00:00:00\", \"2020-04-27T00:00:00\", \"2020-04-28T00:00:00\", \"2020-04-29T00:00:00\", \"2020-04-30T00:00:00\", \"2020-05-01T00:00:00\", \"2020-05-02T00:00:00\", \"2020-05-03T00:00:00\", \"2020-05-04T00:00:00\", \"2020-05-05T00:00:00\", \"2020-05-06T00:00:00\", \"2020-05-07T00:00:00\", \"2020-05-08T00:00:00\", \"2020-05-09T00:00:00\", \"2020-05-10T00:00:00\", \"2020-05-11T00:00:00\", \"2020-05-12T00:00:00\", \"2020-05-13T00:00:00\", \"2020-05-14T00:00:00\", \"2020-05-15T00:00:00\", \"2020-05-16T00:00:00\", \"2020-05-17T00:00:00\"], \"y\": [1, 1, 1, 1, 1, 2, 2, 2, 2, 2, 2, 2, 3, 3, 3, 3, 4, 4, 5, 5, 20, 21, 21, 42, 42, 44, 48, 50, 54, 55, 60, 60, 60, 60, 61, 68, 74, 79, 83, 90, 94, 94, 103, 118, 118, 125, 142, 149, 157, 162, 169, 175, 185, 219, 271, 294, 377, 414, 437, 538, 611, 672, 737]}, {\"line\": {\"color\": \"green\"}, \"mode\": \"lines+markers\", \"name\": \"Total Cured\", \"type\": \"scatter\", \"x\": [\"2020-03-16T00:00:00\", \"2020-03-17T00:00:00\", \"2020-03-18T00:00:00\", \"2020-03-19T00:00:00\", \"2020-03-20T00:00:00\", \"2020-03-21T00:00:00\", \"2020-03-22T00:00:00\", \"2020-03-23T00:00:00\", \"2020-03-24T00:00:00\", \"2020-03-25T00:00:00\", \"2020-03-26T00:00:00\", \"2020-03-27T00:00:00\", \"2020-03-28T00:00:00\", \"2020-03-29T00:00:00\", \"2020-03-30T00:00:00\", \"2020-03-31T00:00:00\", \"2020-04-01T00:00:00\", \"2020-04-02T00:00:00\", \"2020-04-03T00:00:00\", \"2020-04-04T00:00:00\", \"2020-04-05T00:00:00\", \"2020-04-06T00:00:00\", \"2020-04-07T00:00:00\", \"2020-04-08T00:00:00\", \"2020-04-09T00:00:00\", \"2020-04-10T00:00:00\", \"2020-04-11T00:00:00\", \"2020-04-12T00:00:00\", \"2020-04-13T00:00:00\", \"2020-04-14T00:00:00\", \"2020-04-15T00:00:00\", \"2020-04-16T00:00:00\", \"2020-04-17T00:00:00\", \"2020-04-18T00:00:00\", \"2020-04-19T00:00:00\", \"2020-04-20T00:00:00\", \"2020-04-21T00:00:00\", \"2020-04-22T00:00:00\", \"2020-04-23T00:00:00\", \"2020-04-24T00:00:00\", \"2020-04-25T00:00:00\", \"2020-04-26T00:00:00\", \"2020-04-27T00:00:00\", \"2020-04-28T00:00:00\", \"2020-04-29T00:00:00\", \"2020-04-30T00:00:00\", \"2020-05-01T00:00:00\", \"2020-05-02T00:00:00\", \"2020-05-03T00:00:00\", \"2020-05-04T00:00:00\", \"2020-05-05T00:00:00\", \"2020-05-06T00:00:00\", \"2020-05-07T00:00:00\", \"2020-05-08T00:00:00\", \"2020-05-09T00:00:00\", \"2020-05-10T00:00:00\", \"2020-05-11T00:00:00\", \"2020-05-12T00:00:00\", \"2020-05-13T00:00:00\", \"2020-05-14T00:00:00\", \"2020-05-15T00:00:00\", \"2020-05-16T00:00:00\", \"2020-05-17T00:00:00\"], \"y\": [0, 0, 0, 0, 0, 0, 0, 0, 0, 0, 0, 0, 0, 0, 0, 0, 0, 0, 0, 0, 0, 2, 2, 2, 2, 2, 2, 2, 12, 18, 18, 18, 19, 19, 24, 24, 24, 24, 32, 33, 33, 33, 35, 37, 38, 39, 39, 55, 56, 56, 60, 60, 61, 62, 63, 63, 68, 85, 116, 143, 158, 166, 196]}, {\"line\": {\"color\": \"red\"}, \"mode\": \"lines+markers\", \"name\": \"Total Death\", \"type\": \"scatter\", \"x\": [\"2020-03-16T00:00:00\", \"2020-03-17T00:00:00\", \"2020-03-18T00:00:00\", \"2020-03-19T00:00:00\", \"2020-03-20T00:00:00\", \"2020-03-21T00:00:00\", \"2020-03-22T00:00:00\", \"2020-03-23T00:00:00\", \"2020-03-24T00:00:00\", \"2020-03-25T00:00:00\", \"2020-03-26T00:00:00\", \"2020-03-27T00:00:00\", \"2020-03-28T00:00:00\", \"2020-03-29T00:00:00\", \"2020-03-30T00:00:00\", \"2020-03-31T00:00:00\", \"2020-04-01T00:00:00\", \"2020-04-02T00:00:00\", \"2020-04-03T00:00:00\", \"2020-04-04T00:00:00\", \"2020-04-05T00:00:00\", \"2020-04-06T00:00:00\", \"2020-04-07T00:00:00\", \"2020-04-08T00:00:00\", \"2020-04-09T00:00:00\", \"2020-04-10T00:00:00\", \"2020-04-11T00:00:00\", \"2020-04-12T00:00:00\", \"2020-04-13T00:00:00\", \"2020-04-14T00:00:00\", \"2020-04-15T00:00:00\", \"2020-04-16T00:00:00\", \"2020-04-17T00:00:00\", \"2020-04-18T00:00:00\", \"2020-04-19T00:00:00\", \"2020-04-20T00:00:00\", \"2020-04-21T00:00:00\", \"2020-04-22T00:00:00\", \"2020-04-23T00:00:00\", \"2020-04-24T00:00:00\", \"2020-04-25T00:00:00\", \"2020-04-26T00:00:00\", \"2020-04-27T00:00:00\", \"2020-04-28T00:00:00\", \"2020-04-29T00:00:00\", \"2020-04-30T00:00:00\", \"2020-05-01T00:00:00\", \"2020-05-02T00:00:00\", \"2020-05-03T00:00:00\", \"2020-05-04T00:00:00\", \"2020-05-05T00:00:00\", \"2020-05-06T00:00:00\", \"2020-05-07T00:00:00\", \"2020-05-08T00:00:00\", \"2020-05-09T00:00:00\", \"2020-05-10T00:00:00\", \"2020-05-11T00:00:00\", \"2020-05-12T00:00:00\", \"2020-05-13T00:00:00\", \"2020-05-14T00:00:00\", \"2020-05-15T00:00:00\", \"2020-05-16T00:00:00\", \"2020-05-17T00:00:00\"], \"y\": [0, 0, 0, 0, 0, 0, 0, 0, 0, 0, 0, 0, 0, 0, 0, 0, 0, 0, 0, 0, 0, 0, 0, 1, 1, 1, 1, 1, 1, 1, 1, 1, 1, 1, 1, 1, 1, 1, 1, 1, 1, 1, 1, 1, 1, 1, 1, 1, 1, 1, 1, 1, 2, 2, 2, 2, 3, 3, 3, 3, 3, 3, 3]}],\n",
       "                        {\"plot_bgcolor\": \"rgb(230, 230, 230)\", \"template\": {\"data\": {\"bar\": [{\"error_x\": {\"color\": \"#2a3f5f\"}, \"error_y\": {\"color\": \"#2a3f5f\"}, \"marker\": {\"line\": {\"color\": \"#E5ECF6\", \"width\": 0.5}}, \"type\": \"bar\"}], \"barpolar\": [{\"marker\": {\"line\": {\"color\": \"#E5ECF6\", \"width\": 0.5}}, \"type\": \"barpolar\"}], \"carpet\": [{\"aaxis\": {\"endlinecolor\": \"#2a3f5f\", \"gridcolor\": \"white\", \"linecolor\": \"white\", \"minorgridcolor\": \"white\", \"startlinecolor\": \"#2a3f5f\"}, \"baxis\": {\"endlinecolor\": \"#2a3f5f\", \"gridcolor\": \"white\", \"linecolor\": \"white\", \"minorgridcolor\": \"white\", \"startlinecolor\": \"#2a3f5f\"}, \"type\": \"carpet\"}], \"choropleth\": [{\"colorbar\": {\"outlinewidth\": 0, \"ticks\": \"\"}, \"type\": \"choropleth\"}], \"contour\": [{\"colorbar\": {\"outlinewidth\": 0, \"ticks\": \"\"}, \"colorscale\": [[0.0, \"#0d0887\"], [0.1111111111111111, \"#46039f\"], [0.2222222222222222, \"#7201a8\"], [0.3333333333333333, \"#9c179e\"], [0.4444444444444444, \"#bd3786\"], [0.5555555555555556, \"#d8576b\"], [0.6666666666666666, \"#ed7953\"], [0.7777777777777778, \"#fb9f3a\"], [0.8888888888888888, \"#fdca26\"], [1.0, \"#f0f921\"]], \"type\": \"contour\"}], \"contourcarpet\": [{\"colorbar\": {\"outlinewidth\": 0, \"ticks\": \"\"}, \"type\": \"contourcarpet\"}], \"heatmap\": [{\"colorbar\": {\"outlinewidth\": 0, \"ticks\": \"\"}, \"colorscale\": [[0.0, \"#0d0887\"], [0.1111111111111111, \"#46039f\"], [0.2222222222222222, \"#7201a8\"], [0.3333333333333333, \"#9c179e\"], [0.4444444444444444, \"#bd3786\"], [0.5555555555555556, \"#d8576b\"], [0.6666666666666666, \"#ed7953\"], [0.7777777777777778, \"#fb9f3a\"], [0.8888888888888888, \"#fdca26\"], [1.0, \"#f0f921\"]], \"type\": \"heatmap\"}], \"heatmapgl\": [{\"colorbar\": {\"outlinewidth\": 0, \"ticks\": \"\"}, \"colorscale\": [[0.0, \"#0d0887\"], [0.1111111111111111, \"#46039f\"], [0.2222222222222222, \"#7201a8\"], [0.3333333333333333, \"#9c179e\"], [0.4444444444444444, \"#bd3786\"], [0.5555555555555556, \"#d8576b\"], [0.6666666666666666, \"#ed7953\"], [0.7777777777777778, \"#fb9f3a\"], [0.8888888888888888, \"#fdca26\"], [1.0, \"#f0f921\"]], \"type\": \"heatmapgl\"}], \"histogram\": [{\"marker\": {\"colorbar\": {\"outlinewidth\": 0, \"ticks\": \"\"}}, \"type\": \"histogram\"}], \"histogram2d\": [{\"colorbar\": {\"outlinewidth\": 0, \"ticks\": \"\"}, \"colorscale\": [[0.0, \"#0d0887\"], [0.1111111111111111, \"#46039f\"], [0.2222222222222222, \"#7201a8\"], [0.3333333333333333, \"#9c179e\"], [0.4444444444444444, \"#bd3786\"], [0.5555555555555556, \"#d8576b\"], [0.6666666666666666, \"#ed7953\"], [0.7777777777777778, \"#fb9f3a\"], [0.8888888888888888, \"#fdca26\"], [1.0, \"#f0f921\"]], \"type\": \"histogram2d\"}], \"histogram2dcontour\": [{\"colorbar\": {\"outlinewidth\": 0, \"ticks\": \"\"}, \"colorscale\": [[0.0, \"#0d0887\"], [0.1111111111111111, \"#46039f\"], [0.2222222222222222, \"#7201a8\"], [0.3333333333333333, \"#9c179e\"], [0.4444444444444444, \"#bd3786\"], [0.5555555555555556, \"#d8576b\"], [0.6666666666666666, \"#ed7953\"], [0.7777777777777778, \"#fb9f3a\"], [0.8888888888888888, \"#fdca26\"], [1.0, \"#f0f921\"]], \"type\": \"histogram2dcontour\"}], \"mesh3d\": [{\"colorbar\": {\"outlinewidth\": 0, \"ticks\": \"\"}, \"type\": \"mesh3d\"}], \"parcoords\": [{\"line\": {\"colorbar\": {\"outlinewidth\": 0, \"ticks\": \"\"}}, \"type\": \"parcoords\"}], \"pie\": [{\"automargin\": true, \"type\": \"pie\"}], \"scatter\": [{\"marker\": {\"colorbar\": {\"outlinewidth\": 0, \"ticks\": \"\"}}, \"type\": \"scatter\"}], \"scatter3d\": [{\"line\": {\"colorbar\": {\"outlinewidth\": 0, \"ticks\": \"\"}}, \"marker\": {\"colorbar\": {\"outlinewidth\": 0, \"ticks\": \"\"}}, \"type\": \"scatter3d\"}], \"scattercarpet\": [{\"marker\": {\"colorbar\": {\"outlinewidth\": 0, \"ticks\": \"\"}}, \"type\": \"scattercarpet\"}], \"scattergeo\": [{\"marker\": {\"colorbar\": {\"outlinewidth\": 0, \"ticks\": \"\"}}, \"type\": \"scattergeo\"}], \"scattergl\": [{\"marker\": {\"colorbar\": {\"outlinewidth\": 0, \"ticks\": \"\"}}, \"type\": \"scattergl\"}], \"scattermapbox\": [{\"marker\": {\"colorbar\": {\"outlinewidth\": 0, \"ticks\": \"\"}}, \"type\": \"scattermapbox\"}], \"scatterpolar\": [{\"marker\": {\"colorbar\": {\"outlinewidth\": 0, \"ticks\": \"\"}}, \"type\": \"scatterpolar\"}], \"scatterpolargl\": [{\"marker\": {\"colorbar\": {\"outlinewidth\": 0, \"ticks\": \"\"}}, \"type\": \"scatterpolargl\"}], \"scatterternary\": [{\"marker\": {\"colorbar\": {\"outlinewidth\": 0, \"ticks\": \"\"}}, \"type\": \"scatterternary\"}], \"surface\": [{\"colorbar\": {\"outlinewidth\": 0, \"ticks\": \"\"}, \"colorscale\": [[0.0, \"#0d0887\"], [0.1111111111111111, \"#46039f\"], [0.2222222222222222, \"#7201a8\"], [0.3333333333333333, \"#9c179e\"], [0.4444444444444444, \"#bd3786\"], [0.5555555555555556, \"#d8576b\"], [0.6666666666666666, \"#ed7953\"], [0.7777777777777778, \"#fb9f3a\"], [0.8888888888888888, \"#fdca26\"], [1.0, \"#f0f921\"]], \"type\": \"surface\"}], \"table\": [{\"cells\": {\"fill\": {\"color\": \"#EBF0F8\"}, \"line\": {\"color\": \"white\"}}, \"header\": {\"fill\": {\"color\": \"#C8D4E3\"}, \"line\": {\"color\": \"white\"}}, \"type\": \"table\"}]}, \"layout\": {\"annotationdefaults\": {\"arrowcolor\": \"#2a3f5f\", \"arrowhead\": 0, \"arrowwidth\": 1}, \"coloraxis\": {\"colorbar\": {\"outlinewidth\": 0, \"ticks\": \"\"}}, \"colorscale\": {\"diverging\": [[0, \"#8e0152\"], [0.1, \"#c51b7d\"], [0.2, \"#de77ae\"], [0.3, \"#f1b6da\"], [0.4, \"#fde0ef\"], [0.5, \"#f7f7f7\"], [0.6, \"#e6f5d0\"], [0.7, \"#b8e186\"], [0.8, \"#7fbc41\"], [0.9, \"#4d9221\"], [1, \"#276419\"]], \"sequential\": [[0.0, \"#0d0887\"], [0.1111111111111111, \"#46039f\"], [0.2222222222222222, \"#7201a8\"], [0.3333333333333333, \"#9c179e\"], [0.4444444444444444, \"#bd3786\"], [0.5555555555555556, \"#d8576b\"], [0.6666666666666666, \"#ed7953\"], [0.7777777777777778, \"#fb9f3a\"], [0.8888888888888888, \"#fdca26\"], [1.0, \"#f0f921\"]], \"sequentialminus\": [[0.0, \"#0d0887\"], [0.1111111111111111, \"#46039f\"], [0.2222222222222222, \"#7201a8\"], [0.3333333333333333, \"#9c179e\"], [0.4444444444444444, \"#bd3786\"], [0.5555555555555556, \"#d8576b\"], [0.6666666666666666, \"#ed7953\"], [0.7777777777777778, \"#fb9f3a\"], [0.8888888888888888, \"#fdca26\"], [1.0, \"#f0f921\"]]}, \"colorway\": [\"#636efa\", \"#EF553B\", \"#00cc96\", \"#ab63fa\", \"#FFA15A\", \"#19d3f3\", \"#FF6692\", \"#B6E880\", \"#FF97FF\", \"#FECB52\"], \"font\": {\"color\": \"#2a3f5f\"}, \"geo\": {\"bgcolor\": \"white\", \"lakecolor\": \"white\", \"landcolor\": \"#E5ECF6\", \"showlakes\": true, \"showland\": true, \"subunitcolor\": \"white\"}, \"hoverlabel\": {\"align\": \"left\"}, \"hovermode\": \"closest\", \"mapbox\": {\"style\": \"light\"}, \"paper_bgcolor\": \"white\", \"plot_bgcolor\": \"#E5ECF6\", \"polar\": {\"angularaxis\": {\"gridcolor\": \"white\", \"linecolor\": \"white\", \"ticks\": \"\"}, \"bgcolor\": \"#E5ECF6\", \"radialaxis\": {\"gridcolor\": \"white\", \"linecolor\": \"white\", \"ticks\": \"\"}}, \"scene\": {\"xaxis\": {\"backgroundcolor\": \"#E5ECF6\", \"gridcolor\": \"white\", \"gridwidth\": 2, \"linecolor\": \"white\", \"showbackground\": true, \"ticks\": \"\", \"zerolinecolor\": \"white\"}, \"yaxis\": {\"backgroundcolor\": \"#E5ECF6\", \"gridcolor\": \"white\", \"gridwidth\": 2, \"linecolor\": \"white\", \"showbackground\": true, \"ticks\": \"\", \"zerolinecolor\": \"white\"}, \"zaxis\": {\"backgroundcolor\": \"#E5ECF6\", \"gridcolor\": \"white\", \"gridwidth\": 2, \"linecolor\": \"white\", \"showbackground\": true, \"ticks\": \"\", \"zerolinecolor\": \"white\"}}, \"shapedefaults\": {\"line\": {\"color\": \"#2a3f5f\"}}, \"ternary\": {\"aaxis\": {\"gridcolor\": \"white\", \"linecolor\": \"white\", \"ticks\": \"\"}, \"baxis\": {\"gridcolor\": \"white\", \"linecolor\": \"white\", \"ticks\": \"\"}, \"bgcolor\": \"#E5ECF6\", \"caxis\": {\"gridcolor\": \"white\", \"linecolor\": \"white\", \"ticks\": \"\"}}, \"title\": {\"x\": 0.05}, \"xaxis\": {\"automargin\": true, \"gridcolor\": \"white\", \"linecolor\": \"white\", \"ticks\": \"\", \"title\": {\"standoff\": 15}, \"zerolinecolor\": \"white\", \"zerolinewidth\": 2}, \"yaxis\": {\"automargin\": true, \"gridcolor\": \"white\", \"linecolor\": \"white\", \"ticks\": \"\", \"title\": {\"standoff\": 15}, \"zerolinecolor\": \"white\", \"zerolinewidth\": 2}}}, \"title\": {\"text\": \"Trend of Coronavirus Cases in Odisha (Cumulative cases)\"}},\n",
       "                        {\"responsive\": true}\n",
       "                    ).then(function(){\n",
       "                            \n",
       "var gd = document.getElementById('57c0806b-9dd2-4ec7-92b9-118543d71680');\n",
       "var x = new MutationObserver(function (mutations, observer) {{\n",
       "        var display = window.getComputedStyle(gd).display;\n",
       "        if (!display || display === 'none') {{\n",
       "            console.log([gd, 'removed!']);\n",
       "            Plotly.purge(gd);\n",
       "            observer.disconnect();\n",
       "        }}\n",
       "}});\n",
       "\n",
       "// Listen for the removal of the full notebook cells\n",
       "var notebookContainer = gd.closest('#notebook-container');\n",
       "if (notebookContainer) {{\n",
       "    x.observe(notebookContainer, {childList: true});\n",
       "}}\n",
       "\n",
       "// Listen for the clearing of the current output cell\n",
       "var outputEl = gd.closest('.output');\n",
       "if (outputEl) {{\n",
       "    x.observe(outputEl, {childList: true});\n",
       "}}\n",
       "\n",
       "                        })\n",
       "                };\n",
       "                });\n",
       "            </script>\n",
       "        </div>"
      ]
     },
     "metadata": {},
     "output_type": "display_data"
    },
    {
     "data": {
      "application/vnd.plotly.v1+json": {
       "config": {
        "plotlyServerURL": "https://plot.ly"
       },
       "data": [
        {
         "alignmentgroup": "True",
         "hovertemplate": "Date=%{x}<br>Total Confirmed cases=%{y}<extra></extra>",
         "legendgroup": "",
         "marker": {
          "color": "#636efa"
         },
         "name": "",
         "offsetgroup": "",
         "orientation": "v",
         "showlegend": false,
         "textposition": "auto",
         "type": "bar",
         "x": [
          "2020-03-16T00:00:00",
          "2020-03-17T00:00:00",
          "2020-03-18T00:00:00",
          "2020-03-19T00:00:00",
          "2020-03-20T00:00:00",
          "2020-03-21T00:00:00",
          "2020-03-22T00:00:00",
          "2020-03-23T00:00:00",
          "2020-03-24T00:00:00",
          "2020-03-25T00:00:00",
          "2020-03-26T00:00:00",
          "2020-03-27T00:00:00",
          "2020-03-28T00:00:00",
          "2020-03-29T00:00:00",
          "2020-03-30T00:00:00",
          "2020-03-31T00:00:00",
          "2020-04-01T00:00:00",
          "2020-04-02T00:00:00",
          "2020-04-03T00:00:00",
          "2020-04-04T00:00:00",
          "2020-04-05T00:00:00",
          "2020-04-06T00:00:00",
          "2020-04-07T00:00:00",
          "2020-04-08T00:00:00",
          "2020-04-09T00:00:00",
          "2020-04-10T00:00:00",
          "2020-04-11T00:00:00",
          "2020-04-12T00:00:00",
          "2020-04-13T00:00:00",
          "2020-04-14T00:00:00",
          "2020-04-15T00:00:00",
          "2020-04-16T00:00:00",
          "2020-04-17T00:00:00",
          "2020-04-18T00:00:00",
          "2020-04-19T00:00:00",
          "2020-04-20T00:00:00",
          "2020-04-21T00:00:00",
          "2020-04-22T00:00:00",
          "2020-04-23T00:00:00",
          "2020-04-24T00:00:00",
          "2020-04-25T00:00:00",
          "2020-04-26T00:00:00",
          "2020-04-27T00:00:00",
          "2020-04-28T00:00:00",
          "2020-04-29T00:00:00",
          "2020-04-30T00:00:00",
          "2020-05-01T00:00:00",
          "2020-05-02T00:00:00",
          "2020-05-03T00:00:00",
          "2020-05-04T00:00:00",
          "2020-05-05T00:00:00",
          "2020-05-06T00:00:00",
          "2020-05-07T00:00:00",
          "2020-05-08T00:00:00",
          "2020-05-09T00:00:00",
          "2020-05-10T00:00:00",
          "2020-05-11T00:00:00",
          "2020-05-12T00:00:00",
          "2020-05-13T00:00:00",
          "2020-05-14T00:00:00",
          "2020-05-15T00:00:00",
          "2020-05-16T00:00:00",
          "2020-05-17T00:00:00"
         ],
         "xaxis": "x",
         "y": [
          1,
          1,
          1,
          1,
          1,
          2,
          2,
          2,
          2,
          2,
          2,
          2,
          3,
          3,
          3,
          3,
          4,
          4,
          5,
          5,
          20,
          21,
          21,
          42,
          42,
          44,
          48,
          50,
          54,
          55,
          60,
          60,
          60,
          60,
          61,
          68,
          74,
          79,
          83,
          90,
          94,
          94,
          103,
          118,
          118,
          125,
          142,
          149,
          157,
          162,
          169,
          175,
          185,
          219,
          271,
          294,
          377,
          414,
          437,
          538,
          611,
          672,
          737
         ],
         "yaxis": "y"
        }
       ],
       "layout": {
        "barmode": "group",
        "height": 400,
        "legend": {
         "tracegroupgap": 0
        },
        "margin": {
         "t": 60
        },
        "plot_bgcolor": "rgb(230, 230, 230)",
        "template": {
         "data": {
          "bar": [
           {
            "error_x": {
             "color": "#2a3f5f"
            },
            "error_y": {
             "color": "#2a3f5f"
            },
            "marker": {
             "line": {
              "color": "#E5ECF6",
              "width": 0.5
             }
            },
            "type": "bar"
           }
          ],
          "barpolar": [
           {
            "marker": {
             "line": {
              "color": "#E5ECF6",
              "width": 0.5
             }
            },
            "type": "barpolar"
           }
          ],
          "carpet": [
           {
            "aaxis": {
             "endlinecolor": "#2a3f5f",
             "gridcolor": "white",
             "linecolor": "white",
             "minorgridcolor": "white",
             "startlinecolor": "#2a3f5f"
            },
            "baxis": {
             "endlinecolor": "#2a3f5f",
             "gridcolor": "white",
             "linecolor": "white",
             "minorgridcolor": "white",
             "startlinecolor": "#2a3f5f"
            },
            "type": "carpet"
           }
          ],
          "choropleth": [
           {
            "colorbar": {
             "outlinewidth": 0,
             "ticks": ""
            },
            "type": "choropleth"
           }
          ],
          "contour": [
           {
            "colorbar": {
             "outlinewidth": 0,
             "ticks": ""
            },
            "colorscale": [
             [
              0,
              "#0d0887"
             ],
             [
              0.1111111111111111,
              "#46039f"
             ],
             [
              0.2222222222222222,
              "#7201a8"
             ],
             [
              0.3333333333333333,
              "#9c179e"
             ],
             [
              0.4444444444444444,
              "#bd3786"
             ],
             [
              0.5555555555555556,
              "#d8576b"
             ],
             [
              0.6666666666666666,
              "#ed7953"
             ],
             [
              0.7777777777777778,
              "#fb9f3a"
             ],
             [
              0.8888888888888888,
              "#fdca26"
             ],
             [
              1,
              "#f0f921"
             ]
            ],
            "type": "contour"
           }
          ],
          "contourcarpet": [
           {
            "colorbar": {
             "outlinewidth": 0,
             "ticks": ""
            },
            "type": "contourcarpet"
           }
          ],
          "heatmap": [
           {
            "colorbar": {
             "outlinewidth": 0,
             "ticks": ""
            },
            "colorscale": [
             [
              0,
              "#0d0887"
             ],
             [
              0.1111111111111111,
              "#46039f"
             ],
             [
              0.2222222222222222,
              "#7201a8"
             ],
             [
              0.3333333333333333,
              "#9c179e"
             ],
             [
              0.4444444444444444,
              "#bd3786"
             ],
             [
              0.5555555555555556,
              "#d8576b"
             ],
             [
              0.6666666666666666,
              "#ed7953"
             ],
             [
              0.7777777777777778,
              "#fb9f3a"
             ],
             [
              0.8888888888888888,
              "#fdca26"
             ],
             [
              1,
              "#f0f921"
             ]
            ],
            "type": "heatmap"
           }
          ],
          "heatmapgl": [
           {
            "colorbar": {
             "outlinewidth": 0,
             "ticks": ""
            },
            "colorscale": [
             [
              0,
              "#0d0887"
             ],
             [
              0.1111111111111111,
              "#46039f"
             ],
             [
              0.2222222222222222,
              "#7201a8"
             ],
             [
              0.3333333333333333,
              "#9c179e"
             ],
             [
              0.4444444444444444,
              "#bd3786"
             ],
             [
              0.5555555555555556,
              "#d8576b"
             ],
             [
              0.6666666666666666,
              "#ed7953"
             ],
             [
              0.7777777777777778,
              "#fb9f3a"
             ],
             [
              0.8888888888888888,
              "#fdca26"
             ],
             [
              1,
              "#f0f921"
             ]
            ],
            "type": "heatmapgl"
           }
          ],
          "histogram": [
           {
            "marker": {
             "colorbar": {
              "outlinewidth": 0,
              "ticks": ""
             }
            },
            "type": "histogram"
           }
          ],
          "histogram2d": [
           {
            "colorbar": {
             "outlinewidth": 0,
             "ticks": ""
            },
            "colorscale": [
             [
              0,
              "#0d0887"
             ],
             [
              0.1111111111111111,
              "#46039f"
             ],
             [
              0.2222222222222222,
              "#7201a8"
             ],
             [
              0.3333333333333333,
              "#9c179e"
             ],
             [
              0.4444444444444444,
              "#bd3786"
             ],
             [
              0.5555555555555556,
              "#d8576b"
             ],
             [
              0.6666666666666666,
              "#ed7953"
             ],
             [
              0.7777777777777778,
              "#fb9f3a"
             ],
             [
              0.8888888888888888,
              "#fdca26"
             ],
             [
              1,
              "#f0f921"
             ]
            ],
            "type": "histogram2d"
           }
          ],
          "histogram2dcontour": [
           {
            "colorbar": {
             "outlinewidth": 0,
             "ticks": ""
            },
            "colorscale": [
             [
              0,
              "#0d0887"
             ],
             [
              0.1111111111111111,
              "#46039f"
             ],
             [
              0.2222222222222222,
              "#7201a8"
             ],
             [
              0.3333333333333333,
              "#9c179e"
             ],
             [
              0.4444444444444444,
              "#bd3786"
             ],
             [
              0.5555555555555556,
              "#d8576b"
             ],
             [
              0.6666666666666666,
              "#ed7953"
             ],
             [
              0.7777777777777778,
              "#fb9f3a"
             ],
             [
              0.8888888888888888,
              "#fdca26"
             ],
             [
              1,
              "#f0f921"
             ]
            ],
            "type": "histogram2dcontour"
           }
          ],
          "mesh3d": [
           {
            "colorbar": {
             "outlinewidth": 0,
             "ticks": ""
            },
            "type": "mesh3d"
           }
          ],
          "parcoords": [
           {
            "line": {
             "colorbar": {
              "outlinewidth": 0,
              "ticks": ""
             }
            },
            "type": "parcoords"
           }
          ],
          "pie": [
           {
            "automargin": true,
            "type": "pie"
           }
          ],
          "scatter": [
           {
            "marker": {
             "colorbar": {
              "outlinewidth": 0,
              "ticks": ""
             }
            },
            "type": "scatter"
           }
          ],
          "scatter3d": [
           {
            "line": {
             "colorbar": {
              "outlinewidth": 0,
              "ticks": ""
             }
            },
            "marker": {
             "colorbar": {
              "outlinewidth": 0,
              "ticks": ""
             }
            },
            "type": "scatter3d"
           }
          ],
          "scattercarpet": [
           {
            "marker": {
             "colorbar": {
              "outlinewidth": 0,
              "ticks": ""
             }
            },
            "type": "scattercarpet"
           }
          ],
          "scattergeo": [
           {
            "marker": {
             "colorbar": {
              "outlinewidth": 0,
              "ticks": ""
             }
            },
            "type": "scattergeo"
           }
          ],
          "scattergl": [
           {
            "marker": {
             "colorbar": {
              "outlinewidth": 0,
              "ticks": ""
             }
            },
            "type": "scattergl"
           }
          ],
          "scattermapbox": [
           {
            "marker": {
             "colorbar": {
              "outlinewidth": 0,
              "ticks": ""
             }
            },
            "type": "scattermapbox"
           }
          ],
          "scatterpolar": [
           {
            "marker": {
             "colorbar": {
              "outlinewidth": 0,
              "ticks": ""
             }
            },
            "type": "scatterpolar"
           }
          ],
          "scatterpolargl": [
           {
            "marker": {
             "colorbar": {
              "outlinewidth": 0,
              "ticks": ""
             }
            },
            "type": "scatterpolargl"
           }
          ],
          "scatterternary": [
           {
            "marker": {
             "colorbar": {
              "outlinewidth": 0,
              "ticks": ""
             }
            },
            "type": "scatterternary"
           }
          ],
          "surface": [
           {
            "colorbar": {
             "outlinewidth": 0,
             "ticks": ""
            },
            "colorscale": [
             [
              0,
              "#0d0887"
             ],
             [
              0.1111111111111111,
              "#46039f"
             ],
             [
              0.2222222222222222,
              "#7201a8"
             ],
             [
              0.3333333333333333,
              "#9c179e"
             ],
             [
              0.4444444444444444,
              "#bd3786"
             ],
             [
              0.5555555555555556,
              "#d8576b"
             ],
             [
              0.6666666666666666,
              "#ed7953"
             ],
             [
              0.7777777777777778,
              "#fb9f3a"
             ],
             [
              0.8888888888888888,
              "#fdca26"
             ],
             [
              1,
              "#f0f921"
             ]
            ],
            "type": "surface"
           }
          ],
          "table": [
           {
            "cells": {
             "fill": {
              "color": "#EBF0F8"
             },
             "line": {
              "color": "white"
             }
            },
            "header": {
             "fill": {
              "color": "#C8D4E3"
             },
             "line": {
              "color": "white"
             }
            },
            "type": "table"
           }
          ]
         },
         "layout": {
          "annotationdefaults": {
           "arrowcolor": "#2a3f5f",
           "arrowhead": 0,
           "arrowwidth": 1
          },
          "coloraxis": {
           "colorbar": {
            "outlinewidth": 0,
            "ticks": ""
           }
          },
          "colorscale": {
           "diverging": [
            [
             0,
             "#8e0152"
            ],
            [
             0.1,
             "#c51b7d"
            ],
            [
             0.2,
             "#de77ae"
            ],
            [
             0.3,
             "#f1b6da"
            ],
            [
             0.4,
             "#fde0ef"
            ],
            [
             0.5,
             "#f7f7f7"
            ],
            [
             0.6,
             "#e6f5d0"
            ],
            [
             0.7,
             "#b8e186"
            ],
            [
             0.8,
             "#7fbc41"
            ],
            [
             0.9,
             "#4d9221"
            ],
            [
             1,
             "#276419"
            ]
           ],
           "sequential": [
            [
             0,
             "#0d0887"
            ],
            [
             0.1111111111111111,
             "#46039f"
            ],
            [
             0.2222222222222222,
             "#7201a8"
            ],
            [
             0.3333333333333333,
             "#9c179e"
            ],
            [
             0.4444444444444444,
             "#bd3786"
            ],
            [
             0.5555555555555556,
             "#d8576b"
            ],
            [
             0.6666666666666666,
             "#ed7953"
            ],
            [
             0.7777777777777778,
             "#fb9f3a"
            ],
            [
             0.8888888888888888,
             "#fdca26"
            ],
            [
             1,
             "#f0f921"
            ]
           ],
           "sequentialminus": [
            [
             0,
             "#0d0887"
            ],
            [
             0.1111111111111111,
             "#46039f"
            ],
            [
             0.2222222222222222,
             "#7201a8"
            ],
            [
             0.3333333333333333,
             "#9c179e"
            ],
            [
             0.4444444444444444,
             "#bd3786"
            ],
            [
             0.5555555555555556,
             "#d8576b"
            ],
            [
             0.6666666666666666,
             "#ed7953"
            ],
            [
             0.7777777777777778,
             "#fb9f3a"
            ],
            [
             0.8888888888888888,
             "#fdca26"
            ],
            [
             1,
             "#f0f921"
            ]
           ]
          },
          "colorway": [
           "#636efa",
           "#EF553B",
           "#00cc96",
           "#ab63fa",
           "#FFA15A",
           "#19d3f3",
           "#FF6692",
           "#B6E880",
           "#FF97FF",
           "#FECB52"
          ],
          "font": {
           "color": "#2a3f5f"
          },
          "geo": {
           "bgcolor": "white",
           "lakecolor": "white",
           "landcolor": "#E5ECF6",
           "showlakes": true,
           "showland": true,
           "subunitcolor": "white"
          },
          "hoverlabel": {
           "align": "left"
          },
          "hovermode": "closest",
          "mapbox": {
           "style": "light"
          },
          "paper_bgcolor": "white",
          "plot_bgcolor": "#E5ECF6",
          "polar": {
           "angularaxis": {
            "gridcolor": "white",
            "linecolor": "white",
            "ticks": ""
           },
           "bgcolor": "#E5ECF6",
           "radialaxis": {
            "gridcolor": "white",
            "linecolor": "white",
            "ticks": ""
           }
          },
          "scene": {
           "xaxis": {
            "backgroundcolor": "#E5ECF6",
            "gridcolor": "white",
            "gridwidth": 2,
            "linecolor": "white",
            "showbackground": true,
            "ticks": "",
            "zerolinecolor": "white"
           },
           "yaxis": {
            "backgroundcolor": "#E5ECF6",
            "gridcolor": "white",
            "gridwidth": 2,
            "linecolor": "white",
            "showbackground": true,
            "ticks": "",
            "zerolinecolor": "white"
           },
           "zaxis": {
            "backgroundcolor": "#E5ECF6",
            "gridcolor": "white",
            "gridwidth": 2,
            "linecolor": "white",
            "showbackground": true,
            "ticks": "",
            "zerolinecolor": "white"
           }
          },
          "shapedefaults": {
           "line": {
            "color": "#2a3f5f"
           }
          },
          "ternary": {
           "aaxis": {
            "gridcolor": "white",
            "linecolor": "white",
            "ticks": ""
           },
           "baxis": {
            "gridcolor": "white",
            "linecolor": "white",
            "ticks": ""
           },
           "bgcolor": "#E5ECF6",
           "caxis": {
            "gridcolor": "white",
            "linecolor": "white",
            "ticks": ""
           }
          },
          "title": {
           "x": 0.05
          },
          "xaxis": {
           "automargin": true,
           "gridcolor": "white",
           "linecolor": "white",
           "ticks": "",
           "title": {
            "standoff": 15
           },
           "zerolinecolor": "white",
           "zerolinewidth": 2
          },
          "yaxis": {
           "automargin": true,
           "gridcolor": "white",
           "linecolor": "white",
           "ticks": "",
           "title": {
            "standoff": 15
           },
           "zerolinecolor": "white",
           "zerolinewidth": 2
          }
         }
        },
        "title": {
         "text": "Coronavirus Cases in Odisha on daily basis"
        },
        "xaxis": {
         "anchor": "y",
         "domain": [
          0,
          1
         ],
         "title": {
          "text": "Date"
         }
        },
        "yaxis": {
         "anchor": "x",
         "domain": [
          0,
          1
         ],
         "title": {
          "text": "Total Confirmed cases"
         }
        }
       }
      },
      "text/html": [
       "<div>\n",
       "        \n",
       "        \n",
       "            <div id=\"df00db4e-74ab-44db-8637-d8d43edfd37b\" class=\"plotly-graph-div\" style=\"height:400px; width:100%;\"></div>\n",
       "            <script type=\"text/javascript\">\n",
       "                require([\"plotly\"], function(Plotly) {\n",
       "                    window.PLOTLYENV=window.PLOTLYENV || {};\n",
       "                    \n",
       "                if (document.getElementById(\"df00db4e-74ab-44db-8637-d8d43edfd37b\")) {\n",
       "                    Plotly.newPlot(\n",
       "                        'df00db4e-74ab-44db-8637-d8d43edfd37b',\n",
       "                        [{\"alignmentgroup\": \"True\", \"hovertemplate\": \"Date=%{x}<br>Total Confirmed cases=%{y}<extra></extra>\", \"legendgroup\": \"\", \"marker\": {\"color\": \"#636efa\"}, \"name\": \"\", \"offsetgroup\": \"\", \"orientation\": \"v\", \"showlegend\": false, \"textposition\": \"auto\", \"type\": \"bar\", \"x\": [\"2020-03-16T00:00:00\", \"2020-03-17T00:00:00\", \"2020-03-18T00:00:00\", \"2020-03-19T00:00:00\", \"2020-03-20T00:00:00\", \"2020-03-21T00:00:00\", \"2020-03-22T00:00:00\", \"2020-03-23T00:00:00\", \"2020-03-24T00:00:00\", \"2020-03-25T00:00:00\", \"2020-03-26T00:00:00\", \"2020-03-27T00:00:00\", \"2020-03-28T00:00:00\", \"2020-03-29T00:00:00\", \"2020-03-30T00:00:00\", \"2020-03-31T00:00:00\", \"2020-04-01T00:00:00\", \"2020-04-02T00:00:00\", \"2020-04-03T00:00:00\", \"2020-04-04T00:00:00\", \"2020-04-05T00:00:00\", \"2020-04-06T00:00:00\", \"2020-04-07T00:00:00\", \"2020-04-08T00:00:00\", \"2020-04-09T00:00:00\", \"2020-04-10T00:00:00\", \"2020-04-11T00:00:00\", \"2020-04-12T00:00:00\", \"2020-04-13T00:00:00\", \"2020-04-14T00:00:00\", \"2020-04-15T00:00:00\", \"2020-04-16T00:00:00\", \"2020-04-17T00:00:00\", \"2020-04-18T00:00:00\", \"2020-04-19T00:00:00\", \"2020-04-20T00:00:00\", \"2020-04-21T00:00:00\", \"2020-04-22T00:00:00\", \"2020-04-23T00:00:00\", \"2020-04-24T00:00:00\", \"2020-04-25T00:00:00\", \"2020-04-26T00:00:00\", \"2020-04-27T00:00:00\", \"2020-04-28T00:00:00\", \"2020-04-29T00:00:00\", \"2020-04-30T00:00:00\", \"2020-05-01T00:00:00\", \"2020-05-02T00:00:00\", \"2020-05-03T00:00:00\", \"2020-05-04T00:00:00\", \"2020-05-05T00:00:00\", \"2020-05-06T00:00:00\", \"2020-05-07T00:00:00\", \"2020-05-08T00:00:00\", \"2020-05-09T00:00:00\", \"2020-05-10T00:00:00\", \"2020-05-11T00:00:00\", \"2020-05-12T00:00:00\", \"2020-05-13T00:00:00\", \"2020-05-14T00:00:00\", \"2020-05-15T00:00:00\", \"2020-05-16T00:00:00\", \"2020-05-17T00:00:00\"], \"xaxis\": \"x\", \"y\": [1, 1, 1, 1, 1, 2, 2, 2, 2, 2, 2, 2, 3, 3, 3, 3, 4, 4, 5, 5, 20, 21, 21, 42, 42, 44, 48, 50, 54, 55, 60, 60, 60, 60, 61, 68, 74, 79, 83, 90, 94, 94, 103, 118, 118, 125, 142, 149, 157, 162, 169, 175, 185, 219, 271, 294, 377, 414, 437, 538, 611, 672, 737], \"yaxis\": \"y\"}],\n",
       "                        {\"barmode\": \"group\", \"height\": 400, \"legend\": {\"tracegroupgap\": 0}, \"margin\": {\"t\": 60}, \"plot_bgcolor\": \"rgb(230, 230, 230)\", \"template\": {\"data\": {\"bar\": [{\"error_x\": {\"color\": \"#2a3f5f\"}, \"error_y\": {\"color\": \"#2a3f5f\"}, \"marker\": {\"line\": {\"color\": \"#E5ECF6\", \"width\": 0.5}}, \"type\": \"bar\"}], \"barpolar\": [{\"marker\": {\"line\": {\"color\": \"#E5ECF6\", \"width\": 0.5}}, \"type\": \"barpolar\"}], \"carpet\": [{\"aaxis\": {\"endlinecolor\": \"#2a3f5f\", \"gridcolor\": \"white\", \"linecolor\": \"white\", \"minorgridcolor\": \"white\", \"startlinecolor\": \"#2a3f5f\"}, \"baxis\": {\"endlinecolor\": \"#2a3f5f\", \"gridcolor\": \"white\", \"linecolor\": \"white\", \"minorgridcolor\": \"white\", \"startlinecolor\": \"#2a3f5f\"}, \"type\": \"carpet\"}], \"choropleth\": [{\"colorbar\": {\"outlinewidth\": 0, \"ticks\": \"\"}, \"type\": \"choropleth\"}], \"contour\": [{\"colorbar\": {\"outlinewidth\": 0, \"ticks\": \"\"}, \"colorscale\": [[0.0, \"#0d0887\"], [0.1111111111111111, \"#46039f\"], [0.2222222222222222, \"#7201a8\"], [0.3333333333333333, \"#9c179e\"], [0.4444444444444444, \"#bd3786\"], [0.5555555555555556, \"#d8576b\"], [0.6666666666666666, \"#ed7953\"], [0.7777777777777778, \"#fb9f3a\"], [0.8888888888888888, \"#fdca26\"], [1.0, \"#f0f921\"]], \"type\": \"contour\"}], \"contourcarpet\": [{\"colorbar\": {\"outlinewidth\": 0, \"ticks\": \"\"}, \"type\": \"contourcarpet\"}], \"heatmap\": [{\"colorbar\": {\"outlinewidth\": 0, \"ticks\": \"\"}, \"colorscale\": [[0.0, \"#0d0887\"], [0.1111111111111111, \"#46039f\"], [0.2222222222222222, \"#7201a8\"], [0.3333333333333333, \"#9c179e\"], [0.4444444444444444, \"#bd3786\"], [0.5555555555555556, \"#d8576b\"], [0.6666666666666666, \"#ed7953\"], [0.7777777777777778, \"#fb9f3a\"], [0.8888888888888888, \"#fdca26\"], [1.0, \"#f0f921\"]], \"type\": \"heatmap\"}], \"heatmapgl\": [{\"colorbar\": {\"outlinewidth\": 0, \"ticks\": \"\"}, \"colorscale\": [[0.0, \"#0d0887\"], [0.1111111111111111, \"#46039f\"], [0.2222222222222222, \"#7201a8\"], [0.3333333333333333, \"#9c179e\"], [0.4444444444444444, \"#bd3786\"], [0.5555555555555556, \"#d8576b\"], [0.6666666666666666, \"#ed7953\"], [0.7777777777777778, \"#fb9f3a\"], [0.8888888888888888, \"#fdca26\"], [1.0, \"#f0f921\"]], \"type\": \"heatmapgl\"}], \"histogram\": [{\"marker\": {\"colorbar\": {\"outlinewidth\": 0, \"ticks\": \"\"}}, \"type\": \"histogram\"}], \"histogram2d\": [{\"colorbar\": {\"outlinewidth\": 0, \"ticks\": \"\"}, \"colorscale\": [[0.0, \"#0d0887\"], [0.1111111111111111, \"#46039f\"], [0.2222222222222222, \"#7201a8\"], [0.3333333333333333, \"#9c179e\"], [0.4444444444444444, \"#bd3786\"], [0.5555555555555556, \"#d8576b\"], [0.6666666666666666, \"#ed7953\"], [0.7777777777777778, \"#fb9f3a\"], [0.8888888888888888, \"#fdca26\"], [1.0, \"#f0f921\"]], \"type\": \"histogram2d\"}], \"histogram2dcontour\": [{\"colorbar\": {\"outlinewidth\": 0, \"ticks\": \"\"}, \"colorscale\": [[0.0, \"#0d0887\"], [0.1111111111111111, \"#46039f\"], [0.2222222222222222, \"#7201a8\"], [0.3333333333333333, \"#9c179e\"], [0.4444444444444444, \"#bd3786\"], [0.5555555555555556, \"#d8576b\"], [0.6666666666666666, \"#ed7953\"], [0.7777777777777778, \"#fb9f3a\"], [0.8888888888888888, \"#fdca26\"], [1.0, \"#f0f921\"]], \"type\": \"histogram2dcontour\"}], \"mesh3d\": [{\"colorbar\": {\"outlinewidth\": 0, \"ticks\": \"\"}, \"type\": \"mesh3d\"}], \"parcoords\": [{\"line\": {\"colorbar\": {\"outlinewidth\": 0, \"ticks\": \"\"}}, \"type\": \"parcoords\"}], \"pie\": [{\"automargin\": true, \"type\": \"pie\"}], \"scatter\": [{\"marker\": {\"colorbar\": {\"outlinewidth\": 0, \"ticks\": \"\"}}, \"type\": \"scatter\"}], \"scatter3d\": [{\"line\": {\"colorbar\": {\"outlinewidth\": 0, \"ticks\": \"\"}}, \"marker\": {\"colorbar\": {\"outlinewidth\": 0, \"ticks\": \"\"}}, \"type\": \"scatter3d\"}], \"scattercarpet\": [{\"marker\": {\"colorbar\": {\"outlinewidth\": 0, \"ticks\": \"\"}}, \"type\": \"scattercarpet\"}], \"scattergeo\": [{\"marker\": {\"colorbar\": {\"outlinewidth\": 0, \"ticks\": \"\"}}, \"type\": \"scattergeo\"}], \"scattergl\": [{\"marker\": {\"colorbar\": {\"outlinewidth\": 0, \"ticks\": \"\"}}, \"type\": \"scattergl\"}], \"scattermapbox\": [{\"marker\": {\"colorbar\": {\"outlinewidth\": 0, \"ticks\": \"\"}}, \"type\": \"scattermapbox\"}], \"scatterpolar\": [{\"marker\": {\"colorbar\": {\"outlinewidth\": 0, \"ticks\": \"\"}}, \"type\": \"scatterpolar\"}], \"scatterpolargl\": [{\"marker\": {\"colorbar\": {\"outlinewidth\": 0, \"ticks\": \"\"}}, \"type\": \"scatterpolargl\"}], \"scatterternary\": [{\"marker\": {\"colorbar\": {\"outlinewidth\": 0, \"ticks\": \"\"}}, \"type\": \"scatterternary\"}], \"surface\": [{\"colorbar\": {\"outlinewidth\": 0, \"ticks\": \"\"}, \"colorscale\": [[0.0, \"#0d0887\"], [0.1111111111111111, \"#46039f\"], [0.2222222222222222, \"#7201a8\"], [0.3333333333333333, \"#9c179e\"], [0.4444444444444444, \"#bd3786\"], [0.5555555555555556, \"#d8576b\"], [0.6666666666666666, \"#ed7953\"], [0.7777777777777778, \"#fb9f3a\"], [0.8888888888888888, \"#fdca26\"], [1.0, \"#f0f921\"]], \"type\": \"surface\"}], \"table\": [{\"cells\": {\"fill\": {\"color\": \"#EBF0F8\"}, \"line\": {\"color\": \"white\"}}, \"header\": {\"fill\": {\"color\": \"#C8D4E3\"}, \"line\": {\"color\": \"white\"}}, \"type\": \"table\"}]}, \"layout\": {\"annotationdefaults\": {\"arrowcolor\": \"#2a3f5f\", \"arrowhead\": 0, \"arrowwidth\": 1}, \"coloraxis\": {\"colorbar\": {\"outlinewidth\": 0, \"ticks\": \"\"}}, \"colorscale\": {\"diverging\": [[0, \"#8e0152\"], [0.1, \"#c51b7d\"], [0.2, \"#de77ae\"], [0.3, \"#f1b6da\"], [0.4, \"#fde0ef\"], [0.5, \"#f7f7f7\"], [0.6, \"#e6f5d0\"], [0.7, \"#b8e186\"], [0.8, \"#7fbc41\"], [0.9, \"#4d9221\"], [1, \"#276419\"]], \"sequential\": [[0.0, \"#0d0887\"], [0.1111111111111111, \"#46039f\"], [0.2222222222222222, \"#7201a8\"], [0.3333333333333333, \"#9c179e\"], [0.4444444444444444, \"#bd3786\"], [0.5555555555555556, \"#d8576b\"], [0.6666666666666666, \"#ed7953\"], [0.7777777777777778, \"#fb9f3a\"], [0.8888888888888888, \"#fdca26\"], [1.0, \"#f0f921\"]], \"sequentialminus\": [[0.0, \"#0d0887\"], [0.1111111111111111, \"#46039f\"], [0.2222222222222222, \"#7201a8\"], [0.3333333333333333, \"#9c179e\"], [0.4444444444444444, \"#bd3786\"], [0.5555555555555556, \"#d8576b\"], [0.6666666666666666, \"#ed7953\"], [0.7777777777777778, \"#fb9f3a\"], [0.8888888888888888, \"#fdca26\"], [1.0, \"#f0f921\"]]}, \"colorway\": [\"#636efa\", \"#EF553B\", \"#00cc96\", \"#ab63fa\", \"#FFA15A\", \"#19d3f3\", \"#FF6692\", \"#B6E880\", \"#FF97FF\", \"#FECB52\"], \"font\": {\"color\": \"#2a3f5f\"}, \"geo\": {\"bgcolor\": \"white\", \"lakecolor\": \"white\", \"landcolor\": \"#E5ECF6\", \"showlakes\": true, \"showland\": true, \"subunitcolor\": \"white\"}, \"hoverlabel\": {\"align\": \"left\"}, \"hovermode\": \"closest\", \"mapbox\": {\"style\": \"light\"}, \"paper_bgcolor\": \"white\", \"plot_bgcolor\": \"#E5ECF6\", \"polar\": {\"angularaxis\": {\"gridcolor\": \"white\", \"linecolor\": \"white\", \"ticks\": \"\"}, \"bgcolor\": \"#E5ECF6\", \"radialaxis\": {\"gridcolor\": \"white\", \"linecolor\": \"white\", \"ticks\": \"\"}}, \"scene\": {\"xaxis\": {\"backgroundcolor\": \"#E5ECF6\", \"gridcolor\": \"white\", \"gridwidth\": 2, \"linecolor\": \"white\", \"showbackground\": true, \"ticks\": \"\", \"zerolinecolor\": \"white\"}, \"yaxis\": {\"backgroundcolor\": \"#E5ECF6\", \"gridcolor\": \"white\", \"gridwidth\": 2, \"linecolor\": \"white\", \"showbackground\": true, \"ticks\": \"\", \"zerolinecolor\": \"white\"}, \"zaxis\": {\"backgroundcolor\": \"#E5ECF6\", \"gridcolor\": \"white\", \"gridwidth\": 2, \"linecolor\": \"white\", \"showbackground\": true, \"ticks\": \"\", \"zerolinecolor\": \"white\"}}, \"shapedefaults\": {\"line\": {\"color\": \"#2a3f5f\"}}, \"ternary\": {\"aaxis\": {\"gridcolor\": \"white\", \"linecolor\": \"white\", \"ticks\": \"\"}, \"baxis\": {\"gridcolor\": \"white\", \"linecolor\": \"white\", \"ticks\": \"\"}, \"bgcolor\": \"#E5ECF6\", \"caxis\": {\"gridcolor\": \"white\", \"linecolor\": \"white\", \"ticks\": \"\"}}, \"title\": {\"x\": 0.05}, \"xaxis\": {\"automargin\": true, \"gridcolor\": \"white\", \"linecolor\": \"white\", \"ticks\": \"\", \"title\": {\"standoff\": 15}, \"zerolinecolor\": \"white\", \"zerolinewidth\": 2}, \"yaxis\": {\"automargin\": true, \"gridcolor\": \"white\", \"linecolor\": \"white\", \"ticks\": \"\", \"title\": {\"standoff\": 15}, \"zerolinecolor\": \"white\", \"zerolinewidth\": 2}}}, \"title\": {\"text\": \"Coronavirus Cases in Odisha on daily basis\"}, \"xaxis\": {\"anchor\": \"y\", \"domain\": [0.0, 1.0], \"title\": {\"text\": \"Date\"}}, \"yaxis\": {\"anchor\": \"x\", \"domain\": [0.0, 1.0], \"title\": {\"text\": \"Total Confirmed cases\"}}},\n",
       "                        {\"responsive\": true}\n",
       "                    ).then(function(){\n",
       "                            \n",
       "var gd = document.getElementById('df00db4e-74ab-44db-8637-d8d43edfd37b');\n",
       "var x = new MutationObserver(function (mutations, observer) {{\n",
       "        var display = window.getComputedStyle(gd).display;\n",
       "        if (!display || display === 'none') {{\n",
       "            console.log([gd, 'removed!']);\n",
       "            Plotly.purge(gd);\n",
       "            observer.disconnect();\n",
       "        }}\n",
       "}});\n",
       "\n",
       "// Listen for the removal of the full notebook cells\n",
       "var notebookContainer = gd.closest('#notebook-container');\n",
       "if (notebookContainer) {{\n",
       "    x.observe(notebookContainer, {childList: true});\n",
       "}}\n",
       "\n",
       "// Listen for the clearing of the current output cell\n",
       "var outputEl = gd.closest('.output');\n",
       "if (outputEl) {{\n",
       "    x.observe(outputEl, {childList: true});\n",
       "}}\n",
       "\n",
       "                        })\n",
       "                };\n",
       "                });\n",
       "            </script>\n",
       "        </div>"
      ]
     },
     "metadata": {},
     "output_type": "display_data"
    }
   ],
   "source": [
    "#Learn how to create interactive graphs using plotly\n",
    "# import plotly.graph_objects as go\n",
    "# Rise of COVID-19 cases in India\n",
    "s=input()\n",
    "sn=pd.read_excel('C:/Users/Sai Sarath/Desktop/Sem6/complete.xlsm',parse_dates=True,sheet_name=s)\n",
    "fig=go.Figure(data=go.Scatter(x=sn['Date'], y = sn['Total Confirmed cases'], mode='lines+markers',name='Total Cases'))\n",
    "fig.add_trace(go.Scatter(x=sn['Date'], y = sn['Cured/Discharged/Migrated'], mode='lines+markers',name='Total Cured',line_color='green'))\n",
    "fig.add_trace(go.Scatter(x=sn['Date'], y = sn['Death'], mode='lines+markers',name='Total Death',line_color='red'))\n",
    "fig.update_layout(title_text='Trend of Coronavirus Cases in '+s+' (Cumulative cases)',plot_bgcolor='rgb(230, 230, 230)')\n",
    "fig.show()\n",
    "\n",
    "# New COVID-19 cases reported daily in India\n",
    "\n",
    "import plotly.express as px\n",
    "fig = px.bar(sn, x=\"Date\", y=\"Total Confirmed cases\", barmode='group', height=400)\n",
    "fig.update_layout(title_text='Coronavirus Cases in '+s+' on daily basis',plot_bgcolor='rgb(230, 230, 230)')\n",
    "\n",
    "fig.show()"
   ]
  },
  {
   "cell_type": "code",
   "execution_count": null,
   "metadata": {},
   "outputs": [],
   "source": []
  }
 ],
 "metadata": {
  "kernelspec": {
   "display_name": "Python 3",
   "language": "python",
   "name": "python3"
  },
  "language_info": {
   "codemirror_mode": {
    "name": "ipython",
    "version": 3
   },
   "file_extension": ".py",
   "mimetype": "text/x-python",
   "name": "python",
   "nbconvert_exporter": "python",
   "pygments_lexer": "ipython3",
   "version": "3.7.0"
  }
 },
 "nbformat": 4,
 "nbformat_minor": 2
}
